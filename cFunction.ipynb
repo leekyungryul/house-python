{
 "cells": [
  {
   "cell_type": "code",
   "execution_count": 1,
   "metadata": {},
   "outputs": [],
   "source": [
    "def postweek(yearweek, Wantweek):\n",
    "    if type(Wantweek) == str : Wantweek = int(Wantweek)    \n",
    "    if type(yearweek) == int : yearweek = str(yearweek) \n",
    "    inputyear = int(yearweek[:4])\n",
    "    inputweek = int(yearweek[4:])\n",
    "    i = inputyear\n",
    "    Maxweek = isoweek.Week.last_week_of_year(inputyear)[1]\n",
    "    result = int((inputweek + Wantweek) - Maxweek)\n",
    "    year = inputyear\n",
    "    if (result <= 0):\n",
    "        if len(str(inputweek+Wantweek)) == 1 :\n",
    "            resultYearweek = str(year) + \"0\" + str(inputweek+Wantweek) \n",
    "        else:\n",
    "            resultYearweek = str(year) + str(inputweek+Wantweek) \n",
    "        return resultYearweek\n",
    "    else:\n",
    "        while(True):\n",
    "            year = year + 1\n",
    "            maxWeek = isoweek.Week.last_week_of_year(year)[1]\n",
    "            if result == maxWeek:\n",
    "                resultYearweek = str(year) + str(maxWeek)\n",
    "                break;\n",
    "            elif result < maxWeek:\n",
    "                if len(str(result)) == 1:\n",
    "                    resultYearweek = str(year) + \"0\" + str(result)\n",
    "                else:\n",
    "                    resultYearweek = str(year) + str(result)\n",
    "                break;\n",
    "            result  = result - maxWeek\n",
    "    return resultYearweek"
   ]
  },
  {
   "cell_type": "code",
   "execution_count": null,
   "metadata": {},
   "outputs": [],
   "source": []
  }
 ],
 "metadata": {
  "kernelspec": {
   "display_name": "Python 3",
   "language": "python",
   "name": "python3"
  },
  "language_info": {
   "codemirror_mode": {
    "name": "ipython",
    "version": 3
   },
   "file_extension": ".py",
   "mimetype": "text/x-python",
   "name": "python",
   "nbconvert_exporter": "python",
   "pygments_lexer": "ipython3",
   "version": "3.8.3"
  }
 },
 "nbformat": 4,
 "nbformat_minor": 4
}
