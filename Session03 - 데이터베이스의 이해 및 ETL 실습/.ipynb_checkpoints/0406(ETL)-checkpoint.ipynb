{
 "cells": [
  {
   "cell_type": "code",
   "execution_count": 1,
   "metadata": {},
   "outputs": [
    {
     "name": "stdout",
     "output_type": "stream",
     "text": [
      "pgout_kopo_lkr unload 성공!\n"
     ]
    }
   ],
   "source": [
    "import pandas as pd\n",
    "\n",
    "import psycopg2\n",
    "import pandas as pd\n",
    "from sqlalchemy import create_engine\n",
    "\n",
    "\n",
    "\n",
    "### 데이터 불러오기\n",
    "\n",
    "indata = \\\n",
    "    pd.read_csv(\"../dataset/kopo_decision_tree_all_new.csv\")\n",
    "\n",
    "indata.shape\n",
    "# 컬럼과 행 정보를 표시\n",
    "\n",
    "### 3. 데이터 처리(컬럼 소문자로 변환)\n",
    "\n",
    "indata.columns\n",
    "\n",
    "indata.columns = indata.columns.str.lower()\n",
    "indata.columns\n",
    "# 소문자로 변환한다.\n",
    "\n",
    "targetDbIp = \"192.168.110.111\"\n",
    "targetDbPort = \"5432\"\n",
    "targetDbId = \"kopo\"\n",
    "targetDbPw = \"kopo\"\n",
    "targetDbName = \"kopodb\"\n",
    "targetDbPrefix = \"postgresql://\"\n",
    "\n",
    "targetUrl = \"{}{}:{}@{}:{}/{}\".format(targetDbPrefix,\n",
    "                                   targetDbId,\n",
    "                                   targetDbPw,\n",
    "                                   targetDbIp,\n",
    "                                   targetDbPort,\n",
    "                                   targetDbName)\n",
    "\n",
    "targetUrl\n",
    "\n",
    "engine_pg = create_engine(targetUrl)\n",
    "\n",
    "tableName = \"pgout_kopo_lkr\"\n",
    "\n",
    "try:\n",
    "    indata.to_sql(name = tableName,\n",
    "                 con = engine_pg,\n",
    "                 if_exists = \"replace\", index = False)\n",
    "    print(\"{} unload 성공!\".format(tableName))\n",
    "except Exception as e:\n",
    "    print(e)\n",
    "\n",
    "indata.to_sql(name = tableName,\n",
    "             con = engine_pg, if_exists=\"replace\", index = False)"
   ]
  }
 ],
 "metadata": {
  "kernelspec": {
   "display_name": "Python 3",
   "language": "python",
   "name": "python3"
  },
  "language_info": {
   "codemirror_mode": {
    "name": "ipython",
    "version": 3
   },
   "file_extension": ".py",
   "mimetype": "text/x-python",
   "name": "python",
   "nbconvert_exporter": "python",
   "pygments_lexer": "ipython3",
   "version": "3.8.3"
  }
 },
 "nbformat": 4,
 "nbformat_minor": 4
}
