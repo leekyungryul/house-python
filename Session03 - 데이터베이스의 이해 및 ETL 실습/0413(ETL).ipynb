{
 "cells": [
  {
   "cell_type": "markdown",
   "metadata": {},
   "source": [
    "### 1. pandas 데이터 프레임"
   ]
  },
  {
   "cell_type": "code",
   "execution_count": 51,
   "metadata": {},
   "outputs": [],
   "source": [
    "import pandas as pd"
   ]
  },
  {
   "cell_type": "markdown",
   "metadata": {},
   "source": [
    "#### 1. 리스트에서 데이터프레임 생성하기"
   ]
  },
  {
   "cell_type": "code",
   "execution_count": 52,
   "metadata": {},
   "outputs": [],
   "source": [
    "rowFirst = ['a01',202012, 100]\n",
    "rowsecond = ['a02', 202102, 90]\n",
    "rowthird = ['a03', 202104, 100]"
   ]
  },
  {
   "cell_type": "code",
   "execution_count": 53,
   "metadata": {},
   "outputs": [],
   "source": [
    "data = pd.DataFrame([rowFirst,rowsecond,rowthird])"
   ]
  },
  {
   "cell_type": "code",
   "execution_count": 54,
   "metadata": {},
   "outputs": [],
   "source": [
    "data.columns = ['a','b','c']"
   ]
  },
  {
   "cell_type": "code",
   "execution_count": 55,
   "metadata": {},
   "outputs": [
    {
     "data": {
      "text/html": [
       "<div>\n",
       "<style scoped>\n",
       "    .dataframe tbody tr th:only-of-type {\n",
       "        vertical-align: middle;\n",
       "    }\n",
       "\n",
       "    .dataframe tbody tr th {\n",
       "        vertical-align: top;\n",
       "    }\n",
       "\n",
       "    .dataframe thead th {\n",
       "        text-align: right;\n",
       "    }\n",
       "</style>\n",
       "<table border=\"1\" class=\"dataframe\">\n",
       "  <thead>\n",
       "    <tr style=\"text-align: right;\">\n",
       "      <th></th>\n",
       "      <th>a</th>\n",
       "      <th>b</th>\n",
       "      <th>c</th>\n",
       "    </tr>\n",
       "  </thead>\n",
       "  <tbody>\n",
       "    <tr>\n",
       "      <th>0</th>\n",
       "      <td>a01</td>\n",
       "      <td>202012</td>\n",
       "      <td>100</td>\n",
       "    </tr>\n",
       "    <tr>\n",
       "      <th>1</th>\n",
       "      <td>a02</td>\n",
       "      <td>202102</td>\n",
       "      <td>90</td>\n",
       "    </tr>\n",
       "    <tr>\n",
       "      <th>2</th>\n",
       "      <td>a03</td>\n",
       "      <td>202104</td>\n",
       "      <td>100</td>\n",
       "    </tr>\n",
       "  </tbody>\n",
       "</table>\n",
       "</div>"
      ],
      "text/plain": [
       "     a       b    c\n",
       "0  a01  202012  100\n",
       "1  a02  202102   90\n",
       "2  a03  202104  100"
      ]
     },
     "execution_count": 55,
     "metadata": {},
     "output_type": "execute_result"
    }
   ],
   "source": [
    "data"
   ]
  },
  {
   "cell_type": "code",
   "execution_count": 56,
   "metadata": {},
   "outputs": [],
   "source": [
    "columnfirst = ['a01','a02','a03']\n",
    "columnsecond = [202012,202102,202104]\n",
    "columnthird = [100,90,100]"
   ]
  },
  {
   "cell_type": "code",
   "execution_count": 57,
   "metadata": {},
   "outputs": [],
   "source": [
    "data2 = pd.DataFrame(zip(columnfirst,columnsecond,columnthird))"
   ]
  },
  {
   "cell_type": "code",
   "execution_count": 58,
   "metadata": {},
   "outputs": [],
   "source": [
    "columnNameList = ['a','b','c']"
   ]
  },
  {
   "cell_type": "code",
   "execution_count": 59,
   "metadata": {},
   "outputs": [],
   "source": [
    "data2.columns = columnNameList"
   ]
  },
  {
   "cell_type": "code",
   "execution_count": 60,
   "metadata": {},
   "outputs": [
    {
     "data": {
      "text/html": [
       "<div>\n",
       "<style scoped>\n",
       "    .dataframe tbody tr th:only-of-type {\n",
       "        vertical-align: middle;\n",
       "    }\n",
       "\n",
       "    .dataframe tbody tr th {\n",
       "        vertical-align: top;\n",
       "    }\n",
       "\n",
       "    .dataframe thead th {\n",
       "        text-align: right;\n",
       "    }\n",
       "</style>\n",
       "<table border=\"1\" class=\"dataframe\">\n",
       "  <thead>\n",
       "    <tr style=\"text-align: right;\">\n",
       "      <th></th>\n",
       "      <th>a</th>\n",
       "      <th>b</th>\n",
       "      <th>c</th>\n",
       "    </tr>\n",
       "  </thead>\n",
       "  <tbody>\n",
       "    <tr>\n",
       "      <th>0</th>\n",
       "      <td>a01</td>\n",
       "      <td>202012</td>\n",
       "      <td>100</td>\n",
       "    </tr>\n",
       "    <tr>\n",
       "      <th>1</th>\n",
       "      <td>a02</td>\n",
       "      <td>202102</td>\n",
       "      <td>90</td>\n",
       "    </tr>\n",
       "    <tr>\n",
       "      <th>2</th>\n",
       "      <td>a03</td>\n",
       "      <td>202104</td>\n",
       "      <td>100</td>\n",
       "    </tr>\n",
       "  </tbody>\n",
       "</table>\n",
       "</div>"
      ],
      "text/plain": [
       "     a       b    c\n",
       "0  a01  202012  100\n",
       "1  a02  202102   90\n",
       "2  a03  202104  100"
      ]
     },
     "execution_count": 60,
     "metadata": {},
     "output_type": "execute_result"
    }
   ],
   "source": [
    "data2"
   ]
  },
  {
   "cell_type": "markdown",
   "metadata": {},
   "source": [
    "### 1. 라이브러리 선언"
   ]
  },
  {
   "cell_type": "code",
   "execution_count": 61,
   "metadata": {},
   "outputs": [],
   "source": [
    "from bs4 import BeautifulSoup #내가 태그를 아름답게 뜬다.\n",
    "import requests # 웹페이지 접속 요청"
   ]
  },
  {
   "cell_type": "markdown",
   "metadata": {},
   "source": [
    "### 2. 타겟 url선언 및 접속"
   ]
  },
  {
   "cell_type": "code",
   "execution_count": 62,
   "metadata": {},
   "outputs": [],
   "source": [
    "targetUrl = \"http://www.sparkkorea.com/퀴즈\""
   ]
  },
  {
   "cell_type": "code",
   "execution_count": 63,
   "metadata": {},
   "outputs": [],
   "source": [
    "resp = requests.get(url=targetUrl)"
   ]
  },
  {
   "cell_type": "code",
   "execution_count": 64,
   "metadata": {},
   "outputs": [],
   "source": [
    "resp.encoding = 'utf-8'"
   ]
  },
  {
   "cell_type": "code",
   "execution_count": 65,
   "metadata": {},
   "outputs": [
    {
     "ename": "SyntaxError",
     "evalue": "invalid syntax (<ipython-input-65-e142b7dd65fa>, line 3)",
     "output_type": "error",
     "traceback": [
      "\u001b[1;36m  File \u001b[1;32m\"<ipython-input-65-e142b7dd65fa>\"\u001b[1;36m, line \u001b[1;32m3\u001b[0m\n\u001b[1;33m    else:\u001b[0m\n\u001b[1;37m    ^\u001b[0m\n\u001b[1;31mSyntaxError\u001b[0m\u001b[1;31m:\u001b[0m invalid syntax\n"
     ]
    }
   ],
   "source": [
    "if rest.status_code == 200:\n",
    "# 원하는 로직을 펼치고\n",
    "    else:\n",
    "#다른 로직을 펼친다."
   ]
  },
  {
   "cell_type": "code",
   "execution_count": 66,
   "metadata": {},
   "outputs": [],
   "source": [
    "html = resp.text"
   ]
  },
  {
   "cell_type": "code",
   "execution_count": 67,
   "metadata": {},
   "outputs": [
    {
     "data": {
      "text/plain": [
       "str"
      ]
     },
     "execution_count": 67,
     "metadata": {},
     "output_type": "execute_result"
    }
   ],
   "source": [
    "type(html)"
   ]
  },
  {
   "cell_type": "code",
   "execution_count": 68,
   "metadata": {},
   "outputs": [],
   "source": [
    "htmlobj = BeautifulSoup(html,\"html.parser\")"
   ]
  },
  {
   "cell_type": "markdown",
   "metadata": {},
   "source": [
    "### 3.태그값 접근하기"
   ]
  },
  {
   "cell_type": "code",
   "execution_count": 121,
   "metadata": {},
   "outputs": [
    {
     "data": {
      "text/plain": [
       "[<a class=\"skip-link screen-reader-text\" href=\"#content\">컨텐츠로 건너뛰기</a>,\n",
       " <a href=\"https://sparkkorea.com/\" rel=\"home\">\n",
       " \t\t\t\t\t스파크 코리아\t\t\t\t</a>,\n",
       " <a href=\"https://sparkkorea.com/%ec%9e%90%eb%a3%8c%ec%8b%a4/\">자료실</a>]"
      ]
     },
     "execution_count": 121,
     "metadata": {},
     "output_type": "execute_result"
    }
   ],
   "source": [
    "htmlobj.find_all(name=\"a\", limit=3)\n",
    "# a 태그를 가진 3줄만 찾는다."
   ]
  },
  {
   "cell_type": "code",
   "execution_count": 123,
   "metadata": {},
   "outputs": [],
   "source": [
    "targetParent = htmlobj.find(name='div',attrs = {\"id\":\"id_spark_quiz\"})\n",
    "# \n",
    "# find 계속 범위를 좁혀라\n",
    "# find all 을 활용"
   ]
  },
  {
   "cell_type": "code",
   "execution_count": 124,
   "metadata": {},
   "outputs": [
    {
     "data": {
      "text/plain": [
       "<div class=\"class_spark_quiz\" id=\"id_spark_quiz\">\n",
       "<h1>Spark 퀴즈 </h1>\n",
       "<a href=\"https://forms.gle/Fw49w9GhWQChDcZm7\"> 6/13 Spark 심화과정 </a>\n",
       "<p></p>\n",
       "<a href=\"https://forms.gle/G4TcXm3fKuHLHA6D6\"> 6/13 Spark 기본과정 </a>\n",
       "<p></p>\n",
       "<a href=\"https://forms.gle/M8gr1kC2ubA3UDVp8\"> 6/18 Spark [MAP_FILTER] </a>\n",
       "<p></p>\n",
       "<a href=\"https://forms.gle/h8w5mZ4MNaPLCPbi6\"> 6/18 Spark GroupBy 심화 </a>\n",
       "<p></p>\n",
       "<a href=\"https://forms.gle/q5yL6QHfueDLM5w27\"> 6/25 Spark RDD 실전 분석 </a>\n",
       "<p></p>\n",
       "<a href=\"https://forms.gle/Gxb4y6LfVYiaLu4M7\"> 6/27 Spark RDD 실전 분석2 </a>\n",
       "<p></p>\n",
       "</div>"
      ]
     },
     "execution_count": 124,
     "metadata": {},
     "output_type": "execute_result"
    }
   ],
   "source": [
    "targetParent\n",
    "# a태그에는 href라는 속성이 있고 href의 속성의 값은http://...\n",
    "# div태그가 있고 id라는 속성에 id_spark...."
   ]
  },
  {
   "cell_type": "code",
   "execution_count": 146,
   "metadata": {},
   "outputs": [
    {
     "name": "stdout",
     "output_type": "stream",
     "text": [
      "a\n"
     ]
    },
    {
     "data": {
      "text/plain": [
       "1"
      ]
     },
     "execution_count": 146,
     "metadata": {},
     "output_type": "execute_result"
    }
   ],
   "source": [
    "target = targetParent.findAll(name = \"a\")\n",
    "print(target[0].name)\n",
    "len(target[0])"
   ]
  },
  {
   "cell_type": "code",
   "execution_count": 148,
   "metadata": {},
   "outputs": [
    {
     "data": {
      "text/html": [
       "<div>\n",
       "<style scoped>\n",
       "    .dataframe tbody tr th:only-of-type {\n",
       "        vertical-align: middle;\n",
       "    }\n",
       "\n",
       "    .dataframe tbody tr th {\n",
       "        vertical-align: top;\n",
       "    }\n",
       "\n",
       "    .dataframe thead th {\n",
       "        text-align: right;\n",
       "    }\n",
       "</style>\n",
       "<table border=\"1\" class=\"dataframe\">\n",
       "  <thead>\n",
       "    <tr style=\"text-align: right;\">\n",
       "      <th></th>\n",
       "      <th>title</th>\n",
       "      <th>name</th>\n",
       "      <th>url</th>\n",
       "    </tr>\n",
       "  </thead>\n",
       "  <tbody>\n",
       "    <tr>\n",
       "      <th>0</th>\n",
       "      <td>6/13 Spark 심화과정</td>\n",
       "      <td>a</td>\n",
       "      <td>https://forms.gle/Fw49w9GhWQChDcZm7</td>\n",
       "    </tr>\n",
       "    <tr>\n",
       "      <th>1</th>\n",
       "      <td>6/13 Spark 심화과정</td>\n",
       "      <td>a</td>\n",
       "      <td>https://forms.gle/Fw49w9GhWQChDcZm7</td>\n",
       "    </tr>\n",
       "    <tr>\n",
       "      <th>2</th>\n",
       "      <td>6/13 Spark 심화과정</td>\n",
       "      <td>a</td>\n",
       "      <td>https://forms.gle/Fw49w9GhWQChDcZm7</td>\n",
       "    </tr>\n",
       "    <tr>\n",
       "      <th>3</th>\n",
       "      <td>6/13 Spark 심화과정</td>\n",
       "      <td>a</td>\n",
       "      <td>https://forms.gle/Fw49w9GhWQChDcZm7</td>\n",
       "    </tr>\n",
       "    <tr>\n",
       "      <th>4</th>\n",
       "      <td>6/13 Spark 심화과정</td>\n",
       "      <td>a</td>\n",
       "      <td>https://forms.gle/Fw49w9GhWQChDcZm7</td>\n",
       "    </tr>\n",
       "    <tr>\n",
       "      <th>5</th>\n",
       "      <td>6/13 Spark 심화과정</td>\n",
       "      <td>a</td>\n",
       "      <td>https://forms.gle/Fw49w9GhWQChDcZm7</td>\n",
       "    </tr>\n",
       "  </tbody>\n",
       "</table>\n",
       "</div>"
      ],
      "text/plain": [
       "               title name                                  url\n",
       "0   6/13 Spark 심화과정     a  https://forms.gle/Fw49w9GhWQChDcZm7\n",
       "1   6/13 Spark 심화과정     a  https://forms.gle/Fw49w9GhWQChDcZm7\n",
       "2   6/13 Spark 심화과정     a  https://forms.gle/Fw49w9GhWQChDcZm7\n",
       "3   6/13 Spark 심화과정     a  https://forms.gle/Fw49w9GhWQChDcZm7\n",
       "4   6/13 Spark 심화과정     a  https://forms.gle/Fw49w9GhWQChDcZm7\n",
       "5   6/13 Spark 심화과정     a  https://forms.gle/Fw49w9GhWQChDcZm7"
      ]
     },
     "execution_count": 148,
     "metadata": {},
     "output_type": "execute_result"
    }
   ],
   "source": [
    "rows = []\n",
    "columns = []\n",
    "for i in range(0,len(target)):\n",
    "    rows.append(columns)\n",
    "    for j in range(0,len(target[i])):\n",
    "        columns.append(target[j].text)\n",
    "        columns.append(target[j].name)\n",
    "        columns.append(target[j].attrs[\"href\"])\n",
    "    columns = []\n",
    "result = pd.DataFrame(rows)\n",
    "resultcolumnName = ['title','name','url']\n",
    "result.columns = resultcolumnName\n",
    "result"
   ]
  },
  {
   "cell_type": "code",
   "execution_count": 116,
   "metadata": {},
   "outputs": [],
   "source": [
    "title = []\n",
    "link = []\n",
    "for i in range(0, len(targetlink)):\n",
    "    title.append(target[i].text)\n",
    "    link.append(targetl[i].attrs[\"href\"])\n",
    "result = pd.DataFrame(zip( title, link))\n",
    "resultcolumnName = ['title','url']\n",
    "result.columns = resultcolumnName"
   ]
  },
  {
   "cell_type": "code",
   "execution_count": 118,
   "metadata": {},
   "outputs": [
    {
     "data": {
      "text/html": [
       "<div>\n",
       "<style scoped>\n",
       "    .dataframe tbody tr th:only-of-type {\n",
       "        vertical-align: middle;\n",
       "    }\n",
       "\n",
       "    .dataframe tbody tr th {\n",
       "        vertical-align: top;\n",
       "    }\n",
       "\n",
       "    .dataframe thead th {\n",
       "        text-align: right;\n",
       "    }\n",
       "</style>\n",
       "<table border=\"1\" class=\"dataframe\">\n",
       "  <thead>\n",
       "    <tr style=\"text-align: right;\">\n",
       "      <th></th>\n",
       "      <th>title</th>\n",
       "      <th>url</th>\n",
       "    </tr>\n",
       "  </thead>\n",
       "  <tbody>\n",
       "    <tr>\n",
       "      <th>0</th>\n",
       "      <td>6/13 Spark 심화과정</td>\n",
       "      <td>https://forms.gle/Fw49w9GhWQChDcZm7</td>\n",
       "    </tr>\n",
       "    <tr>\n",
       "      <th>1</th>\n",
       "      <td>6/13 Spark 기본과정</td>\n",
       "      <td>https://forms.gle/G4TcXm3fKuHLHA6D6</td>\n",
       "    </tr>\n",
       "    <tr>\n",
       "      <th>2</th>\n",
       "      <td>6/18 Spark [MAP_FILTER]</td>\n",
       "      <td>https://forms.gle/M8gr1kC2ubA3UDVp8</td>\n",
       "    </tr>\n",
       "    <tr>\n",
       "      <th>3</th>\n",
       "      <td>6/18 Spark GroupBy 심화</td>\n",
       "      <td>https://forms.gle/h8w5mZ4MNaPLCPbi6</td>\n",
       "    </tr>\n",
       "    <tr>\n",
       "      <th>4</th>\n",
       "      <td>6/25 Spark RDD 실전 분석</td>\n",
       "      <td>https://forms.gle/q5yL6QHfueDLM5w27</td>\n",
       "    </tr>\n",
       "    <tr>\n",
       "      <th>5</th>\n",
       "      <td>6/27 Spark RDD 실전 분석2</td>\n",
       "      <td>https://forms.gle/Gxb4y6LfVYiaLu4M7</td>\n",
       "    </tr>\n",
       "  </tbody>\n",
       "</table>\n",
       "</div>"
      ],
      "text/plain": [
       "                       title                                  url\n",
       "0           6/13 Spark 심화과정   https://forms.gle/Fw49w9GhWQChDcZm7\n",
       "1           6/13 Spark 기본과정   https://forms.gle/G4TcXm3fKuHLHA6D6\n",
       "2   6/18 Spark [MAP_FILTER]   https://forms.gle/M8gr1kC2ubA3UDVp8\n",
       "3     6/18 Spark GroupBy 심화   https://forms.gle/h8w5mZ4MNaPLCPbi6\n",
       "4      6/25 Spark RDD 실전 분석   https://forms.gle/q5yL6QHfueDLM5w27\n",
       "5     6/27 Spark RDD 실전 분석2   https://forms.gle/Gxb4y6LfVYiaLu4M7"
      ]
     },
     "execution_count": 118,
     "metadata": {},
     "output_type": "execute_result"
    }
   ],
   "source": [
    "result"
   ]
  },
  {
   "cell_type": "markdown",
   "metadata": {},
   "source": [
    "### 테이블 정보 수집하기"
   ]
  },
  {
   "cell_type": "code",
   "execution_count": null,
   "metadata": {},
   "outputs": [],
   "source": []
  },
  {
   "cell_type": "code",
   "execution_count": 21,
   "metadata": {},
   "outputs": [],
   "source": [
    "import requests, bs4\n",
    "import pandas as pd\n",
    "#웹페이지 html 소스 가져오기\n",
    "resp = requests.get(\"https://sparkkorea.com/테스트/\")\n",
    "resp.encoding='utf-8'\n",
    "html = resp.text\n",
    "htmlobj = bs4.BeautifulSoup(html, 'html.parser')"
   ]
  },
  {
   "cell_type": "code",
   "execution_count": 22,
   "metadata": {},
   "outputs": [
    {
     "data": {
      "text/plain": [
       "<table class=\"type07\" id=\"test_table\">\n",
       "<thead>\n",
       "<tr>\n",
       "<th scope=\"cols\">학번</th>\n",
       "<th scope=\"cols\">이름</th>\n",
       "</tr>\n",
       "</thead>\n",
       "<tbody>\n",
       "<tr>\n",
       "<td>101</td>\n",
       "<td>김효관</td>\n",
       "</tr>\n",
       "<tr>\n",
       "<td>102</td>\n",
       "<td>이순신</td>\n",
       "</tr>\n",
       "<tr>\n",
       "<td>103</td>\n",
       "<td>김어진</td>\n",
       "</tr>\n",
       "</tbody>\n",
       "</table>"
      ]
     },
     "execution_count": 22,
     "metadata": {},
     "output_type": "execute_result"
    }
   ],
   "source": [
    "tableTag = htmlobj.find(name='table',attrs = {\"id\":\"test_table\"})\n",
    "tableTag"
   ]
  },
  {
   "cell_type": "code",
   "execution_count": 23,
   "metadata": {},
   "outputs": [
    {
     "data": {
      "text/plain": [
       "<tbody>\n",
       "<tr>\n",
       "<td>101</td>\n",
       "<td>김효관</td>\n",
       "</tr>\n",
       "<tr>\n",
       "<td>102</td>\n",
       "<td>이순신</td>\n",
       "</tr>\n",
       "<tr>\n",
       "<td>103</td>\n",
       "<td>김어진</td>\n",
       "</tr>\n",
       "</tbody>"
      ]
     },
     "execution_count": 23,
     "metadata": {},
     "output_type": "execute_result"
    }
   ],
   "source": [
    "tbodyTag = tableTag.find(name='tbody')\n",
    "tbodyTag"
   ]
  },
  {
   "cell_type": "code",
   "execution_count": 24,
   "metadata": {},
   "outputs": [
    {
     "data": {
      "text/plain": [
       "3"
      ]
     },
     "execution_count": 24,
     "metadata": {},
     "output_type": "execute_result"
    }
   ],
   "source": [
    "trs = tbodyTag.find_all('tr')\n",
    "len(trs)"
   ]
  },
  {
   "cell_type": "code",
   "execution_count": 167,
   "metadata": {},
   "outputs": [
    {
     "data": {
      "text/plain": [
       "<tr>\n",
       "<td>101</td>\n",
       "<td>김효관</td>\n",
       "</tr>"
      ]
     },
     "execution_count": 167,
     "metadata": {},
     "output_type": "execute_result"
    }
   ],
   "source": [
    "eachTr = trs[0]\n",
    "eachTr"
   ]
  },
  {
   "cell_type": "code",
   "execution_count": 168,
   "metadata": {},
   "outputs": [
    {
     "data": {
      "text/plain": [
       "[<td>101</td>, <td>김효관</td>]"
      ]
     },
     "execution_count": 168,
     "metadata": {},
     "output_type": "execute_result"
    }
   ],
   "source": [
    "tds = eachTr.find_all('td')\n",
    "tds"
   ]
  },
  {
   "cell_type": "code",
   "execution_count": 172,
   "metadata": {},
   "outputs": [
    {
     "name": "stdout",
     "output_type": "stream",
     "text": [
      "<td>101</td>\n",
      "td\n"
     ]
    }
   ],
   "source": [
    "eachTd = tds[0]\n",
    "print(eachTd)\n",
    "print(eachTd.name)"
   ]
  },
  {
   "cell_type": "code",
   "execution_count": 161,
   "metadata": {},
   "outputs": [],
   "source": [
    "columnList = []"
   ]
  },
  {
   "cell_type": "code",
   "execution_count": 162,
   "metadata": {},
   "outputs": [],
   "source": [
    "columnList.append(eachTd.text)"
   ]
  },
  {
   "cell_type": "code",
   "execution_count": 163,
   "metadata": {},
   "outputs": [
    {
     "data": {
      "text/plain": [
       "['101']"
      ]
     },
     "execution_count": 163,
     "metadata": {},
     "output_type": "execute_result"
    }
   ],
   "source": [
    "columnList"
   ]
  },
  {
   "cell_type": "code",
   "execution_count": 181,
   "metadata": {},
   "outputs": [
    {
     "data": {
      "text/plain": [
       "<tr>\n",
       "<td>101</td>\n",
       "<td>김효관</td>\n",
       "</tr>"
      ]
     },
     "execution_count": 181,
     "metadata": {},
     "output_type": "execute_result"
    }
   ],
   "source": [
    "len(trs)\n",
    "# tds[0]\n",
    "# tds[1]\n",
    "trs[0]\n",
    "a= trs.f"
   ]
  },
  {
   "cell_type": "code",
   "execution_count": 183,
   "metadata": {},
   "outputs": [
    {
     "ename": "KeyError",
     "evalue": "0",
     "output_type": "error",
     "traceback": [
      "\u001b[1;31m---------------------------------------------------------------------------\u001b[0m",
      "\u001b[1;31mKeyError\u001b[0m                                  Traceback (most recent call last)",
      "\u001b[1;32m<ipython-input-183-5e18fc7a4811>\u001b[0m in \u001b[0;36m<module>\u001b[1;34m\u001b[0m\n\u001b[0;32m      5\u001b[0m     \u001b[0mrowList\u001b[0m\u001b[1;33m.\u001b[0m\u001b[0mappend\u001b[0m\u001b[1;33m(\u001b[0m\u001b[0mcolumnList\u001b[0m\u001b[1;33m)\u001b[0m\u001b[1;33m\u001b[0m\u001b[1;33m\u001b[0m\u001b[0m\n\u001b[0;32m      6\u001b[0m     \u001b[1;32mfor\u001b[0m \u001b[0mj\u001b[0m \u001b[1;32min\u001b[0m \u001b[0mrange\u001b[0m\u001b[1;33m(\u001b[0m\u001b[1;36m0\u001b[0m\u001b[1;33m,\u001b[0m\u001b[0mlen\u001b[0m\u001b[1;33m(\u001b[0m\u001b[0meachTr\u001b[0m\u001b[1;33m)\u001b[0m\u001b[1;33m)\u001b[0m\u001b[1;33m:\u001b[0m\u001b[1;33m\u001b[0m\u001b[1;33m\u001b[0m\u001b[0m\n\u001b[1;32m----> 7\u001b[1;33m         \u001b[0mtds\u001b[0m \u001b[1;33m=\u001b[0m \u001b[0meachTr\u001b[0m\u001b[1;33m[\u001b[0m\u001b[0mj\u001b[0m\u001b[1;33m]\u001b[0m\u001b[1;33m.\u001b[0m\u001b[0mfind_all\u001b[0m\u001b[1;33m\u001b[0m\u001b[1;33m\u001b[0m\u001b[0m\n\u001b[0m\u001b[0;32m      8\u001b[0m         \u001b[0mcolumnList\u001b[0m\u001b[1;33m.\u001b[0m\u001b[0mappend\u001b[0m\u001b[1;33m(\u001b[0m\u001b[0mtds\u001b[0m\u001b[1;33m[\u001b[0m\u001b[0mj\u001b[0m\u001b[1;33m]\u001b[0m\u001b[1;33m.\u001b[0m\u001b[0mtext\u001b[0m\u001b[1;33m)\u001b[0m\u001b[1;33m\u001b[0m\u001b[1;33m\u001b[0m\u001b[0m\n\u001b[0;32m      9\u001b[0m     \u001b[0mcolumnList\u001b[0m \u001b[1;33m=\u001b[0m \u001b[1;33m[\u001b[0m\u001b[1;33m]\u001b[0m\u001b[1;33m\u001b[0m\u001b[1;33m\u001b[0m\u001b[0m\n",
      "\u001b[1;32m~\\Anaconda3\\lib\\site-packages\\bs4\\element.py\u001b[0m in \u001b[0;36m__getitem__\u001b[1;34m(self, key)\u001b[0m\n\u001b[0;32m   1399\u001b[0m         \"\"\"tag[key] returns the value of the 'key' attribute for the Tag,\n\u001b[0;32m   1400\u001b[0m         and throws an exception if it's not there.\"\"\"\n\u001b[1;32m-> 1401\u001b[1;33m         \u001b[1;32mreturn\u001b[0m \u001b[0mself\u001b[0m\u001b[1;33m.\u001b[0m\u001b[0mattrs\u001b[0m\u001b[1;33m[\u001b[0m\u001b[0mkey\u001b[0m\u001b[1;33m]\u001b[0m\u001b[1;33m\u001b[0m\u001b[1;33m\u001b[0m\u001b[0m\n\u001b[0m\u001b[0;32m   1402\u001b[0m \u001b[1;33m\u001b[0m\u001b[0m\n\u001b[0;32m   1403\u001b[0m     \u001b[1;32mdef\u001b[0m \u001b[0m__iter__\u001b[0m\u001b[1;33m(\u001b[0m\u001b[0mself\u001b[0m\u001b[1;33m)\u001b[0m\u001b[1;33m:\u001b[0m\u001b[1;33m\u001b[0m\u001b[1;33m\u001b[0m\u001b[0m\n",
      "\u001b[1;31mKeyError\u001b[0m: 0"
     ]
    }
   ],
   "source": [
    "rowList = []\n",
    "for i in range(0,len(trs)):\n",
    "    eachTr = trs[i]\n",
    "    \n",
    "    rowList.append(columnList)\n",
    "    for j in range(0,len(eachTr)):\n",
    "        tds = eachTr[j].find_all\n",
    "        columnList.append(tds[j].text)\n",
    "    columnList = []\n",
    "rowList\n",
    "    "
   ]
  },
  {
   "cell_type": "code",
   "execution_count": 1,
   "metadata": {},
   "outputs": [],
   "source": [
    "# 1. 라이브러리 선언\n",
    "import requests, bs4\n",
    "import pandas as pd\n",
    "headers = {'User-Agent': 'Mozilla/5.0 (Macintosh; Intel Mac OS X 10.14; rv:71.0) Gecko/20100101 Firefox/71.0'}"
   ]
  },
  {
   "cell_type": "code",
   "execution_count": 2,
   "metadata": {},
   "outputs": [],
   "source": [
    "# 2. 웹페이지 소스 가져오기\n",
    "url = \"http://www.ssg.com/search.ssg?target=all&query=%EC%B9%B4%EB%A9%94%EB%9D%BC&count=40\"\n",
    "response = requests.get(url, headers=headers)\n",
    "response.encoding = \"utf-8\""
   ]
  },
  {
   "cell_type": "code",
   "execution_count": 3,
   "metadata": {},
   "outputs": [
    {
     "data": {
      "text/plain": [
       "<Response [200]>"
      ]
     },
     "execution_count": 3,
     "metadata": {},
     "output_type": "execute_result"
    }
   ],
   "source": [
    "html = response.text\n",
    "\n",
    "# 3. 필요한 태그부분 가져오기\n",
    "htmlobj = bs4.BeautifulSoup(html, 'html.parser')\n",
    "response"
   ]
  },
  {
   "cell_type": "code",
   "execution_count": 15,
   "metadata": {},
   "outputs": [],
   "source": [
    "ul = htmlobj.find(\"ul\",{\"id\":\"idProductImg\"})\n",
    "# tagname이 ul이고 id가 idProductImg 아래를 찾아서 담는다."
   ]
  },
  {
   "cell_type": "code",
   "execution_count": 16,
   "metadata": {},
   "outputs": [],
   "source": [
    "lis = ul.findAll(\"li\")\n",
    "# ul에서 다시 li태그네임으로 검색해서 lis에 담는다."
   ]
  },
  {
   "cell_type": "code",
   "execution_count": 17,
   "metadata": {},
   "outputs": [
    {
     "data": {
      "text/plain": [
       "<div class=\"title\">\n",
       "<strong class=\"brd\">\n",
       "<em class=\"tx_ko\">SONY</em>\n",
       "<em class=\"tx_gl\">SONY</em>\n",
       "</strong>\n",
       "<a class=\"clickable\" data-index=\"0\" data-info=\"1000054014734\" data-position=\"view\" data-unit=\"img\" href=\"/item/itemView.ssg?itemId=1000054014734&amp;siteNo=6004&amp;salestrNo=6005&amp;tlidSrchWd=카메라&amp;srchPgNo=1&amp;src_area=ssglist&amp;itemSsgColectYn=Y\" target=\"_self\">\n",
       "<em class=\"tx_ko\">소니 ILCE-7CL/A7CL/SEL2860렌즈키트/원핸드 컴팩트 풀프레임 카메라</em>\n",
       "<em class=\"tx_en\">소니 ILCE-7CL/A7CL/SEL2860렌즈키트/원핸드 컴팩트 풀프레임 카메라</em>\n",
       "<em class=\"tx_zh\">소니 ILCE-7CL/A7CL/SEL2860렌즈키트/원핸드 컴팩트 풀프레임 카메라</em>\n",
       "</a>\n",
       "</div>"
      ]
     },
     "execution_count": 17,
     "metadata": {},
     "output_type": "execute_result"
    }
   ],
   "source": [
    "lis[0].find(name = \"div\", attrs={\"class\":\"title\"})\n",
    "# lis의 첫번째 인덱스로 검사\n",
    "# div태그아래 속성이 class:title인것들 검색한다."
   ]
  },
  {
   "cell_type": "code",
   "execution_count": 18,
   "metadata": {},
   "outputs": [],
   "source": [
    "# 빈 배열을 하나 생성했다.\n",
    "columnList = []\n",
    "# lis에 들어있는 것들을 인덱스 순서대로 꺼낸다.\n",
    "for li in lis:\n",
    "    # lis 각 인덱스에서 tagname이 div이고 속성값이 class:title에 해당하는것들 모두 div에 담았다. \n",
    "    div = li.find(name = \"div\", attrs={\"class\":\"title\"})\n",
    "    # div 각 인덱스에서 tagname이 em이고 속성값이 class:tx_ko에 해당하는것들 모두 titleList에 담는다.\n",
    "    titleList = div.find_all(name=\"em\", attrs={\"class\":\"tx_ko\"} )\n",
    "    # titleList의 뒤쪽값만 columnList에 담아낸다.\n",
    "    columnList.append(titleList[-1].text)"
   ]
  },
  {
   "cell_type": "code",
   "execution_count": 19,
   "metadata": {},
   "outputs": [
    {
     "data": {
      "text/plain": [
       "['소니 ILCE-7CL/A7CL/SEL2860렌즈키트/원핸드 컴팩트 풀프레임 카메라',\n",
       " '소니 알파 대체불가 미러리스 모음전',\n",
       " '소니 풀프레임 미러리스 카메라 A7C (ILCE-7C) 바디킷',\n",
       " '[정품등록 이벤트][정품] EOS R6 Body + 가이드북 + 서울 무료퀵',\n",
       " '[정품] PowerShot G7X Mark III',\n",
       " '[라이카] Leica D-LUX7 Silver +32GB메모리+LCD보호필름',\n",
       " '[정품등록 이벤트][정품] EOS RP Body + 포켓융 + 서울무료퀵',\n",
       " '소니 A6000(SELP 16-50 mm OSS 렌즈킷) + SD32G 메모리 + 크리닝세트',\n",
       " '[본사직영] LEICA D-Lux7',\n",
       " '캐논 PS G7X Mark III',\n",
       " '[파나소닉]루믹스 프리미엄 컴팩트 카메라 DC-LX100M2/F1.7-2.8 라이카렌즈/4K/LX100M II',\n",
       " 'DSC-RX100M3 하이엔드 1.0타입 디지털카메라',\n",
       " '[파나소닉] 루믹스 DC-GF10(12-32)렌즈킷/미러리스/사은품 케이스 증정',\n",
       " '[니콘데이&위크] [정품] 니콘 Nikon D5600 Kit(AF-P 18-55mm VR)',\n",
       " '[본사직영] Leica D-Lux7 Black',\n",
       " '[여주점] 디지털카메라 & 포토프린터 특가행사',\n",
       " '[라이카] Leica Q2 Black +32GB메모리+LCD보호필름',\n",
       " '고프로 히어로8 블랙 IN (gopro hero8 black,액션캠)',\n",
       " '[소니정품] 소니 캠코더 HDR-CX405 (더욱 강력해진 엔트리급 캠코더)',\n",
       " '[정품등록 이벤트][정품] EOS R Body + 가이드북 + 포켓융 + 서울무료퀵',\n",
       " '소니 신학기 준비는 소니와 함께',\n",
       " '[공식판매점]Leica C-Lux 미드나잇 블루 + 128GB 메모리 패키지',\n",
       " '[정품] EOS M200 더블렌즈 kit (15-45mm + 22mm)',\n",
       " '고프로 히어로8 블랙 (gopro hero8 black,액션캠,카메라) [서울지역무료퀵]',\n",
       " '[니콘 정품] 니콘 카메라 D850/바디킷',\n",
       " '[여주점] [캐논 CANON] 파워샷 G7X MARK II [사은품: SD16G]',\n",
       " ' 미러리스 카메라 Z7 BODY',\n",
       " '[정품] EOS 200D II 더블렌즈 (18-55mm + 40mm) KIT 화이트',\n",
       " '[파나소닉] 루믹스 카메라 DMC-LX10/배터리+케이스+32G 증정',\n",
       " '[정품] EOS 200D II 18-55mm STM KIT',\n",
       " '[파나소닉] 인기 만점 카메라 총집합!+사은품 증정까지',\n",
       " '페이유 AK4500 스탠다드키트 카메라짐벌 4.6Kg 정품',\n",
       " '[정품] EOS 850D 18-55mm STM Kit',\n",
       " '[라이카] Leica D-LUX 7 Street kit Edition',\n",
       " '[소니e] SEL50F18/E마운트/쩜팔렌즈/E 50mm F1.8 OSS 블랙,실버',\n",
       " '캐논 EOS M50 15-45 IS STM KIT WHITE (+SD16G)',\n",
       " '[캐논 CANON] 파워샷 G5X MARK II (사은품: SD16G)',\n",
       " '[여주점] [캐논 CANON] EOS 200D II 18-55mm KIT (화이트/블랙) [사은품: SD16G]',\n",
       " '[정품] EOS M200 15-45mm kit',\n",
       " '캐논 PS G7X Mark III (SL)']"
      ]
     },
     "execution_count": 19,
     "metadata": {},
     "output_type": "execute_result"
    }
   ],
   "source": [
    "columnList"
   ]
  },
  {
   "cell_type": "code",
   "execution_count": null,
   "metadata": {},
   "outputs": [],
   "source": []
  },
  {
   "cell_type": "code",
   "execution_count": null,
   "metadata": {},
   "outputs": [],
   "source": [
    "# 상품명\n",
    "div = li.find(name = \"div\",{\"class\":\"thmb\"})\n",
    "name = div.find(\"img\")['alt']\n",
    "columnList.append(name)\n",
    "# 상품 가격\n",
    "price = li.find(\"em\",{\"class\":\"ssg_price\"}).text\n",
    "price = price + \"원\"\n",
    "columnList.append(price)\n",
    "# 상품 링크\n",
    "link = div.find(\"a\")['href']\n",
    "columnList.append(link)\n",
    "dataList.append(columnList)\n",
    "columnList = []"
   ]
  },
  {
   "cell_type": "code",
   "execution_count": null,
   "metadata": {},
   "outputs": [],
   "source": []
  },
  {
   "cell_type": "code",
   "execution_count": 51,
   "metadata": {},
   "outputs": [],
   "source": [
    "# 4. 한 행의 값을 담을 리스트와 전체 행을 담을 리스트 선언\n",
    "columnList = []\n",
    "dataList = []"
   ]
  },
  {
   "cell_type": "code",
   "execution_count": null,
   "metadata": {},
   "outputs": [],
   "source": [
    "li = lis[0]"
   ]
  },
  {
   "cell_type": "code",
   "execution_count": null,
   "metadata": {},
   "outputs": [],
   "source": [
    "# 상품명\n",
    "div = li.find(name = \"div\",{\"class\":\"thmb\"})\n",
    "name = div.find(\"img\")['alt']\n",
    "columnList.append(name)\n",
    "# 상품 가격\n",
    "price = li.find(\"em\",{\"class\":\"ssg_price\"}).text\n",
    "price = price + \"원\"\n",
    "columnList.append(price)\n",
    "# 상품 링크\n",
    "link = div.find(\"a\")['href']\n",
    "columnList.append(link)\n",
    "dataList.append(columnList)\n",
    "columnList = []\n",
    "dataList"
   ]
  },
  {
   "cell_type": "code",
   "execution_count": 51,
   "metadata": {},
   "outputs": [
    {
     "data": {
      "text/html": [
       "<div>\n",
       "<style scoped>\n",
       "    .dataframe tbody tr th:only-of-type {\n",
       "        vertical-align: middle;\n",
       "    }\n",
       "\n",
       "    .dataframe tbody tr th {\n",
       "        vertical-align: top;\n",
       "    }\n",
       "\n",
       "    .dataframe thead th {\n",
       "        text-align: right;\n",
       "    }\n",
       "</style>\n",
       "<table border=\"1\" class=\"dataframe\">\n",
       "  <thead>\n",
       "    <tr style=\"text-align: right;\">\n",
       "      <th></th>\n",
       "      <th>상품명</th>\n",
       "      <th>상품 가격</th>\n",
       "      <th>상품 링크</th>\n",
       "    </tr>\n",
       "  </thead>\n",
       "  <tbody>\n",
       "    <tr>\n",
       "      <th>0</th>\n",
       "      <td>소니 ILCE-7CL/A7CL/SEL2860렌즈키트/원핸드 컴팩트 풀프레임 카메라</td>\n",
       "      <td>2,202,480원</td>\n",
       "      <td>/item/itemView.ssg?itemId=1000054014734&amp;siteNo...</td>\n",
       "    </tr>\n",
       "    <tr>\n",
       "      <th>1</th>\n",
       "      <td>소니 알파 대체불가 미러리스 모음전</td>\n",
       "      <td>2,202,480원</td>\n",
       "      <td>/item/dealItemView.ssg?itemId=1000045468416&amp;si...</td>\n",
       "    </tr>\n",
       "    <tr>\n",
       "      <th>2</th>\n",
       "      <td>소니 풀프레임 미러리스 카메라 A7C (ILCE-7C) 바디킷</td>\n",
       "      <td>2,000,700원</td>\n",
       "      <td>/item/itemView.ssg?itemId=1000055839811&amp;siteNo...</td>\n",
       "    </tr>\n",
       "    <tr>\n",
       "      <th>3</th>\n",
       "      <td>[정품등록 이벤트][정품] EOS R6 Body + 가이드북 + 서울 무료퀵</td>\n",
       "      <td>2,991,550원</td>\n",
       "      <td>/item/itemView.ssg?itemId=1000052236084&amp;siteNo...</td>\n",
       "    </tr>\n",
       "    <tr>\n",
       "      <th>4</th>\n",
       "      <td>[정품] PowerShot G7X Mark III</td>\n",
       "      <td>759,000원</td>\n",
       "      <td>/item/itemView.ssg?itemId=1000035559361&amp;siteNo...</td>\n",
       "    </tr>\n",
       "    <tr>\n",
       "      <th>5</th>\n",
       "      <td>[라이카] Leica D-LUX7 Silver +32GB메모리+LCD보호필름</td>\n",
       "      <td>1,804,200원</td>\n",
       "      <td>/item/itemView.ssg?itemId=1000039898517&amp;siteNo...</td>\n",
       "    </tr>\n",
       "    <tr>\n",
       "      <th>6</th>\n",
       "      <td>[정품등록 이벤트][정품] EOS RP Body + 포켓융 + 서울무료퀵</td>\n",
       "      <td>1,185,750원</td>\n",
       "      <td>/item/itemView.ssg?itemId=1000032445125&amp;siteNo...</td>\n",
       "    </tr>\n",
       "    <tr>\n",
       "      <th>7</th>\n",
       "      <td>소니 A6000(SELP 16-50 mm OSS 렌즈킷) + SD32G 메모리 + ...</td>\n",
       "      <td>573,800원</td>\n",
       "      <td>/item/itemView.ssg?itemId=1000048359397&amp;siteNo...</td>\n",
       "    </tr>\n",
       "    <tr>\n",
       "      <th>8</th>\n",
       "      <td>[본사직영] LEICA D-Lux7</td>\n",
       "      <td>1,860,000원</td>\n",
       "      <td>/item/itemView.ssg?itemId=1000032813674&amp;siteNo...</td>\n",
       "    </tr>\n",
       "    <tr>\n",
       "      <th>9</th>\n",
       "      <td>캐논 PS G7X Mark III</td>\n",
       "      <td>695,000원</td>\n",
       "      <td>/item/itemView.ssg?itemId=1000061957056&amp;siteNo...</td>\n",
       "    </tr>\n",
       "    <tr>\n",
       "      <th>10</th>\n",
       "      <td>[파나소닉]루믹스 프리미엄 컴팩트 카메라 DC-LX100M2/F1.7-2.8 라이카...</td>\n",
       "      <td>892,060원</td>\n",
       "      <td>/item/itemView.ssg?itemId=1000030310799&amp;siteNo...</td>\n",
       "    </tr>\n",
       "    <tr>\n",
       "      <th>11</th>\n",
       "      <td>DSC-RX100M3 하이엔드 1.0타입 디지털카메라</td>\n",
       "      <td>512,440원</td>\n",
       "      <td>/item/itemView.ssg?itemId=1000023107404&amp;siteNo...</td>\n",
       "    </tr>\n",
       "    <tr>\n",
       "      <th>12</th>\n",
       "      <td>[파나소닉] 루믹스 DC-GF10(12-32)렌즈킷/미러리스/사은품 케이스 증정</td>\n",
       "      <td>459,800원</td>\n",
       "      <td>/item/itemView.ssg?itemId=1000026893937&amp;siteNo...</td>\n",
       "    </tr>\n",
       "    <tr>\n",
       "      <th>13</th>\n",
       "      <td>[니콘데이&amp;위크] [정품] 니콘 Nikon D5600 Kit(AF-P 18-55mm...</td>\n",
       "      <td>662,400원</td>\n",
       "      <td>/item/itemView.ssg?itemId=1000020533731&amp;siteNo...</td>\n",
       "    </tr>\n",
       "    <tr>\n",
       "      <th>14</th>\n",
       "      <td>[본사직영] Leica D-Lux7 Black</td>\n",
       "      <td>1,860,000원</td>\n",
       "      <td>/item/itemView.ssg?itemId=1000053086490&amp;siteNo...</td>\n",
       "    </tr>\n",
       "    <tr>\n",
       "      <th>15</th>\n",
       "      <td>[여주점] 디지털카메라 &amp; 포토프린터 특가행사</td>\n",
       "      <td>810,000원</td>\n",
       "      <td>/item/dealItemView.ssg?itemId=1000049933322&amp;si...</td>\n",
       "    </tr>\n",
       "    <tr>\n",
       "      <th>16</th>\n",
       "      <td>[라이카] Leica Q2 Black +32GB메모리+LCD보호필름</td>\n",
       "      <td>7,362,300원</td>\n",
       "      <td>/item/itemView.ssg?itemId=1000039869926&amp;siteNo...</td>\n",
       "    </tr>\n",
       "    <tr>\n",
       "      <th>17</th>\n",
       "      <td>고프로 히어로8 블랙 IN (gopro hero8 black,액션캠)</td>\n",
       "      <td>354,050원</td>\n",
       "      <td>/item/itemView.ssg?itemId=1000039106023&amp;siteNo...</td>\n",
       "    </tr>\n",
       "    <tr>\n",
       "      <th>18</th>\n",
       "      <td>[소니정품] 소니 캠코더 HDR-CX405 (더욱 강력해진 엔트리급 캠코더)</td>\n",
       "      <td>394,250원</td>\n",
       "      <td>/item/itemView.ssg?itemId=1000010192681&amp;siteNo...</td>\n",
       "    </tr>\n",
       "    <tr>\n",
       "      <th>19</th>\n",
       "      <td>[정품등록 이벤트][정품] EOS R Body + 가이드북 + 포켓융 + 서울무료퀵</td>\n",
       "      <td>2,070,000원</td>\n",
       "      <td>/item/itemView.ssg?itemId=1000029726321&amp;siteNo...</td>\n",
       "    </tr>\n",
       "    <tr>\n",
       "      <th>20</th>\n",
       "      <td>소니 신학기 준비는 소니와 함께</td>\n",
       "      <td>512,440원</td>\n",
       "      <td>/item/dealItemView.ssg?itemId=1000062305350&amp;si...</td>\n",
       "    </tr>\n",
       "    <tr>\n",
       "      <th>21</th>\n",
       "      <td>[공식판매점]Leica C-Lux 미드나잇 블루 + 128GB 메모리 패키지</td>\n",
       "      <td>1,522,900원</td>\n",
       "      <td>/item/itemView.ssg?itemId=1000034265896&amp;siteNo...</td>\n",
       "    </tr>\n",
       "    <tr>\n",
       "      <th>22</th>\n",
       "      <td>[정품] EOS M200 더블렌즈 kit (15-45mm + 22mm)</td>\n",
       "      <td>777,400원</td>\n",
       "      <td>/item/itemView.ssg?itemId=1000044135061&amp;siteNo...</td>\n",
       "    </tr>\n",
       "    <tr>\n",
       "      <th>23</th>\n",
       "      <td>고프로 히어로8 블랙 (gopro hero8 black,액션캠,카메라) [서울지역무료퀵]</td>\n",
       "      <td>358,798원</td>\n",
       "      <td>/item/itemView.ssg?itemId=1000037102952&amp;siteNo...</td>\n",
       "    </tr>\n",
       "    <tr>\n",
       "      <th>24</th>\n",
       "      <td>[니콘 정품] 니콘 카메라 D850/바디킷</td>\n",
       "      <td>2,991,550원</td>\n",
       "      <td>/item/itemView.ssg?itemId=1000026536448&amp;siteNo...</td>\n",
       "    </tr>\n",
       "    <tr>\n",
       "      <th>25</th>\n",
       "      <td>[여주점] [캐논 CANON] 파워샷 G7X MARK II [사은품: SD16G]</td>\n",
       "      <td>595,000원</td>\n",
       "      <td>/item/itemView.ssg?itemId=1000034477071&amp;siteNo...</td>\n",
       "    </tr>\n",
       "    <tr>\n",
       "      <th>26</th>\n",
       "      <td>미러리스 카메라 Z7 BODY</td>\n",
       "      <td>2,944,050원</td>\n",
       "      <td>/item/itemView.ssg?itemId=1000030656737&amp;siteNo...</td>\n",
       "    </tr>\n",
       "    <tr>\n",
       "      <th>27</th>\n",
       "      <td>[정품] EOS 200D II 더블렌즈 (18-55mm + 40mm) KIT 화이트</td>\n",
       "      <td>854,680원</td>\n",
       "      <td>/item/itemView.ssg?itemId=1000034262251&amp;siteNo...</td>\n",
       "    </tr>\n",
       "    <tr>\n",
       "      <th>28</th>\n",
       "      <td>[파나소닉] 루믹스 카메라 DMC-LX10/배터리+케이스+32G 증정</td>\n",
       "      <td>495,880원</td>\n",
       "      <td>/item/itemView.ssg?itemId=1000034264250&amp;siteNo...</td>\n",
       "    </tr>\n",
       "    <tr>\n",
       "      <th>29</th>\n",
       "      <td>[정품] EOS 200D II 18-55mm STM KIT</td>\n",
       "      <td>774,640원</td>\n",
       "      <td>/item/itemView.ssg?itemId=1000033684675&amp;siteNo...</td>\n",
       "    </tr>\n",
       "    <tr>\n",
       "      <th>30</th>\n",
       "      <td>[파나소닉] 인기 만점 카메라 총집합!+사은품 증정까지</td>\n",
       "      <td>2,810,600원</td>\n",
       "      <td>/item/dealItemView.ssg?itemId=1000037440315&amp;si...</td>\n",
       "    </tr>\n",
       "    <tr>\n",
       "      <th>31</th>\n",
       "      <td>페이유 AK4500 스탠다드키트 카메라짐벌 4.6Kg 정품</td>\n",
       "      <td>808,000원</td>\n",
       "      <td>/item/itemView.ssg?itemId=1000048447832&amp;siteNo...</td>\n",
       "    </tr>\n",
       "    <tr>\n",
       "      <th>32</th>\n",
       "      <td>[정품] EOS 850D 18-55mm STM Kit</td>\n",
       "      <td>1,059,840원</td>\n",
       "      <td>/item/itemView.ssg?itemId=1000045748101&amp;siteNo...</td>\n",
       "    </tr>\n",
       "    <tr>\n",
       "      <th>33</th>\n",
       "      <td>[라이카] Leica D-LUX 7 Street kit Edition</td>\n",
       "      <td>2,007,900원</td>\n",
       "      <td>/item/itemView.ssg?itemId=1000064719219&amp;siteNo...</td>\n",
       "    </tr>\n",
       "    <tr>\n",
       "      <th>34</th>\n",
       "      <td>[소니e] SEL50F18/E마운트/쩜팔렌즈/E 50mm F1.8 OSS 블랙,실버</td>\n",
       "      <td>259,440원</td>\n",
       "      <td>/item/itemView.ssg?itemId=1000038560044&amp;siteNo...</td>\n",
       "    </tr>\n",
       "    <tr>\n",
       "      <th>35</th>\n",
       "      <td>캐논 EOS M50 15-45 IS STM KIT WHITE (+SD16G)</td>\n",
       "      <td>699,000원</td>\n",
       "      <td>/item/itemView.ssg?itemId=1000026741934&amp;siteNo...</td>\n",
       "    </tr>\n",
       "    <tr>\n",
       "      <th>36</th>\n",
       "      <td>[캐논 CANON] 파워샷 G5X MARK II (사은품: SD16G)</td>\n",
       "      <td>845,000원</td>\n",
       "      <td>/item/itemView.ssg?itemId=1000041768370&amp;siteNo...</td>\n",
       "    </tr>\n",
       "    <tr>\n",
       "      <th>37</th>\n",
       "      <td>[여주점] [캐논 CANON] EOS 200D II 18-55mm KIT (화이트/...</td>\n",
       "      <td>810,000원</td>\n",
       "      <td>/item/itemView.ssg?itemId=1000035581872&amp;siteNo...</td>\n",
       "    </tr>\n",
       "    <tr>\n",
       "      <th>38</th>\n",
       "      <td>[정품] EOS M200 15-45mm kit</td>\n",
       "      <td>625,600원</td>\n",
       "      <td>/item/itemView.ssg?itemId=1000044276645&amp;siteNo...</td>\n",
       "    </tr>\n",
       "    <tr>\n",
       "      <th>39</th>\n",
       "      <td>캐논 PS G7X Mark III (SL)</td>\n",
       "      <td>695,000원</td>\n",
       "      <td>/item/itemView.ssg?itemId=1000061957068&amp;siteNo...</td>\n",
       "    </tr>\n",
       "  </tbody>\n",
       "</table>\n",
       "</div>"
      ],
      "text/plain": [
       "                                                  상품명       상품 가격  \\\n",
       "0       소니 ILCE-7CL/A7CL/SEL2860렌즈키트/원핸드 컴팩트 풀프레임 카메라  2,202,480원   \n",
       "1                                 소니 알파 대체불가 미러리스 모음전  2,202,480원   \n",
       "2                  소니 풀프레임 미러리스 카메라 A7C (ILCE-7C) 바디킷  2,000,700원   \n",
       "3          [정품등록 이벤트][정품] EOS R6 Body + 가이드북 + 서울 무료퀵  2,991,550원   \n",
       "4                         [정품] PowerShot G7X Mark III    759,000원   \n",
       "5          [라이카] Leica D-LUX7 Silver +32GB메모리+LCD보호필름  1,804,200원   \n",
       "6            [정품등록 이벤트][정품] EOS RP Body + 포켓융 + 서울무료퀵  1,185,750원   \n",
       "7   소니 A6000(SELP 16-50 mm OSS 렌즈킷) + SD32G 메모리 + ...    573,800원   \n",
       "8                                 [본사직영] LEICA D-Lux7  1,860,000원   \n",
       "9                                  캐논 PS G7X Mark III    695,000원   \n",
       "10  [파나소닉]루믹스 프리미엄 컴팩트 카메라 DC-LX100M2/F1.7-2.8 라이카...    892,060원   \n",
       "11                      DSC-RX100M3 하이엔드 1.0타입 디지털카메라    512,440원   \n",
       "12       [파나소닉] 루믹스 DC-GF10(12-32)렌즈킷/미러리스/사은품 케이스 증정    459,800원   \n",
       "13  [니콘데이&위크] [정품] 니콘 Nikon D5600 Kit(AF-P 18-55mm...    662,400원   \n",
       "14                          [본사직영] Leica D-Lux7 Black  1,860,000원   \n",
       "15                          [여주점] 디지털카메라 & 포토프린터 특가행사    810,000원   \n",
       "16              [라이카] Leica Q2 Black +32GB메모리+LCD보호필름  7,362,300원   \n",
       "17             고프로 히어로8 블랙 IN (gopro hero8 black,액션캠)    354,050원   \n",
       "18         [소니정품] 소니 캠코더 HDR-CX405 (더욱 강력해진 엔트리급 캠코더)    394,250원   \n",
       "19     [정품등록 이벤트][정품] EOS R Body + 가이드북 + 포켓융 + 서울무료퀵  2,070,000원   \n",
       "20                                  소니 신학기 준비는 소니와 함께    512,440원   \n",
       "21         [공식판매점]Leica C-Lux 미드나잇 블루 + 128GB 메모리 패키지  1,522,900원   \n",
       "22            [정품] EOS M200 더블렌즈 kit (15-45mm + 22mm)    777,400원   \n",
       "23  고프로 히어로8 블랙 (gopro hero8 black,액션캠,카메라) [서울지역무료퀵]    358,798원   \n",
       "24                            [니콘 정품] 니콘 카메라 D850/바디킷  2,991,550원   \n",
       "25      [여주점] [캐논 CANON] 파워샷 G7X MARK II [사은품: SD16G]    595,000원   \n",
       "26                                   미러리스 카메라 Z7 BODY  2,944,050원   \n",
       "27     [정품] EOS 200D II 더블렌즈 (18-55mm + 40mm) KIT 화이트    854,680원   \n",
       "28             [파나소닉] 루믹스 카메라 DMC-LX10/배터리+케이스+32G 증정    495,880원   \n",
       "29                   [정품] EOS 200D II 18-55mm STM KIT    774,640원   \n",
       "30                     [파나소닉] 인기 만점 카메라 총집합!+사은품 증정까지  2,810,600원   \n",
       "31                   페이유 AK4500 스탠다드키트 카메라짐벌 4.6Kg 정품    808,000원   \n",
       "32                      [정품] EOS 850D 18-55mm STM Kit  1,059,840원   \n",
       "33             [라이카] Leica D-LUX 7 Street kit Edition  2,007,900원   \n",
       "34     [소니e] SEL50F18/E마운트/쩜팔렌즈/E 50mm F1.8 OSS 블랙,실버    259,440원   \n",
       "35         캐논 EOS M50 15-45 IS STM KIT WHITE (+SD16G)    699,000원   \n",
       "36            [캐논 CANON] 파워샷 G5X MARK II (사은품: SD16G)    845,000원   \n",
       "37  [여주점] [캐논 CANON] EOS 200D II 18-55mm KIT (화이트/...    810,000원   \n",
       "38                          [정품] EOS M200 15-45mm kit    625,600원   \n",
       "39                            캐논 PS G7X Mark III (SL)    695,000원   \n",
       "\n",
       "                                                상품 링크  \n",
       "0   /item/itemView.ssg?itemId=1000054014734&siteNo...  \n",
       "1   /item/dealItemView.ssg?itemId=1000045468416&si...  \n",
       "2   /item/itemView.ssg?itemId=1000055839811&siteNo...  \n",
       "3   /item/itemView.ssg?itemId=1000052236084&siteNo...  \n",
       "4   /item/itemView.ssg?itemId=1000035559361&siteNo...  \n",
       "5   /item/itemView.ssg?itemId=1000039898517&siteNo...  \n",
       "6   /item/itemView.ssg?itemId=1000032445125&siteNo...  \n",
       "7   /item/itemView.ssg?itemId=1000048359397&siteNo...  \n",
       "8   /item/itemView.ssg?itemId=1000032813674&siteNo...  \n",
       "9   /item/itemView.ssg?itemId=1000061957056&siteNo...  \n",
       "10  /item/itemView.ssg?itemId=1000030310799&siteNo...  \n",
       "11  /item/itemView.ssg?itemId=1000023107404&siteNo...  \n",
       "12  /item/itemView.ssg?itemId=1000026893937&siteNo...  \n",
       "13  /item/itemView.ssg?itemId=1000020533731&siteNo...  \n",
       "14  /item/itemView.ssg?itemId=1000053086490&siteNo...  \n",
       "15  /item/dealItemView.ssg?itemId=1000049933322&si...  \n",
       "16  /item/itemView.ssg?itemId=1000039869926&siteNo...  \n",
       "17  /item/itemView.ssg?itemId=1000039106023&siteNo...  \n",
       "18  /item/itemView.ssg?itemId=1000010192681&siteNo...  \n",
       "19  /item/itemView.ssg?itemId=1000029726321&siteNo...  \n",
       "20  /item/dealItemView.ssg?itemId=1000062305350&si...  \n",
       "21  /item/itemView.ssg?itemId=1000034265896&siteNo...  \n",
       "22  /item/itemView.ssg?itemId=1000044135061&siteNo...  \n",
       "23  /item/itemView.ssg?itemId=1000037102952&siteNo...  \n",
       "24  /item/itemView.ssg?itemId=1000026536448&siteNo...  \n",
       "25  /item/itemView.ssg?itemId=1000034477071&siteNo...  \n",
       "26  /item/itemView.ssg?itemId=1000030656737&siteNo...  \n",
       "27  /item/itemView.ssg?itemId=1000034262251&siteNo...  \n",
       "28  /item/itemView.ssg?itemId=1000034264250&siteNo...  \n",
       "29  /item/itemView.ssg?itemId=1000033684675&siteNo...  \n",
       "30  /item/dealItemView.ssg?itemId=1000037440315&si...  \n",
       "31  /item/itemView.ssg?itemId=1000048447832&siteNo...  \n",
       "32  /item/itemView.ssg?itemId=1000045748101&siteNo...  \n",
       "33  /item/itemView.ssg?itemId=1000064719219&siteNo...  \n",
       "34  /item/itemView.ssg?itemId=1000038560044&siteNo...  \n",
       "35  /item/itemView.ssg?itemId=1000026741934&siteNo...  \n",
       "36  /item/itemView.ssg?itemId=1000041768370&siteNo...  \n",
       "37  /item/itemView.ssg?itemId=1000035581872&siteNo...  \n",
       "38  /item/itemView.ssg?itemId=1000044276645&siteNo...  \n",
       "39  /item/itemView.ssg?itemId=1000061957068&siteNo...  "
      ]
     },
     "execution_count": 51,
     "metadata": {},
     "output_type": "execute_result"
    }
   ],
   "source": [
    "# 5. 반복문 이용해서 상품명, 가격, 링크 정보 리스트에 담기\n",
    "for li in lis:\n",
    "    # 상품명\n",
    "    div = li.find(name = \"div\",{\"class\":\"thmb\"})\n",
    "    name = div.find(\"img\")['alt']\n",
    "    columnList.append(name)\n",
    "    # 상품 가격\n",
    "    price = li.find(\"em\",{\"class\":\"ssg_price\"}).text\n",
    "    price = price + \"원\"\n",
    "    columnList.append(price)\n",
    "    # 상품 링크\n",
    "    link = div.find(\"a\")['href']\n",
    "    columnList.append(link)\n",
    "    dataList.append(columnList)\n",
    "    columnList = []\n",
    "dataList\n",
    "\n",
    "# 6. 데이터프레임 만들기\n",
    "productInfo = pd.DataFrame(dataList, columns = [\"상품명\", \"상품 가격\", \"상품 링크\"])\n",
    "productInfo"
   ]
  },
  {
   "cell_type": "code",
   "execution_count": null,
   "metadata": {},
   "outputs": [],
   "source": []
  }
 ],
 "metadata": {
  "kernelspec": {
   "display_name": "Python 3",
   "language": "python",
   "name": "python3"
  },
  "language_info": {
   "codemirror_mode": {
    "name": "ipython",
    "version": 3
   },
   "file_extension": ".py",
   "mimetype": "text/x-python",
   "name": "python",
   "nbconvert_exporter": "python",
   "pygments_lexer": "ipython3",
   "version": "3.8.3"
  }
 },
 "nbformat": 4,
 "nbformat_minor": 4
}
