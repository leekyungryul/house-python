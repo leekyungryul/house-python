{
 "cells": [
  {
   "cell_type": "code",
   "execution_count": 70,
   "metadata": {},
   "outputs": [],
   "source": [
    "import requests, bs4\n",
    "import pandas as pd\n",
    "\n",
    "\n",
    "headers = {'User-Agent': 'Mozilla/5.0 (Macintosh; Intel Mac OS X 10.14; rv:71.0) Gecko/20100101 Firefox/71.0'}\n",
    "\n",
    "#웹페이지 html 소스 가져오기\n",
    "resp = requests.get(\"https://www.coupang.com/np/search?component=&q=%EC%82%AC%EA%B3%BC&channel=user\", headers=headers)\n",
    "resp.encoding='utf-8'\n",
    "html = resp.text\n",
    "htmlobj = bs4.BeautifulSoup(html, 'html.parser')"
   ]
  },
  {
   "cell_type": "code",
   "execution_count": 71,
   "metadata": {},
   "outputs": [],
   "source": [
    "parent = htmlobj.find(name = 'ul', id = 'productList')"
   ]
  },
  {
   "cell_type": "code",
   "execution_count": 89,
   "metadata": {},
   "outputs": [],
   "source": [
    "litag = parent.findAll(name = 'li')"
   ]
  },
  {
   "cell_type": "code",
   "execution_count": 108,
   "metadata": {},
   "outputs": [
    {
     "data": {
      "text/plain": [
       "36"
      ]
     },
     "execution_count": 108,
     "metadata": {},
     "output_type": "execute_result"
    }
   ],
   "source": [
    "len(litag)"
   ]
  },
  {
   "cell_type": "code",
   "execution_count": 91,
   "metadata": {},
   "outputs": [
    {
     "data": {
      "text/plain": [
       "'    광고   |  무료배송 새콤달콤 가정용 부사사과 5KG (당일배송), 가정용 사과 (크기 랜덤) 5KG    20,900원     \\n 목요일 4/22   도착 예정    4.0 (430)  최대 209원 적립'"
      ]
     },
     "execution_count": 91,
     "metadata": {},
     "output_type": "execute_result"
    }
   ],
   "source": [
    "litag[0].text"
   ]
  },
  {
   "cell_type": "code",
   "execution_count": 102,
   "metadata": {},
   "outputs": [],
   "source": [
    "price = litag[0].find(name = 'div', attrs = {\"class\":\"price-area\"})"
   ]
  },
  {
   "cell_type": "code",
   "execution_count": 113,
   "metadata": {},
   "outputs": [],
   "source": [
    "name = litag[0].find(name = 'div', attrs = {\"class\":\"name\"})"
   ]
  },
  {
   "cell_type": "code",
   "execution_count": 114,
   "metadata": {},
   "outputs": [
    {
     "data": {
      "text/plain": [
       "'새콤달콤 가정용 부사사과 5KG (당일배송), 가정용 사과 (크기 랜덤) 5KG'"
      ]
     },
     "execution_count": 114,
     "metadata": {},
     "output_type": "execute_result"
    }
   ],
   "source": [
    "name.text"
   ]
  },
  {
   "cell_type": "code",
   "execution_count": 103,
   "metadata": {},
   "outputs": [
    {
     "data": {
      "text/plain": [
       "'   20,900원     \\n 목요일 4/22   도착 예정    '"
      ]
     },
     "execution_count": 103,
     "metadata": {},
     "output_type": "execute_result"
    }
   ],
   "source": [
    "price.text"
   ]
  },
  {
   "cell_type": "code",
   "execution_count": 105,
   "metadata": {},
   "outputs": [],
   "source": [
    "result = price.find(name = 'strong', attrs = {\"class\":\"price-value\"})"
   ]
  },
  {
   "cell_type": "code",
   "execution_count": 107,
   "metadata": {},
   "outputs": [
    {
     "data": {
      "text/plain": [
       "'20,900'"
      ]
     },
     "execution_count": 107,
     "metadata": {},
     "output_type": "execute_result"
    }
   ],
   "source": [
    "result.text"
   ]
  },
  {
   "cell_type": "code",
   "execution_count": 125,
   "metadata": {},
   "outputs": [
    {
     "name": "stdout",
     "output_type": "stream",
     "text": [
      "[['새콤달콤 가정용 부사사과 5KG (당일배송), 가정용 사과 (크기 랜덤) 5KG', '20,900'], ['곰곰 당도선별 세척사과, 2kg, 1박스', '14,310'], ['곰곰 당도선별 안동 세척사과, 1.8kg(8~9입), 1개', '13,800'], ['곰곰 당도선별 안동 사과, 1.5kg, 1개', '11,200'], ['이정도인데 갈아먹는 쥬스용 사과 (부자재무게포함), 1박스, 쥬스용사과5.3KG(미색,흠집)크기랜덤-반품X', '18,900'], ['매일농원 에브리데이365 프리미엄 청송사과 GPA인증 하루한알 내몸에 사과하세요, 1박스, 2. 가정용흠과 2kg중과', '16,000'], ['아삭한 충주씨 당도선별 사과, 3kg(12~14입), 1개', '23,900'], ['곰곰 시나노 골드사과, 2kg(4~7입), 1박스', '23,000'], ['[라임농장] 고당도 경북사과 실속형 2kg 5kg 10kg 산지직송, 1box, [라임_02] 가정용흠과 2kg / 중과', '16,900'], ['곰곰 당도선별 사과, 1.5kg, 1봉', '11,800'], ['의성 저탄소 인증 바로먹는 세척사과, 2kg(7~10입), 1박스', '14,380'], ['경북농협 문경 ABC 보조개 사과, 2.5kg, 1봉', '14,900'], ['곰곰 당도선별 사과, 2kg (특대), 1봉', '14,900'], ['프레샤인 충주 GAP 인증 고당도 사과, 1.2kg(5~8입), 1봉', '13,900'], ['곰곰 맛있는 보조개 알뜰사과, 2.5kg, 1봉', '12,550'], ['양구 고당도 사과, 2kg (6~7과), 1개', '29,900'], ['프레샤인 충주 GAP 인증 당도선별 사과, 2kg(6~11입), 1봉', '17,900'], ['자가담 의성 당도선별 큰 사과, 2kg(5~7과), 1개', '17,900'], ['의성 저탄소 인증 사과, 1.5kg (5~7입), 1봉', '13,730'], ['곰곰 당도선별 안동사과, 2kg, 1박스', '16,690'], ['의성 저탄소 인증 왕 사과, 1kg (3입), 1팩', '16,900'], ['프레샤인 충주 GAP 인증 당도선별 바로먹는 세척 사과, 2.5kg(8~13입), 1박스', '22,000'], ['프레샤인 충주 GAP 인증 당도선별 작아도 맛있는 꼬마 사과, 3kg, 1봉', '19,900'], ['경북농협 문경 당도선별 사과, 2kg(6~9입), 1봉', '17,900'], ['의성 당도선별 사과 중과, 10kg(42~45과), 1박스', '69,900'], ['청송 당도선별 사과, 1.5kg(5~8입), 1봉', '11,800'], ['청송 당도선별 사과, 1kg(3입), 1팩', '13,900'], ['경북농협 문경 당도선별 바로먹는 세척사과, 2kg(9~12입), 1박스', '14,900'], ['경북농협 문경 당도선별 사과, 1.5kg(6~9입), 1봉', '10,800'], ['프레시픽 안동 당도선별사과, 2kg(5~14과 내외), 1봉', '12,800'], ['충주씨 충주 사과, 2kg, 1봉', '13,800'], ['새콤달콤 가정용 부사사과 5KG (당일배송), 가정용 사과 (크기 랜덤) 5KG', '20,900'], ['의성 저탄소 인증 사과, 3kg (12~16입), 1박스', '24,900'], ['주왕산털보네 하늘사과, 9kg내외, 25~30과내외', '32,900'], ['의성 GAP 인증 꼬마 사과, 2kg(10~13입), 1박스', '16,600'], ['농협 껍질째 먹는 안심사과, 3kg, 1박스', '23,760']]\n",
      "0\n"
     ]
    },
    {
     "data": {
      "text/html": [
       "<div>\n",
       "<style scoped>\n",
       "    .dataframe tbody tr th:only-of-type {\n",
       "        vertical-align: middle;\n",
       "    }\n",
       "\n",
       "    .dataframe tbody tr th {\n",
       "        vertical-align: top;\n",
       "    }\n",
       "\n",
       "    .dataframe thead th {\n",
       "        text-align: right;\n",
       "    }\n",
       "</style>\n",
       "<table border=\"1\" class=\"dataframe\">\n",
       "  <thead>\n",
       "    <tr style=\"text-align: right;\">\n",
       "      <th></th>\n",
       "      <th>상품명</th>\n",
       "      <th>가격</th>\n",
       "    </tr>\n",
       "  </thead>\n",
       "  <tbody>\n",
       "    <tr>\n",
       "      <th>0</th>\n",
       "      <td>새콤달콤 가정용 부사사과 5KG (당일배송), 가정용 사과 (크기 랜덤) 5KG</td>\n",
       "      <td>20,900</td>\n",
       "    </tr>\n",
       "    <tr>\n",
       "      <th>1</th>\n",
       "      <td>곰곰 당도선별 세척사과, 2kg, 1박스</td>\n",
       "      <td>14,310</td>\n",
       "    </tr>\n",
       "    <tr>\n",
       "      <th>2</th>\n",
       "      <td>곰곰 당도선별 안동 세척사과, 1.8kg(8~9입), 1개</td>\n",
       "      <td>13,800</td>\n",
       "    </tr>\n",
       "    <tr>\n",
       "      <th>3</th>\n",
       "      <td>곰곰 당도선별 안동 사과, 1.5kg, 1개</td>\n",
       "      <td>11,200</td>\n",
       "    </tr>\n",
       "    <tr>\n",
       "      <th>4</th>\n",
       "      <td>이정도인데 갈아먹는 쥬스용 사과 (부자재무게포함), 1박스, 쥬스용사과5.3KG(미...</td>\n",
       "      <td>18,900</td>\n",
       "    </tr>\n",
       "    <tr>\n",
       "      <th>5</th>\n",
       "      <td>매일농원 에브리데이365 프리미엄 청송사과 GPA인증 하루한알 내몸에 사과하세요, ...</td>\n",
       "      <td>16,000</td>\n",
       "    </tr>\n",
       "    <tr>\n",
       "      <th>6</th>\n",
       "      <td>아삭한 충주씨 당도선별 사과, 3kg(12~14입), 1개</td>\n",
       "      <td>23,900</td>\n",
       "    </tr>\n",
       "    <tr>\n",
       "      <th>7</th>\n",
       "      <td>곰곰 시나노 골드사과, 2kg(4~7입), 1박스</td>\n",
       "      <td>23,000</td>\n",
       "    </tr>\n",
       "    <tr>\n",
       "      <th>8</th>\n",
       "      <td>[라임농장] 고당도 경북사과 실속형 2kg 5kg 10kg 산지직송, 1box, [...</td>\n",
       "      <td>16,900</td>\n",
       "    </tr>\n",
       "    <tr>\n",
       "      <th>9</th>\n",
       "      <td>곰곰 당도선별 사과, 1.5kg, 1봉</td>\n",
       "      <td>11,800</td>\n",
       "    </tr>\n",
       "    <tr>\n",
       "      <th>10</th>\n",
       "      <td>의성 저탄소 인증 바로먹는 세척사과, 2kg(7~10입), 1박스</td>\n",
       "      <td>14,380</td>\n",
       "    </tr>\n",
       "    <tr>\n",
       "      <th>11</th>\n",
       "      <td>경북농협 문경 ABC 보조개 사과, 2.5kg, 1봉</td>\n",
       "      <td>14,900</td>\n",
       "    </tr>\n",
       "    <tr>\n",
       "      <th>12</th>\n",
       "      <td>곰곰 당도선별 사과, 2kg (특대), 1봉</td>\n",
       "      <td>14,900</td>\n",
       "    </tr>\n",
       "    <tr>\n",
       "      <th>13</th>\n",
       "      <td>프레샤인 충주 GAP 인증 고당도 사과, 1.2kg(5~8입), 1봉</td>\n",
       "      <td>13,900</td>\n",
       "    </tr>\n",
       "    <tr>\n",
       "      <th>14</th>\n",
       "      <td>곰곰 맛있는 보조개 알뜰사과, 2.5kg, 1봉</td>\n",
       "      <td>12,550</td>\n",
       "    </tr>\n",
       "    <tr>\n",
       "      <th>15</th>\n",
       "      <td>양구 고당도 사과, 2kg (6~7과), 1개</td>\n",
       "      <td>29,900</td>\n",
       "    </tr>\n",
       "    <tr>\n",
       "      <th>16</th>\n",
       "      <td>프레샤인 충주 GAP 인증 당도선별 사과, 2kg(6~11입), 1봉</td>\n",
       "      <td>17,900</td>\n",
       "    </tr>\n",
       "    <tr>\n",
       "      <th>17</th>\n",
       "      <td>자가담 의성 당도선별 큰 사과, 2kg(5~7과), 1개</td>\n",
       "      <td>17,900</td>\n",
       "    </tr>\n",
       "    <tr>\n",
       "      <th>18</th>\n",
       "      <td>의성 저탄소 인증 사과, 1.5kg (5~7입), 1봉</td>\n",
       "      <td>13,730</td>\n",
       "    </tr>\n",
       "    <tr>\n",
       "      <th>19</th>\n",
       "      <td>곰곰 당도선별 안동사과, 2kg, 1박스</td>\n",
       "      <td>16,690</td>\n",
       "    </tr>\n",
       "    <tr>\n",
       "      <th>20</th>\n",
       "      <td>의성 저탄소 인증 왕 사과, 1kg (3입), 1팩</td>\n",
       "      <td>16,900</td>\n",
       "    </tr>\n",
       "    <tr>\n",
       "      <th>21</th>\n",
       "      <td>프레샤인 충주 GAP 인증 당도선별 바로먹는 세척 사과, 2.5kg(8~13입), 1박스</td>\n",
       "      <td>22,000</td>\n",
       "    </tr>\n",
       "    <tr>\n",
       "      <th>22</th>\n",
       "      <td>프레샤인 충주 GAP 인증 당도선별 작아도 맛있는 꼬마 사과, 3kg, 1봉</td>\n",
       "      <td>19,900</td>\n",
       "    </tr>\n",
       "    <tr>\n",
       "      <th>23</th>\n",
       "      <td>경북농협 문경 당도선별 사과, 2kg(6~9입), 1봉</td>\n",
       "      <td>17,900</td>\n",
       "    </tr>\n",
       "    <tr>\n",
       "      <th>24</th>\n",
       "      <td>의성 당도선별 사과 중과, 10kg(42~45과), 1박스</td>\n",
       "      <td>69,900</td>\n",
       "    </tr>\n",
       "    <tr>\n",
       "      <th>25</th>\n",
       "      <td>청송 당도선별 사과, 1.5kg(5~8입), 1봉</td>\n",
       "      <td>11,800</td>\n",
       "    </tr>\n",
       "    <tr>\n",
       "      <th>26</th>\n",
       "      <td>청송 당도선별 사과, 1kg(3입), 1팩</td>\n",
       "      <td>13,900</td>\n",
       "    </tr>\n",
       "    <tr>\n",
       "      <th>27</th>\n",
       "      <td>경북농협 문경 당도선별 바로먹는 세척사과, 2kg(9~12입), 1박스</td>\n",
       "      <td>14,900</td>\n",
       "    </tr>\n",
       "    <tr>\n",
       "      <th>28</th>\n",
       "      <td>경북농협 문경 당도선별 사과, 1.5kg(6~9입), 1봉</td>\n",
       "      <td>10,800</td>\n",
       "    </tr>\n",
       "    <tr>\n",
       "      <th>29</th>\n",
       "      <td>프레시픽 안동 당도선별사과, 2kg(5~14과 내외), 1봉</td>\n",
       "      <td>12,800</td>\n",
       "    </tr>\n",
       "    <tr>\n",
       "      <th>30</th>\n",
       "      <td>충주씨 충주 사과, 2kg, 1봉</td>\n",
       "      <td>13,800</td>\n",
       "    </tr>\n",
       "    <tr>\n",
       "      <th>31</th>\n",
       "      <td>새콤달콤 가정용 부사사과 5KG (당일배송), 가정용 사과 (크기 랜덤) 5KG</td>\n",
       "      <td>20,900</td>\n",
       "    </tr>\n",
       "    <tr>\n",
       "      <th>32</th>\n",
       "      <td>의성 저탄소 인증 사과, 3kg (12~16입), 1박스</td>\n",
       "      <td>24,900</td>\n",
       "    </tr>\n",
       "    <tr>\n",
       "      <th>33</th>\n",
       "      <td>주왕산털보네 하늘사과, 9kg내외, 25~30과내외</td>\n",
       "      <td>32,900</td>\n",
       "    </tr>\n",
       "    <tr>\n",
       "      <th>34</th>\n",
       "      <td>의성 GAP 인증 꼬마 사과, 2kg(10~13입), 1박스</td>\n",
       "      <td>16,600</td>\n",
       "    </tr>\n",
       "    <tr>\n",
       "      <th>35</th>\n",
       "      <td>농협 껍질째 먹는 안심사과, 3kg, 1박스</td>\n",
       "      <td>23,760</td>\n",
       "    </tr>\n",
       "  </tbody>\n",
       "</table>\n",
       "</div>"
      ],
      "text/plain": [
       "                                                  상품명      가격\n",
       "0        새콤달콤 가정용 부사사과 5KG (당일배송), 가정용 사과 (크기 랜덤) 5KG  20,900\n",
       "1                              곰곰 당도선별 세척사과, 2kg, 1박스  14,310\n",
       "2                    곰곰 당도선별 안동 세척사과, 1.8kg(8~9입), 1개  13,800\n",
       "3                            곰곰 당도선별 안동 사과, 1.5kg, 1개  11,200\n",
       "4   이정도인데 갈아먹는 쥬스용 사과 (부자재무게포함), 1박스, 쥬스용사과5.3KG(미...  18,900\n",
       "5   매일농원 에브리데이365 프리미엄 청송사과 GPA인증 하루한알 내몸에 사과하세요, ...  16,000\n",
       "6                    아삭한 충주씨 당도선별 사과, 3kg(12~14입), 1개  23,900\n",
       "7                         곰곰 시나노 골드사과, 2kg(4~7입), 1박스  23,000\n",
       "8   [라임농장] 고당도 경북사과 실속형 2kg 5kg 10kg 산지직송, 1box, [...  16,900\n",
       "9                               곰곰 당도선별 사과, 1.5kg, 1봉  11,800\n",
       "10               의성 저탄소 인증 바로먹는 세척사과, 2kg(7~10입), 1박스  14,380\n",
       "11                      경북농협 문경 ABC 보조개 사과, 2.5kg, 1봉  14,900\n",
       "12                           곰곰 당도선별 사과, 2kg (특대), 1봉  14,900\n",
       "13             프레샤인 충주 GAP 인증 고당도 사과, 1.2kg(5~8입), 1봉  13,900\n",
       "14                         곰곰 맛있는 보조개 알뜰사과, 2.5kg, 1봉  12,550\n",
       "15                          양구 고당도 사과, 2kg (6~7과), 1개  29,900\n",
       "16             프레샤인 충주 GAP 인증 당도선별 사과, 2kg(6~11입), 1봉  17,900\n",
       "17                    자가담 의성 당도선별 큰 사과, 2kg(5~7과), 1개  17,900\n",
       "18                     의성 저탄소 인증 사과, 1.5kg (5~7입), 1봉  13,730\n",
       "19                             곰곰 당도선별 안동사과, 2kg, 1박스  16,690\n",
       "20                       의성 저탄소 인증 왕 사과, 1kg (3입), 1팩  16,900\n",
       "21  프레샤인 충주 GAP 인증 당도선별 바로먹는 세척 사과, 2.5kg(8~13입), 1박스  22,000\n",
       "22         프레샤인 충주 GAP 인증 당도선별 작아도 맛있는 꼬마 사과, 3kg, 1봉  19,900\n",
       "23                     경북농협 문경 당도선별 사과, 2kg(6~9입), 1봉  17,900\n",
       "24                   의성 당도선별 사과 중과, 10kg(42~45과), 1박스  69,900\n",
       "25                        청송 당도선별 사과, 1.5kg(5~8입), 1봉  11,800\n",
       "26                            청송 당도선별 사과, 1kg(3입), 1팩  13,900\n",
       "27            경북농협 문경 당도선별 바로먹는 세척사과, 2kg(9~12입), 1박스  14,900\n",
       "28                   경북농협 문경 당도선별 사과, 1.5kg(6~9입), 1봉  10,800\n",
       "29                  프레시픽 안동 당도선별사과, 2kg(5~14과 내외), 1봉  12,800\n",
       "30                                 충주씨 충주 사과, 2kg, 1봉  13,800\n",
       "31       새콤달콤 가정용 부사사과 5KG (당일배송), 가정용 사과 (크기 랜덤) 5KG  20,900\n",
       "32                    의성 저탄소 인증 사과, 3kg (12~16입), 1박스  24,900\n",
       "33                       주왕산털보네 하늘사과, 9kg내외, 25~30과내외  32,900\n",
       "34                  의성 GAP 인증 꼬마 사과, 2kg(10~13입), 1박스  16,600\n",
       "35                           농협 껍질째 먹는 안심사과, 3kg, 1박스  23,760"
      ]
     },
     "execution_count": 125,
     "metadata": {},
     "output_type": "execute_result"
    }
   ],
   "source": [
    "rows = []\n",
    "columns1 = []\n",
    "for i in range(0,len(litag)):\n",
    "    price = litag[i].find(name = 'div', attrs = {\"class\":\"price-area\"})\n",
    "    result = price.find(name = 'strong', attrs = {\"class\":\"price-value\"})\n",
    "    name = litag[i].find(name = 'div', attrs = {\"class\":\"name\"})\n",
    "    columns1.append(name.text)\n",
    "    columns1.append(result.text)\n",
    "    rows.append(columns1)\n",
    "    columns1 = []\n",
    "print(rows)\n",
    "print(len(columns1))\n",
    "resultData = pd.DataFrame(rows)\n",
    "resultData.columns = ['상품명','가격']\n",
    "resultData"
   ]
  },
  {
   "cell_type": "code",
   "execution_count": 118,
   "metadata": {},
   "outputs": [
    {
     "name": "stdout",
     "output_type": "stream",
     "text": [
      "['새콤달콤 가정용 부사사과 5KG (당일배송), 가정용 사과 (크기 랜덤) 5KG', '곰곰 당도선별 세척사과, 2kg, 1박스', '곰곰 당도선별 안동 세척사과, 1.8kg(8~9입), 1개', '곰곰 당도선별 안동 사과, 1.5kg, 1개', '이정도인데 갈아먹는 쥬스용 사과 (부자재무게포함), 1박스, 쥬스용사과5.3KG(미색,흠집)크기랜덤-반품X', '매일농원 에브리데이365 프리미엄 청송사과 GPA인증 하루한알 내몸에 사과하세요, 1박스, 2. 가정용흠과 2kg중과', '아삭한 충주씨 당도선별 사과, 3kg(12~14입), 1개', '곰곰 시나노 골드사과, 2kg(4~7입), 1박스', '[라임농장] 고당도 경북사과 실속형 2kg 5kg 10kg 산지직송, 1box, [라임_02] 가정용흠과 2kg / 중과', '곰곰 당도선별 사과, 1.5kg, 1봉', '의성 저탄소 인증 바로먹는 세척사과, 2kg(7~10입), 1박스', '경북농협 문경 ABC 보조개 사과, 2.5kg, 1봉', '곰곰 당도선별 사과, 2kg (특대), 1봉', '프레샤인 충주 GAP 인증 고당도 사과, 1.2kg(5~8입), 1봉', '곰곰 맛있는 보조개 알뜰사과, 2.5kg, 1봉', '양구 고당도 사과, 2kg (6~7과), 1개', '프레샤인 충주 GAP 인증 당도선별 사과, 2kg(6~11입), 1봉', '자가담 의성 당도선별 큰 사과, 2kg(5~7과), 1개', '의성 저탄소 인증 사과, 1.5kg (5~7입), 1봉', '곰곰 당도선별 안동사과, 2kg, 1박스', '의성 저탄소 인증 왕 사과, 1kg (3입), 1팩', '프레샤인 충주 GAP 인증 당도선별 바로먹는 세척 사과, 2.5kg(8~13입), 1박스', '프레샤인 충주 GAP 인증 당도선별 작아도 맛있는 꼬마 사과, 3kg, 1봉', '경북농협 문경 당도선별 사과, 2kg(6~9입), 1봉', '의성 당도선별 사과 중과, 10kg(42~45과), 1박스', '청송 당도선별 사과, 1.5kg(5~8입), 1봉', '청송 당도선별 사과, 1kg(3입), 1팩', '경북농협 문경 당도선별 바로먹는 세척사과, 2kg(9~12입), 1박스', '경북농협 문경 당도선별 사과, 1.5kg(6~9입), 1봉', '프레시픽 안동 당도선별사과, 2kg(5~14과 내외), 1봉', '충주씨 충주 사과, 2kg, 1봉', '새콤달콤 가정용 부사사과 5KG (당일배송), 가정용 사과 (크기 랜덤) 5KG', '의성 저탄소 인증 사과, 3kg (12~16입), 1박스', '주왕산털보네 하늘사과, 9kg내외, 25~30과내외', '의성 GAP 인증 꼬마 사과, 2kg(10~13입), 1박스', '농협 껍질째 먹는 안심사과, 3kg, 1박스']\n",
      "36\n"
     ]
    }
   ],
   "source": [
    "columns = []\n",
    "for i in range(0,len(litag)):\n",
    "    name = litag[i].find(name = 'div', attrs = {\"class\":\"name\"})\n",
    "#     result = price.find(name = 'strong', attrs = {\"class\":\"price-value\"})\n",
    "    columns.append(name.text)\n",
    "print(columns)\n",
    "print(len(columns))"
   ]
  },
  {
   "cell_type": "code",
   "execution_count": null,
   "metadata": {},
   "outputs": [],
   "source": []
  },
  {
   "cell_type": "code",
   "execution_count": null,
   "metadata": {},
   "outputs": [],
   "source": [
    "ssf몰에서 품목검색\n",
    "\n",
    "import requests, bs4\n",
    "import pandas as pd\n",
    "\n",
    "headers = {'User-Agent': 'Mozilla/5.0 (Macintosh; Intel Mac OS X 10.14; rv:71.0) Gecko/20100101 Firefox/71.0'}\n",
    "\n",
    "#웹페이지 html 소스 가져오기\n",
    "resp = requests.get(\"https://www.ssfshop.com/Top-Sellers/list?dspCtgryNo=SFMA42A14&brandShopNo=&brndShopId=&etcCtgryNo=&ctgrySectCd=BST_CTGRY&keyword=&leftBrandNM=\", headers=headers)\n",
    "resp.encoding='utf-8'\n",
    "\n",
    "html = resp.text\n",
    "htmlobj = bs4.BeautifulSoup(html, 'html.parser')\n",
    "\n",
    "total = htmlobj.find( name = \"ul\",attrs = {\"id\":\"dspGood\"})\n",
    "price = total.find_all(\"span\",{\"class\":\"price\"})\n",
    "product = total.find_all(\"span\",{\"class\":\"name\"})\n",
    "review = total.find_all(\"span\",{\"class\":\"review\"})\n",
    "like = total.find_all(\"span\",{\"class\":\"heart\"})\n",
    "# 컬럼을 담을 빈 리스트를 하나 생성합니다.\n",
    "columnsList=[]\n",
    "# 최종 행을 담을 빈 리스트를 하나 생성합니다.\n",
    "dataList = []\n",
    "#원하는 제품들의 목록 횟수만큼 반복을 합니다.\n",
    "for i in range(0,len(product)):\n",
    "    #수집한 제품이름 정보와 관련된 text를 인덱싱하여 이름만 가져옵니다. \n",
    "    productName = product[i].text[12:]\n",
    "    #앞서 생성한 columnsList에 담습니다.\n",
    "    columnsList.append(productName)\n",
    "    #수집한 제품 가격과 관련된 text를 정제하기 위하여 split 및 인덱싱을 하였습니다.\n",
    "    PriceRaw = price[i].text\n",
    "    PriceRawSplit = PriceRaw.split(\"원\")\n",
    "    productPrice = PriceRawSplit[0][18:]\n",
    "    #정제한 제품가격을 columnsList에 담습니다.\n",
    "    columnsList.append(productPrice)\n",
    "    #수집한 리뷰 정보와 관련된 text를 인덱싱하여 횟수만 가져옵니다. \n",
    "    reviewNum = review[i].text[2:]\n",
    "    #columnsList에 담습니다.\n",
    "    columnsList.append(reviewNum)\n",
    "    #위의 3가지 컬럼이 담겨진 columnsList를 dataList에 담습니다.\n",
    "    dataList.append(columnsList)\n",
    "    #다시 비워줍니다.\n",
    "    columnsList = []\n",
    "    #DataFrame으로 변환하고 컬럼이름을 바꾸어 줍니다.\n",
    "productInfo = pd.DataFrame(dataList, columns = [\"상품명\", \"상품 가격(원)\",\"리뷰횟수\"])\n",
    "\n",
    "---------------------------------------------------------------------------------------------------------------------\n",
    "\n",
    "위와 동일한 방법으로 쿠팡에서 사과검색해서 품목 정리\n",
    "rows = []\n",
    "columns = []\n",
    "for i in range(0,len(litag)):\n",
    "    price = litag[i].find(name = 'div', attrs = {\"class\":\"price-area\"})\n",
    "    result = price.find(name = 'strong', attrs = {\"class\":\"price-value\"})\n",
    "    name = litag[i].find(name = 'div', attrs = {\"class\":\"name\"})\n",
    "    columns.append(name.text)\n",
    "    columns.append(result.text)\n",
    "    rows.append(columns)\n",
    "    columns = []\n",
    "resultData = pd.DataFrame(rows)\n",
    "resultData.columns = ['상품명','가격']\n",
    "resultData"
   ]
  },
  {
   "cell_type": "code",
   "execution_count": null,
   "metadata": {},
   "outputs": [],
   "source": []
  },
  {
   "cell_type": "code",
   "execution_count": null,
   "metadata": {},
   "outputs": [],
   "source": []
  },
  {
   "cell_type": "code",
   "execution_count": null,
   "metadata": {},
   "outputs": [],
   "source": []
  },
  {
   "cell_type": "code",
   "execution_count": null,
   "metadata": {},
   "outputs": [],
   "source": []
  },
  {
   "cell_type": "code",
   "execution_count": null,
   "metadata": {},
   "outputs": [],
   "source": []
  },
  {
   "cell_type": "code",
   "execution_count": 83,
   "metadata": {},
   "outputs": [],
   "source": [
    "result = product.find(name = 'div', attrs = {\"class\":\"price-area\"})"
   ]
  },
  {
   "cell_type": "code",
   "execution_count": 84,
   "metadata": {},
   "outputs": [
    {
     "data": {
      "text/plain": [
       "'   20,900원     \\n 목요일 4/22   도착 예정    '"
      ]
     },
     "execution_count": 84,
     "metadata": {},
     "output_type": "execute_result"
    }
   ],
   "source": [
    "result.text"
   ]
  },
  {
   "cell_type": "code",
   "execution_count": 87,
   "metadata": {},
   "outputs": [],
   "source": [
    "a = result.find(name = 'strong', attrs = {\"class\":\"price-value\"})"
   ]
  },
  {
   "cell_type": "code",
   "execution_count": 88,
   "metadata": {},
   "outputs": [
    {
     "data": {
      "text/plain": [
       "'20,900'"
      ]
     },
     "execution_count": 88,
     "metadata": {},
     "output_type": "execute_result"
    }
   ],
   "source": [
    "a.text"
   ]
  },
  {
   "cell_type": "code",
   "execution_count": 38,
   "metadata": {},
   "outputs": [],
   "source": [
    "tbodytags = parent.find('tbody')"
   ]
  },
  {
   "cell_type": "code",
   "execution_count": 40,
   "metadata": {},
   "outputs": [],
   "source": [
    "trs = tbodytags.findAll('tr')"
   ]
  },
  {
   "cell_type": "code",
   "execution_count": 45,
   "metadata": {},
   "outputs": [
    {
     "data": {
      "text/plain": [
       "[<td>101</td>, <td>김효관</td>]"
      ]
     },
     "execution_count": 45,
     "metadata": {},
     "output_type": "execute_result"
    }
   ],
   "source": [
    "trs[0].findAll('td')"
   ]
  },
  {
   "cell_type": "code",
   "execution_count": 46,
   "metadata": {},
   "outputs": [
    {
     "name": "stdout",
     "output_type": "stream",
     "text": [
      "[['101', '김효관'], ['102', '이순신'], ['103', '김어진']]\n"
     ]
    }
   ],
   "source": [
    "columns = []\n",
    "rows = []\n",
    "for i in range(0,len(trs)):\n",
    "    eachtr = trs[i]\n",
    "    tds = trs[i].findAll('td')\n",
    "    for j in range(0,len(tds)):\n",
    "        eachtd = tds[j].text\n",
    "        columns.append(eachtd)\n",
    "    rows.append(columns)\n",
    "    columns = []\n",
    "print(rows)"
   ]
  },
  {
   "cell_type": "code",
   "execution_count": 49,
   "metadata": {},
   "outputs": [],
   "source": [
    "result = pd.DataFrame(rows)"
   ]
  },
  {
   "cell_type": "code",
   "execution_count": 50,
   "metadata": {},
   "outputs": [],
   "source": [
    "result.columns = ['순번','이름']"
   ]
  },
  {
   "cell_type": "code",
   "execution_count": 51,
   "metadata": {},
   "outputs": [
    {
     "data": {
      "text/html": [
       "<div>\n",
       "<style scoped>\n",
       "    .dataframe tbody tr th:only-of-type {\n",
       "        vertical-align: middle;\n",
       "    }\n",
       "\n",
       "    .dataframe tbody tr th {\n",
       "        vertical-align: top;\n",
       "    }\n",
       "\n",
       "    .dataframe thead th {\n",
       "        text-align: right;\n",
       "    }\n",
       "</style>\n",
       "<table border=\"1\" class=\"dataframe\">\n",
       "  <thead>\n",
       "    <tr style=\"text-align: right;\">\n",
       "      <th></th>\n",
       "      <th>순번</th>\n",
       "      <th>이름</th>\n",
       "    </tr>\n",
       "  </thead>\n",
       "  <tbody>\n",
       "    <tr>\n",
       "      <th>0</th>\n",
       "      <td>101</td>\n",
       "      <td>김효관</td>\n",
       "    </tr>\n",
       "    <tr>\n",
       "      <th>1</th>\n",
       "      <td>102</td>\n",
       "      <td>이순신</td>\n",
       "    </tr>\n",
       "    <tr>\n",
       "      <th>2</th>\n",
       "      <td>103</td>\n",
       "      <td>김어진</td>\n",
       "    </tr>\n",
       "  </tbody>\n",
       "</table>\n",
       "</div>"
      ],
      "text/plain": [
       "    순번   이름\n",
       "0  101  김효관\n",
       "1  102  이순신\n",
       "2  103  김어진"
      ]
     },
     "execution_count": 51,
     "metadata": {},
     "output_type": "execute_result"
    }
   ],
   "source": [
    "result"
   ]
  },
  {
   "cell_type": "code",
   "execution_count": 53,
   "metadata": {},
   "outputs": [],
   "source": [
    "theadtag = parent.find('thead')"
   ]
  },
  {
   "cell_type": "code",
   "execution_count": 54,
   "metadata": {},
   "outputs": [
    {
     "data": {
      "text/plain": [
       "<thead>\n",
       "<tr>\n",
       "<th scope=\"cols\">학번</th>\n",
       "<th scope=\"cols\">이름</th>\n",
       "</tr>\n",
       "</thead>"
      ]
     },
     "execution_count": 54,
     "metadata": {},
     "output_type": "execute_result"
    }
   ],
   "source": [
    "theadtag"
   ]
  },
  {
   "cell_type": "code",
   "execution_count": 56,
   "metadata": {},
   "outputs": [
    {
     "data": {
      "text/plain": [
       "[<th scope=\"cols\">학번</th>, <th scope=\"cols\">이름</th>]"
      ]
     },
     "execution_count": 56,
     "metadata": {},
     "output_type": "execute_result"
    }
   ],
   "source": [
    "theadtag.findAll('th')"
   ]
  },
  {
   "cell_type": "code",
   "execution_count": 58,
   "metadata": {},
   "outputs": [],
   "source": [
    "ths = theadtag.findAll('th')"
   ]
  },
  {
   "cell_type": "code",
   "execution_count": 59,
   "metadata": {},
   "outputs": [
    {
     "data": {
      "text/plain": [
       "[<th scope=\"cols\">학번</th>, <th scope=\"cols\">이름</th>]"
      ]
     },
     "execution_count": 59,
     "metadata": {},
     "output_type": "execute_result"
    }
   ],
   "source": [
    "ths"
   ]
  },
  {
   "cell_type": "code",
   "execution_count": 60,
   "metadata": {},
   "outputs": [],
   "source": [
    "headname = []\n",
    "for i in range(0,len(ths)):\n",
    "    eachths = ths[i].text\n",
    "    headname.append(eachths)"
   ]
  },
  {
   "cell_type": "code",
   "execution_count": 61,
   "metadata": {},
   "outputs": [
    {
     "data": {
      "text/plain": [
       "['학번', '이름']"
      ]
     },
     "execution_count": 61,
     "metadata": {},
     "output_type": "execute_result"
    }
   ],
   "source": [
    "headname"
   ]
  },
  {
   "cell_type": "code",
   "execution_count": 67,
   "metadata": {},
   "outputs": [
    {
     "name": "stdout",
     "output_type": "stream",
     "text": [
      "[['학번', '이름'], ['101', '김효관'], ['102', '이순신'], ['103', '김어진']]\n"
     ]
    }
   ],
   "source": [
    "columns = []\n",
    "rows = []\n",
    "for k in range(0,2):\n",
    "    eachhead = headname[k]\n",
    "    columns.append(eachhead)\n",
    "rows.append(columns)\n",
    "columns = []\n",
    "\n",
    "for i in range(0,len(trs)):\n",
    "    eachtr = trs[i]\n",
    "    tds = trs[i].findAll('td')\n",
    "    for j in range(0,len(tds)):\n",
    "        eachtd = tds[j].text\n",
    "        columns.append(eachtd)\n",
    "    rows.append(columns)\n",
    "    columns = []\n",
    "print(rows)"
   ]
  },
  {
   "cell_type": "code",
   "execution_count": 68,
   "metadata": {},
   "outputs": [],
   "source": [
    "result2 = pd.DataFrame(rows)"
   ]
  },
  {
   "cell_type": "code",
   "execution_count": 69,
   "metadata": {},
   "outputs": [
    {
     "data": {
      "text/html": [
       "<div>\n",
       "<style scoped>\n",
       "    .dataframe tbody tr th:only-of-type {\n",
       "        vertical-align: middle;\n",
       "    }\n",
       "\n",
       "    .dataframe tbody tr th {\n",
       "        vertical-align: top;\n",
       "    }\n",
       "\n",
       "    .dataframe thead th {\n",
       "        text-align: right;\n",
       "    }\n",
       "</style>\n",
       "<table border=\"1\" class=\"dataframe\">\n",
       "  <thead>\n",
       "    <tr style=\"text-align: right;\">\n",
       "      <th></th>\n",
       "      <th>0</th>\n",
       "      <th>1</th>\n",
       "    </tr>\n",
       "  </thead>\n",
       "  <tbody>\n",
       "    <tr>\n",
       "      <th>0</th>\n",
       "      <td>학번</td>\n",
       "      <td>이름</td>\n",
       "    </tr>\n",
       "    <tr>\n",
       "      <th>1</th>\n",
       "      <td>101</td>\n",
       "      <td>김효관</td>\n",
       "    </tr>\n",
       "    <tr>\n",
       "      <th>2</th>\n",
       "      <td>102</td>\n",
       "      <td>이순신</td>\n",
       "    </tr>\n",
       "    <tr>\n",
       "      <th>3</th>\n",
       "      <td>103</td>\n",
       "      <td>김어진</td>\n",
       "    </tr>\n",
       "  </tbody>\n",
       "</table>\n",
       "</div>"
      ],
      "text/plain": [
       "     0    1\n",
       "0   학번   이름\n",
       "1  101  김효관\n",
       "2  102  이순신\n",
       "3  103  김어진"
      ]
     },
     "execution_count": 69,
     "metadata": {},
     "output_type": "execute_result"
    }
   ],
   "source": [
    "result2"
   ]
  },
  {
   "cell_type": "code",
   "execution_count": null,
   "metadata": {},
   "outputs": [],
   "source": []
  },
  {
   "cell_type": "code",
   "execution_count": null,
   "metadata": {},
   "outputs": [],
   "source": []
  },
  {
   "cell_type": "code",
   "execution_count": 24,
   "metadata": {},
   "outputs": [
    {
     "data": {
      "text/plain": [
       "<table class=\"type07\" id=\"test_table\">\n",
       "<thead>\n",
       "<tr>\n",
       "<th scope=\"cols\">학번</th>\n",
       "<th scope=\"cols\">이름</th>\n",
       "</tr>\n",
       "</thead>\n",
       "<tbody>\n",
       "<tr>\n",
       "<td>101</td>\n",
       "<td>김효관</td>\n",
       "</tr>\n",
       "<tr>\n",
       "<td>102</td>\n",
       "<td>이순신</td>\n",
       "</tr>\n",
       "<tr>\n",
       "<td>103</td>\n",
       "<td>김어진</td>\n",
       "</tr>\n",
       "</tbody>\n",
       "</table>"
      ]
     },
     "execution_count": 24,
     "metadata": {},
     "output_type": "execute_result"
    }
   ],
   "source": [
    "targetParents = htmlobj.find( name = \"table\",attrs = {\"id\":\"test_table\"})\n",
    "targetParents\n",
    "# 원하는 테이블을 불러온다."
   ]
  },
  {
   "cell_type": "code",
   "execution_count": 25,
   "metadata": {},
   "outputs": [
    {
     "data": {
      "text/plain": [
       "<tbody>\n",
       "<tr>\n",
       "<td>101</td>\n",
       "<td>김효관</td>\n",
       "</tr>\n",
       "<tr>\n",
       "<td>102</td>\n",
       "<td>이순신</td>\n",
       "</tr>\n",
       "<tr>\n",
       "<td>103</td>\n",
       "<td>김어진</td>\n",
       "</tr>\n",
       "</tbody>"
      ]
     },
     "execution_count": 25,
     "metadata": {},
     "output_type": "execute_result"
    }
   ],
   "source": [
    "tbodytags = targetParents.find( name = \"tbody\")\n",
    "tbodytags\n",
    "# tbody라는 태그를 찾아서 불러온다"
   ]
  },
  {
   "cell_type": "code",
   "execution_count": 26,
   "metadata": {},
   "outputs": [
    {
     "name": "stdout",
     "output_type": "stream",
     "text": [
      "3\n"
     ]
    },
    {
     "data": {
      "text/plain": [
       "<tr>\n",
       "<td>101</td>\n",
       "<td>김효관</td>\n",
       "</tr>"
      ]
     },
     "execution_count": 26,
     "metadata": {},
     "output_type": "execute_result"
    }
   ],
   "source": [
    "trs = tbodytags.findAll(\"tr\")\n",
    "# tr 태그로 감싸진 것들을 인덱스에 담았다.\n",
    "print(len(trs))\n",
    "trs[0]"
   ]
  },
  {
   "cell_type": "code",
   "execution_count": 11,
   "metadata": {},
   "outputs": [],
   "source": [
    "eachtr = trs[0]"
   ]
  },
  {
   "cell_type": "code",
   "execution_count": 12,
   "metadata": {},
   "outputs": [
    {
     "data": {
      "text/plain": [
       "<tr>\n",
       "<td>101</td>\n",
       "<td>김효관</td>\n",
       "</tr>"
      ]
     },
     "execution_count": 12,
     "metadata": {},
     "output_type": "execute_result"
    }
   ],
   "source": [
    "eachtr"
   ]
  },
  {
   "cell_type": "code",
   "execution_count": 14,
   "metadata": {},
   "outputs": [],
   "source": [
    "tds = eachtr.findAll('td')"
   ]
  },
  {
   "cell_type": "code",
   "execution_count": 15,
   "metadata": {},
   "outputs": [
    {
     "data": {
      "text/plain": [
       "[<td>101</td>, <td>김효관</td>]"
      ]
     },
     "execution_count": 15,
     "metadata": {},
     "output_type": "execute_result"
    }
   ],
   "source": [
    "tds"
   ]
  },
  {
   "cell_type": "code",
   "execution_count": 16,
   "metadata": {},
   "outputs": [
    {
     "data": {
      "text/plain": [
       "'101'"
      ]
     },
     "execution_count": 16,
     "metadata": {},
     "output_type": "execute_result"
    }
   ],
   "source": [
    "tds[0].text"
   ]
  },
  {
   "cell_type": "code",
   "execution_count": 29,
   "metadata": {},
   "outputs": [],
   "source": [
    "columns = []\n",
    "rows = []\n",
    "for j in range(0,len(trs)):\n",
    "    eachtr = trs[j]\n",
    "    tds = eachtr.findAll('td')\n",
    "    for i in range(0, len(tds)):\n",
    "        eachtd = tds[i]\n",
    "        columns.append(eachtd.text)\n",
    "    rows.append(columns)\n",
    "    columns = []"
   ]
  },
  {
   "cell_type": "code",
   "execution_count": 30,
   "metadata": {},
   "outputs": [
    {
     "data": {
      "text/plain": [
       "[]"
      ]
     },
     "execution_count": 30,
     "metadata": {},
     "output_type": "execute_result"
    }
   ],
   "source": [
    "columns"
   ]
  },
  {
   "cell_type": "code",
   "execution_count": 31,
   "metadata": {},
   "outputs": [
    {
     "data": {
      "text/plain": [
       "[['101', '김효관'], ['102', '이순신'], ['103', '김어진']]"
      ]
     },
     "execution_count": 31,
     "metadata": {},
     "output_type": "execute_result"
    }
   ],
   "source": [
    "rows"
   ]
  },
  {
   "cell_type": "code",
   "execution_count": 32,
   "metadata": {},
   "outputs": [
    {
     "data": {
      "text/html": [
       "<div>\n",
       "<style scoped>\n",
       "    .dataframe tbody tr th:only-of-type {\n",
       "        vertical-align: middle;\n",
       "    }\n",
       "\n",
       "    .dataframe tbody tr th {\n",
       "        vertical-align: top;\n",
       "    }\n",
       "\n",
       "    .dataframe thead th {\n",
       "        text-align: right;\n",
       "    }\n",
       "</style>\n",
       "<table border=\"1\" class=\"dataframe\">\n",
       "  <thead>\n",
       "    <tr style=\"text-align: right;\">\n",
       "      <th></th>\n",
       "      <th>0</th>\n",
       "      <th>1</th>\n",
       "    </tr>\n",
       "  </thead>\n",
       "  <tbody>\n",
       "    <tr>\n",
       "      <th>0</th>\n",
       "      <td>101</td>\n",
       "      <td>김효관</td>\n",
       "    </tr>\n",
       "    <tr>\n",
       "      <th>1</th>\n",
       "      <td>102</td>\n",
       "      <td>이순신</td>\n",
       "    </tr>\n",
       "    <tr>\n",
       "      <th>2</th>\n",
       "      <td>103</td>\n",
       "      <td>김어진</td>\n",
       "    </tr>\n",
       "  </tbody>\n",
       "</table>\n",
       "</div>"
      ],
      "text/plain": [
       "     0    1\n",
       "0  101  김효관\n",
       "1  102  이순신\n",
       "2  103  김어진"
      ]
     },
     "execution_count": 32,
     "metadata": {},
     "output_type": "execute_result"
    }
   ],
   "source": [
    "pd.DataFrame(rows)"
   ]
  },
  {
   "cell_type": "code",
   "execution_count": 4,
   "metadata": {},
   "outputs": [
    {
     "data": {
      "text/plain": [
       "'https://forms.gle/Fw49w9GhWQChDcZm7'"
      ]
     },
     "execution_count": 4,
     "metadata": {},
     "output_type": "execute_result"
    }
   ],
   "source": [
    "atags[0].attrs[\"href\"]"
   ]
  },
  {
   "cell_type": "code",
   "execution_count": 5,
   "metadata": {},
   "outputs": [
    {
     "data": {
      "text/plain": [
       "' 6/13 Spark 심화과정 '"
      ]
     },
     "execution_count": 5,
     "metadata": {},
     "output_type": "execute_result"
    }
   ],
   "source": [
    "atags[0].text"
   ]
  },
  {
   "cell_type": "code",
   "execution_count": 7,
   "metadata": {},
   "outputs": [],
   "source": [
    "columns = []\n",
    "rows = []\n",
    "for i in range(0,len(atags)):\n",
    "    each = atags[i]\n",
    "    columns.append(each.text)\n",
    "    columns.append(each.attrs['href'])\n",
    "    rows.append(columns)\n",
    "    columns = []"
   ]
  },
  {
   "cell_type": "code",
   "execution_count": 8,
   "metadata": {},
   "outputs": [
    {
     "data": {
      "text/plain": [
       "[[' 6/13 Spark 심화과정 ', 'https://forms.gle/Fw49w9GhWQChDcZm7'],\n",
       " [' 6/13 Spark 기본과정 ', 'https://forms.gle/G4TcXm3fKuHLHA6D6'],\n",
       " [' 6/18 Spark [MAP_FILTER] ', 'https://forms.gle/M8gr1kC2ubA3UDVp8'],\n",
       " [' 6/18 Spark GroupBy 심화 ', 'https://forms.gle/h8w5mZ4MNaPLCPbi6'],\n",
       " [' 6/25 Spark RDD 실전 분석 ', 'https://forms.gle/q5yL6QHfueDLM5w27'],\n",
       " [' 6/27 Spark RDD 실전 분석2 ', 'https://forms.gle/Gxb4y6LfVYiaLu4M7']]"
      ]
     },
     "execution_count": 8,
     "metadata": {},
     "output_type": "execute_result"
    }
   ],
   "source": [
    "rows"
   ]
  },
  {
   "cell_type": "code",
   "execution_count": 10,
   "metadata": {},
   "outputs": [],
   "source": [
    "result = pd.DataFrame(rows)"
   ]
  },
  {
   "cell_type": "code",
   "execution_count": 11,
   "metadata": {},
   "outputs": [],
   "source": [
    "result.columns = ['과정','주소']"
   ]
  },
  {
   "cell_type": "code",
   "execution_count": 12,
   "metadata": {},
   "outputs": [
    {
     "data": {
      "text/html": [
       "<div>\n",
       "<style scoped>\n",
       "    .dataframe tbody tr th:only-of-type {\n",
       "        vertical-align: middle;\n",
       "    }\n",
       "\n",
       "    .dataframe tbody tr th {\n",
       "        vertical-align: top;\n",
       "    }\n",
       "\n",
       "    .dataframe thead th {\n",
       "        text-align: right;\n",
       "    }\n",
       "</style>\n",
       "<table border=\"1\" class=\"dataframe\">\n",
       "  <thead>\n",
       "    <tr style=\"text-align: right;\">\n",
       "      <th></th>\n",
       "      <th>과정</th>\n",
       "      <th>주소</th>\n",
       "    </tr>\n",
       "  </thead>\n",
       "  <tbody>\n",
       "    <tr>\n",
       "      <th>0</th>\n",
       "      <td>6/13 Spark 심화과정</td>\n",
       "      <td>https://forms.gle/Fw49w9GhWQChDcZm7</td>\n",
       "    </tr>\n",
       "    <tr>\n",
       "      <th>1</th>\n",
       "      <td>6/13 Spark 기본과정</td>\n",
       "      <td>https://forms.gle/G4TcXm3fKuHLHA6D6</td>\n",
       "    </tr>\n",
       "    <tr>\n",
       "      <th>2</th>\n",
       "      <td>6/18 Spark [MAP_FILTER]</td>\n",
       "      <td>https://forms.gle/M8gr1kC2ubA3UDVp8</td>\n",
       "    </tr>\n",
       "    <tr>\n",
       "      <th>3</th>\n",
       "      <td>6/18 Spark GroupBy 심화</td>\n",
       "      <td>https://forms.gle/h8w5mZ4MNaPLCPbi6</td>\n",
       "    </tr>\n",
       "    <tr>\n",
       "      <th>4</th>\n",
       "      <td>6/25 Spark RDD 실전 분석</td>\n",
       "      <td>https://forms.gle/q5yL6QHfueDLM5w27</td>\n",
       "    </tr>\n",
       "    <tr>\n",
       "      <th>5</th>\n",
       "      <td>6/27 Spark RDD 실전 분석2</td>\n",
       "      <td>https://forms.gle/Gxb4y6LfVYiaLu4M7</td>\n",
       "    </tr>\n",
       "  </tbody>\n",
       "</table>\n",
       "</div>"
      ],
      "text/plain": [
       "                          과정                                   주소\n",
       "0           6/13 Spark 심화과정   https://forms.gle/Fw49w9GhWQChDcZm7\n",
       "1           6/13 Spark 기본과정   https://forms.gle/G4TcXm3fKuHLHA6D6\n",
       "2   6/18 Spark [MAP_FILTER]   https://forms.gle/M8gr1kC2ubA3UDVp8\n",
       "3     6/18 Spark GroupBy 심화   https://forms.gle/h8w5mZ4MNaPLCPbi6\n",
       "4      6/25 Spark RDD 실전 분석   https://forms.gle/q5yL6QHfueDLM5w27\n",
       "5     6/27 Spark RDD 실전 분석2   https://forms.gle/Gxb4y6LfVYiaLu4M7"
      ]
     },
     "execution_count": 12,
     "metadata": {},
     "output_type": "execute_result"
    }
   ],
   "source": [
    "result"
   ]
  },
  {
   "cell_type": "code",
   "execution_count": 126,
   "metadata": {},
   "outputs": [
    {
     "name": "stdout",
     "output_type": "stream",
     "text": [
      "division by zero\n"
     ]
    }
   ],
   "source": [
    "try:\n",
    "    4 / 0\n",
    "except ZeroDivisionError as e:\n",
    "    print(e)"
   ]
  },
  {
   "cell_type": "code",
   "execution_count": null,
   "metadata": {},
   "outputs": [],
   "source": []
  }
 ],
 "metadata": {
  "kernelspec": {
   "display_name": "Python 3",
   "language": "python",
   "name": "python3"
  },
  "language_info": {
   "codemirror_mode": {
    "name": "ipython",
    "version": 3
   },
   "file_extension": ".py",
   "mimetype": "text/x-python",
   "name": "python",
   "nbconvert_exporter": "python",
   "pygments_lexer": "ipython3",
   "version": "3.8.5"
  }
 },
 "nbformat": 4,
 "nbformat_minor": 4
}
