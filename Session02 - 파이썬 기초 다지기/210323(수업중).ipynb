{
 "cells": [
  {
   "cell_type": "markdown",
   "metadata": {},
   "source": [
    "#### 반올림하기"
   ]
  },
  {
   "cell_type": "code",
   "execution_count": 4,
   "metadata": {},
   "outputs": [
    {
     "data": {
      "text/plain": [
       "0.37735849056603776"
      ]
     },
     "execution_count": 4,
     "metadata": {},
     "output_type": "execute_result"
    }
   ],
   "source": [
    "a = 20\n",
    "b = 53\n",
    "revenue = a/b\n",
    "revenue"
   ]
  },
  {
   "cell_type": "code",
   "execution_count": 3,
   "metadata": {},
   "outputs": [
    {
     "data": {
      "text/plain": [
       "0.38"
      ]
     },
     "execution_count": 3,
     "metadata": {},
     "output_type": "execute_result"
    }
   ],
   "source": [
    "round(revenue,2)"
   ]
  },
  {
   "cell_type": "markdown",
   "metadata": {},
   "source": [
    "#### 소수점 둘째자리 반올림"
   ]
  },
  {
   "cell_type": "code",
   "execution_count": 4,
   "metadata": {},
   "outputs": [],
   "source": [
    "def roundFunction(invalue):\n",
    "\n",
    "    # invalue = step1\n",
    "\n",
    "    # step1 : 입력받은 데이터를 반올림 자리수만큼 곱해준다.\n",
    "\n",
    "    step1 = invalue * 100\n",
    "\n",
    "    # step2 : 곱해준 결과에 0.5를 더한후 소수점이하 버림\n",
    "\n",
    "    step2 = int(step1+0.5)\n",
    "\n",
    "    # step3 : 100으로 나누어준다.\n",
    "\n",
    "    outvalue = step2 / 100\n",
    "    \n",
    "    return outvalue"
   ]
  },
  {
   "cell_type": "code",
   "execution_count": 5,
   "metadata": {},
   "outputs": [
    {
     "data": {
      "text/plain": [
       "1.35"
      ]
     },
     "execution_count": 5,
     "metadata": {},
     "output_type": "execute_result"
    }
   ],
   "source": [
    "roundFunction(1.34533)"
   ]
  },
  {
   "cell_type": "code",
   "execution_count": 10,
   "metadata": {},
   "outputs": [],
   "source": [
    "globalMeanValue = 0.0"
   ]
  },
  {
   "cell_type": "code",
   "execution_count": 11,
   "metadata": {},
   "outputs": [],
   "source": [
    "def simpleFunction(invalue1,invalue2):\n",
    "    localValue = 0.0\n",
    "    defaultValue = globalMeanvalue\n",
    "    inValue1 = 0.5\n",
    "    inValue2 = 0.3\n",
    "    meanValue = 1.0\n",
    "    # 분모가 0인경우 기본값 1\n",
    "    if inValue2 != 0:\n",
    "        meanValue = inValue1 / inValue2\n",
    "    else:\n",
    "        meanValue = localValue\n",
    "    outValue = meanValue\n",
    "    return outValue"
   ]
  },
  {
   "cell_type": "code",
   "execution_count": null,
   "metadata": {},
   "outputs": [],
   "source": []
  },
  {
   "cell_type": "code",
   "execution_count": null,
   "metadata": {},
   "outputs": [],
   "source": []
  },
  {
   "cell_type": "code",
   "execution_count": 1,
   "metadata": {},
   "outputs": [
    {
     "ename": "ModuleNotFoundError",
     "evalue": "No module named 'fintechlab'",
     "output_type": "error",
     "traceback": [
      "\u001b[1;31m---------------------------------------------------------------------------\u001b[0m",
      "\u001b[1;31mModuleNotFoundError\u001b[0m                       Traceback (most recent call last)",
      "\u001b[1;32m<ipython-input-1-1f33cc4b7e33>\u001b[0m in \u001b[0;36m<module>\u001b[1;34m\u001b[0m\n\u001b[1;32m----> 1\u001b[1;33m \u001b[1;32mfrom\u001b[0m \u001b[0mfintechlab\u001b[0m \u001b[1;32mimport\u001b[0m \u001b[0mCommonFunction\u001b[0m \u001b[1;32mas\u001b[0m \u001b[0mcf\u001b[0m\u001b[1;33m\u001b[0m\u001b[1;33m\u001b[0m\u001b[0m\n\u001b[0m",
      "\u001b[1;31mModuleNotFoundError\u001b[0m: No module named 'fintechlab'"
     ]
    }
   ],
   "source": [
    "from fintechlab import CommonFunction as cf"
   ]
  },
  {
   "cell_type": "code",
   "execution_count": 3,
   "metadata": {},
   "outputs": [],
   "source": [
    "import utilFunction as myfunc"
   ]
  },
  {
   "cell_type": "code",
   "execution_count": 4,
   "metadata": {},
   "outputs": [
    {
     "data": {
      "text/plain": [
       "1.22"
      ]
     },
     "execution_count": 4,
     "metadata": {},
     "output_type": "execute_result"
    }
   ],
   "source": [
    "myfunc.roundFunction(1.222)"
   ]
  },
  {
   "cell_type": "markdown",
   "metadata": {},
   "source": [
    "함수 입력변수에 따라 소수점 2자리수, 3자리 등의 반올림\n",
    "이 가능하도록 함수를 구현하세요\n",
    "(예: roundFunction(12.2225,3) -> 3번째자리 반올림)"
   ]
  },
  {
   "cell_type": "code",
   "execution_count": 25,
   "metadata": {},
   "outputs": [],
   "source": [
    "def roundFunction(invalue,option):\n",
    "    # 함수에 입력값과 옵션을 선택할 수 있게 하였습니다.\n",
    "    a=100\n",
    "    # 소수점 두자리까지 계산을 위하여 100을 지정하였습니다\n",
    "    b=1000\n",
    "    # 소수점 세자리까지 계산을 위하여 100을 지정하였습니다\n",
    "    c=10000\n",
    "    # 소수점 네자리까지 계산을 위하여 100을 지정하였습니다\n",
    "    if(option==0):\n",
    "        # 두자리일때는 x에 100대입하고\n",
    "        x = a\n",
    "    elif(option==1):\n",
    "        # 세자리일때는 x에 1000대입하고\n",
    "        x = b\n",
    "    elif(option==2):\n",
    "        # 네자리일때는 x에 10000대입하고\n",
    "        x = c\n",
    "\n",
    "    step1 = invalue * x\n",
    "    # 위에서 정한 변수의 값에 따라 x를 곱하여 주고\n",
    "    step2 = int(step1+0.5)\n",
    "    # 반올림을 위하여 0.5를 더해서 정수로 변환하여주고\n",
    "    outvalue = step2 / x   \n",
    "    # 위에서 정한 변수의 값에 따라 x를 나누어 outvalue에 담아냅니다.\n",
    "    return outvalue\n",
    "    # 결과를 반환합니다."
   ]
  },
  {
   "cell_type": "code",
   "execution_count": 26,
   "metadata": {},
   "outputs": [
    {
     "name": "stdout",
     "output_type": "stream",
     "text": [
      "3.44\n",
      "3.445\n",
      "3.4445\n"
     ]
    }
   ],
   "source": [
    "print(roundFunction(3.4445,0))\n",
    "print(roundFunction(3.4445,1))\n",
    "print(roundFunction(3.4445,2))"
   ]
  },
  {
   "cell_type": "code",
   "execution_count": 27,
   "metadata": {},
   "outputs": [],
   "source": [
    "def roundFunction(invalue,option):\n",
    "# 10의 승수에 따라 소수점의 개수가 정해지도록 하였습니다.\n",
    "    step1 = invalue * (10**option)\n",
    "    # 위에서 입력한 option의 값에 따라 곱하여 주고\n",
    "    step2 = int(step1+0.5)\n",
    "    # 반올림을 위하여 0.5를 더해서 정수로 변환하여주고\n",
    "    outvalue = step2 / (10**option)  \n",
    "    # 위에서 입력한 option의 값에 따라 나누어 주고\n",
    "    return outvalue\n",
    "    # 결과를 반환합니다."
   ]
  },
  {
   "cell_type": "code",
   "execution_count": 31,
   "metadata": {},
   "outputs": [
    {
     "name": "stdout",
     "output_type": "stream",
     "text": [
      "3.5\n",
      "3.48\n",
      "3.478\n",
      "3.4776\n",
      "3.47757\n",
      "3.477567\n"
     ]
    }
   ],
   "source": [
    "print(roundFunction(3.477567445,1))\n",
    "print(roundFunction(3.477567445,2))\n",
    "print(roundFunction(3.477567445,3))\n",
    "print(roundFunction(3.477567445,4))\n",
    "print(roundFunction(3.477567445,5))\n",
    "print(roundFunction(3.477567445,6))\n"
   ]
  },
  {
   "cell_type": "code",
   "execution_count": 37,
   "metadata": {},
   "outputs": [
    {
     "name": "stdout",
     "output_type": "stream",
     "text": [
      "MODEL02\n",
      "['MODEL01']\n"
     ]
    }
   ],
   "source": [
    "model = [\"MODEL01\",\"MODEL02\"]\n",
    "attatedModel = []\n",
    "for i in range(0, len(model) ):\n",
    "    if( model[i] == \"MODEL01\" ):\n",
    "        attatedModel.append(model[i])\n",
    "\n",
    "        continue\n",
    "print( model[i] )\n",
    "print (attatedModel)"
   ]
  },
  {
   "cell_type": "code",
   "execution_count": 39,
   "metadata": {},
   "outputs": [
    {
     "name": "stdout",
     "output_type": "stream",
     "text": [
      "MODEL01\n",
      "['MODEL01']\n"
     ]
    }
   ],
   "source": [
    "model = [\"MODEL01\",\"MODEL02\"]\n",
    "attatedModel = []\n",
    "for i in range(0, len(model) ):\n",
    "    if( model[i] == \"MODEL01\" ):\n",
    "        attatedModel.append(model[i])\n",
    "        break\n",
    "    \n",
    "print( model[i] )\n",
    "print (attatedModel)"
   ]
  },
  {
   "cell_type": "code",
   "execution_count": 9,
   "metadata": {},
   "outputs": [],
   "source": [
    "mergedSet = []"
   ]
  },
  {
   "cell_type": "code",
   "execution_count": 10,
   "metadata": {},
   "outputs": [],
   "source": [
    "import pandas as pd"
   ]
  },
  {
   "cell_type": "code",
   "execution_count": 11,
   "metadata": {},
   "outputs": [],
   "source": [
    "for i in range(1,4):\n",
    "    try:\n",
    "        fileName = \"./a\"+str(i)+\".txt\"\n",
    "        mergedSet.append(pd.read_csv(fileName))\n",
    "    except Exception as e:\n",
    "        print(\"에러파일명: {}\".format(fileName))\n",
    "        print(e)"
   ]
  },
  {
   "cell_type": "code",
   "execution_count": 12,
   "metadata": {},
   "outputs": [],
   "source": [
    "mergedSet.append(pd.read_csv(\"./a1.txt\"))\n",
    "mergedSet.append(pd.read_csv(\"./a2.txt\"))\n",
    "mergedSet.append(pd.read_csv(\"./a3.txt\"))"
   ]
  },
  {
   "cell_type": "code",
   "execution_count": 13,
   "metadata": {},
   "outputs": [
    {
     "data": {
      "text/html": [
       "<div>\n",
       "<style scoped>\n",
       "    .dataframe tbody tr th:only-of-type {\n",
       "        vertical-align: middle;\n",
       "    }\n",
       "\n",
       "    .dataframe tbody tr th {\n",
       "        vertical-align: top;\n",
       "    }\n",
       "\n",
       "    .dataframe thead th {\n",
       "        text-align: right;\n",
       "    }\n",
       "</style>\n",
       "<table border=\"1\" class=\"dataframe\">\n",
       "  <thead>\n",
       "    <tr style=\"text-align: right;\">\n",
       "      <th></th>\n",
       "      <th>werwfdsf</th>\n",
       "    </tr>\n",
       "  </thead>\n",
       "  <tbody>\n",
       "    <tr>\n",
       "      <th>0</th>\n",
       "      <td>fbdfb</td>\n",
       "    </tr>\n",
       "  </tbody>\n",
       "</table>\n",
       "</div>"
      ],
      "text/plain": [
       "  werwfdsf\n",
       "0    fbdfb"
      ]
     },
     "execution_count": 13,
     "metadata": {},
     "output_type": "execute_result"
    }
   ],
   "source": [
    "mergedSet[2]"
   ]
  },
  {
   "cell_type": "code",
   "execution_count": 15,
   "metadata": {},
   "outputs": [],
   "source": [
    "tvList = [\"LEDTV_UN40EN001\", \"LEDTV_UN40EN002\", \"LEDTV_UN40EN003\"]\n",
    "mobileList = [\"G3_MO001\", \"G3_MO002\",\"G3_MO003\"]\n",
    "speakerList = [\"BL_SP001\", \"BL_SP002\", \"BL_SP003\"]\n",
    "productList = [tvList, mobileList, speakerList]"
   ]
  },
  {
   "cell_type": "code",
   "execution_count": 43,
   "metadata": {},
   "outputs": [
    {
     "name": "stdout",
     "output_type": "stream",
     "text": [
      "LEDTV_UN40EN001\n",
      "LEDTV_UN40EN002\n",
      "LEDTV_UN40EN003\n",
      "G3_MO001\n",
      "G3_MO002\n",
      "G3_MO003\n",
      "BL_SP001\n",
      "BL_SP002\n",
      "BL_SP003\n"
     ]
    }
   ],
   "source": [
    "for i in range(0,len(productList)):\n",
    "    productlength = len(productList[i])\n",
    "    for j in range(0,productlength):\n",
    "\n",
    "        print(productList[i][j])\n"
   ]
  },
  {
   "cell_type": "code",
   "execution_count": 32,
   "metadata": {},
   "outputs": [
    {
     "ename": "SyntaxError",
     "evalue": "invalid syntax (<ipython-input-32-5030a37e88ed>, line 4)",
     "output_type": "error",
     "traceback": [
      "\u001b[1;36m  File \u001b[1;32m\"<ipython-input-32-5030a37e88ed>\"\u001b[1;36m, line \u001b[1;32m4\u001b[0m\n\u001b[1;33m    if (productList[i][j].split(\"_\")[0] == \"G3\")\u001b[0m\n\u001b[1;37m                                                ^\u001b[0m\n\u001b[1;31mSyntaxError\u001b[0m\u001b[1;31m:\u001b[0m invalid syntax\n"
     ]
    }
   ],
   "source": [
    "for i in range(0,len(productList)):\n",
    "    productlength = len(productList[i])    \n",
    "    for j in range(0,productlength):\n",
    "        if (productList[i][j].split(\"_\")[0] == \"G3\")\n",
    "           and (productList[i][j].split(\"_\")[1] == \"MO001\",\"MO002\"):\n",
    "            break\n",
    "        print(productList[i][j])\n",
    "  "
   ]
  },
  {
   "cell_type": "code",
   "execution_count": null,
   "metadata": {},
   "outputs": [],
   "source": []
  },
  {
   "cell_type": "code",
   "execution_count": 44,
   "metadata": {},
   "outputs": [
    {
     "data": {
      "text/plain": [
       "'2'"
      ]
     },
     "execution_count": 44,
     "metadata": {},
     "output_type": "execute_result"
    }
   ],
   "source": [
    "productList[1][1][-1]"
   ]
  },
  {
   "cell_type": "code",
   "execution_count": 45,
   "metadata": {},
   "outputs": [],
   "source": [
    "mobileList = [\"G3_MO001\", \"G3_MO002\",\"G3_MO003\"]"
   ]
  },
  {
   "cell_type": "code",
   "execution_count": 49,
   "metadata": {},
   "outputs": [],
   "source": [
    "exceptModel=\"003\""
   ]
  },
  {
   "cell_type": "code",
   "execution_count": 47,
   "metadata": {},
   "outputs": [],
   "source": [
    "listItem = mobileList[0]"
   ]
  },
  {
   "cell_type": "code",
   "execution_count": 48,
   "metadata": {},
   "outputs": [
    {
     "data": {
      "text/plain": [
       "'1'"
      ]
     },
     "execution_count": 48,
     "metadata": {},
     "output_type": "execute_result"
    }
   ],
   "source": [
    "listItem[-1]"
   ]
  },
  {
   "cell_type": "code",
   "execution_count": null,
   "metadata": {},
   "outputs": [],
   "source": [
    "tv"
   ]
  },
  {
   "cell_type": "code",
   "execution_count": 1,
   "metadata": {},
   "outputs": [],
   "source": [
    "tvList = [\"LEDTV_UN40EN001\", \"LEDTV_UN40EN002\", \"LEDTV_UN40EN003\"]\n",
    "mobileList = [\"G3_MO001\", \"G3_MO002\",\"G3_MO003\"]\n",
    "speakerList = [\"BL_SP001\", \"BL_SP002\", \"BL_SP003\"]\n",
    "productList = [tvList, mobileList, speakerList]"
   ]
  },
  {
   "cell_type": "code",
   "execution_count": 4,
   "metadata": {},
   "outputs": [
    {
     "name": "stdout",
     "output_type": "stream",
     "text": [
      "LEDTV_UN40EN001\n",
      "LEDTV_UN40EN002\n",
      "LEDTV_UN40EN003\n"
     ]
    }
   ],
   "source": [
    "tvList = [\"LEDTV_UN40EN001\", \"LEDTV_UN40EN002\", \"LEDTV_UN40EN003\"]\n",
    "for i in range(0,len(tvList)):\n",
    "    print(tvList[i])"
   ]
  },
  {
   "cell_type": "code",
   "execution_count": 6,
   "metadata": {},
   "outputs": [
    {
     "name": "stdout",
     "output_type": "stream",
     "text": [
      "G3_MO001\n",
      "G3_MO002\n"
     ]
    }
   ],
   "source": [
    "mobileList = [\"G3_MO001\", \"G3_MO002\",\"G3_MO003\"]\n",
    "for i in range(0,len(mobileList)):\n",
    "    if(mobileList[i].split(\"_\")[1] == \"MO003\"):\n",
    "        continue\n",
    "    print(mobileList[i])"
   ]
  },
  {
   "cell_type": "code",
   "execution_count": 19,
   "metadata": {},
   "outputs": [],
   "source": [
    "speakerList = [\"BL_SP001\", \"BL_SP002\", \"BL_SP003\"]"
   ]
  },
  {
   "cell_type": "code",
   "execution_count": null,
   "metadata": {},
   "outputs": [],
   "source": [
    "productList"
   ]
  },
  {
   "cell_type": "code",
   "execution_count": 47,
   "metadata": {},
   "outputs": [
    {
     "name": "stdout",
     "output_type": "stream",
     "text": [
      "LEDTV_UN40EN001\n",
      "LEDTV_UN40EN002\n",
      "G3_MO001\n",
      "G3_MO002\n",
      "BL_SP001\n",
      "BL_SP002\n"
     ]
    }
   ],
   "source": [
    "for j in range(0, len(productList)):\n",
    "\n",
    "    topLevelList = productList[j]\n",
    "\n",
    "    for i in range(0, len(topLevelList)):\n",
    "\n",
    "        # 디버깅 003 있는것과없는것 출력 하는것\n",
    "    #     listItem = speakerList[0]\n",
    "        listItem = topLevelList[i]\n",
    "        findTag = \"003\"\n",
    "        tagCnt = listItem.count(findTag)\n",
    "\n",
    "        if tagCnt >= 1:\n",
    "            pass\n",
    "        else:\n",
    "            print(listItem)"
   ]
  },
  {
   "cell_type": "code",
   "execution_count": 40,
   "metadata": {},
   "outputs": [],
   "source": [
    "topLevelList = productList[0]"
   ]
  },
  {
   "cell_type": "code",
   "execution_count": 38,
   "metadata": {},
   "outputs": [
    {
     "data": {
      "text/plain": [
       "['LEDTV_UN40EN001', 'LEDTV_UN40EN002', 'LEDTV_UN40EN003']"
      ]
     },
     "execution_count": 38,
     "metadata": {},
     "output_type": "execute_result"
    }
   ],
   "source": [
    "topLevelList"
   ]
  },
  {
   "cell_type": "code",
   "execution_count": 41,
   "metadata": {},
   "outputs": [
    {
     "name": "stdout",
     "output_type": "stream",
     "text": [
      "LEDTV_UN40EN001\n",
      "LEDTV_UN40EN002\n"
     ]
    }
   ],
   "source": [
    "c"
   ]
  },
  {
   "cell_type": "code",
   "execution_count": null,
   "metadata": {},
   "outputs": [],
   "source": []
  },
  {
   "cell_type": "code",
   "execution_count": null,
   "metadata": {},
   "outputs": [],
   "source": [
    "pip install isoweek"
   ]
  },
  {
   "cell_type": "code",
   "execution_count": null,
   "metadata": {},
   "outputs": [],
   "source": [
    "import isoweek from"
   ]
  },
  {
   "cell_type": "code",
   "execution_count": null,
   "metadata": {},
   "outputs": [],
   "source": [
    "\"\n",
    "if (listItem.count)"
   ]
  },
  {
   "cell_type": "code",
   "execution_count": null,
   "metadata": {},
   "outputs": [],
   "source": [
    "for\n",
    "\n",
    "    listItem = speakerList[0]\n",
    "\n",
    "    if ()"
   ]
  },
  {
   "cell_type": "code",
   "execution_count": 21,
   "metadata": {},
   "outputs": [
    {
     "data": {
      "text/plain": [
       "'BL_SP001'"
      ]
     },
     "execution_count": 21,
     "metadata": {},
     "output_type": "execute_result"
    }
   ],
   "source": [
    "listItem"
   ]
  },
  {
   "cell_type": "code",
   "execution_count": null,
   "metadata": {},
   "outputs": [],
   "source": [
    "for i in range"
   ]
  },
  {
   "cell_type": "code",
   "execution_count": 7,
   "metadata": {},
   "outputs": [
    {
     "name": "stdout",
     "output_type": "stream",
     "text": [
      "BL_SP001\n",
      "BL_SP002\n"
     ]
    }
   ],
   "source": [
    "speakerList = [\"BL_SP001\", \"BL_SP002\", \"BL_SP003\"]\n",
    "for i in range(0,len(speakerList)):\n",
    "    if(speakerList[i].split(\"_\")[1] == \"SP003\"):\n",
    "            continue\n",
    "    print(speakerList[i])"
   ]
  },
  {
   "cell_type": "code",
   "execution_count": null,
   "metadata": {},
   "outputs": [],
   "source": [
    "tvList = [\"LEDTV_UN40EN001\", \"LEDTV_UN40EN002\", \"LEDTV_UN40EN003\"]\n",
    "mobileList = [\"G3_MO001\", \"G3_MO002\",\"G3_MO003\"]\n",
    "speakerList = [\"BL_SP001\", \"BL_SP002\", \"BL_SP003\"]\n",
    "productList = [tvList, mobileList, speakerList]"
   ]
  },
  {
   "cell_type": "code",
   "execution_count": 62,
   "metadata": {},
   "outputs": [
    {
     "name": "stdout",
     "output_type": "stream",
     "text": [
      "LEDTV_UN40EN001\n",
      "LEDTV_UN40EN002\n",
      "LEDTV_UN40EN003\n",
      "G3_MO001\n",
      "G3_MO002\n",
      "BL_SP001\n",
      "BL_SP002\n"
     ]
    }
   ],
   "source": [
    "for i in range(0,len(productList)):\n",
    "    # productList의 4가지 원소의 숫자에 맞게 반복문을 작성하였습니다.\n",
    "    productListLen = len(productList[i])\n",
    "    # productList의 내부 리스트의 길이를 변수에 담습니다.\n",
    "    for j in range(0,productListLen):\n",
    "        Num = productList[i][j].split(\"_\")[1]\n",
    "        # 원소를 \"_\"로 나누어서 뒤쪽 문자열(1번인덱스)을 변수에 지정합니다.\n",
    "        if (Num.count(\"MO003\")) :\n",
    "            continue\n",
    "        if (Num.count(\"SP003\")) :\n",
    "            continue\n",
    "        print(productList[i][j])"
   ]
  },
  {
   "cell_type": "code",
   "execution_count": null,
   "metadata": {},
   "outputs": [],
   "source": [
    "for i in range(0,len(speakerList)):\n",
    "    #Step1: 리스트값에서 아이템 코드를 입력받는다.\n",
    "    itemList = speakerList[i]\n",
    "    # step2: 제외할 character 정의\n",
    "    inchar = \"003\"\n",
    "    # step3: 제외할 문자 존재시 출력안함\n",
    "    "
   ]
  },
  {
   "cell_type": "code",
   "execution_count": 68,
   "metadata": {},
   "outputs": [
    {
     "name": "stdout",
     "output_type": "stream",
     "text": [
      "LEDTV_UN40EN001\n",
      "LEDTV_UN40EN002\n",
      "LEDTV_UN40EN003\n",
      "G3_MO001\n",
      "G3_MO002\n",
      "BL_SP001\n",
      "BL_SP002\n"
     ]
    }
   ],
   "source": [
    "for i in range(0,len(productList)):\n",
    "    # productList의 4가지 원소의 숫자에 맞게 반복문을 작성하였습니다.\n",
    "    productListLen = len(productList[i])\n",
    "    # productList의 내부 리스트의 길이를 변수에 담습니다.\n",
    "    for j in range(0,productListLen):\n",
    "        Serial = productList[i][j].split(\"_\")[1]\n",
    "        # 원소를 \"_\"로 나누어서 뒤쪽 문자열(1번인덱스)을 변수에 지정합니다.\n",
    "        if (Serial.count(\"MO003\") or Serial.count(\"SP003\")):\n",
    "            continue\n",
    "        # 앞서 지정한 변수를 이용해서 원소를 \"_\"로 나누어서 뒤쪽 문자열(1번인덱스)이\n",
    "        # \"MO003\",\"SP003\"이면 출력하지 않고 다음으로 넘깁니다.\n",
    "        print(productList[i][j])\n",
    "        # continue에서 빠진 원소를 제외하고 출력합니다."
   ]
  },
  {
   "cell_type": "code",
   "execution_count": 64,
   "metadata": {},
   "outputs": [
    {
     "name": "stdout",
     "output_type": "stream",
     "text": [
      "LEDTV_UN40EN001\n",
      "LEDTV_UN40EN002\n",
      "LEDTV_UN40EN003\n",
      "G3_MO001\n",
      "G3_MO002\n",
      "G3_MO003\n",
      "BL_SP001\n",
      "BL_SP002\n"
     ]
    }
   ],
   "source": [
    "for i in range(0,len(productList)):\n",
    "    # productList의 4가지 원소의 숫자에 맞게 반복문을 작성하였습니다.\n",
    "    productListLen = len(productList[i])\n",
    "    # productList의 내부 리스트의 길이를 변수에 담습니다.\n",
    "    for j in range(0,productListLen):\n",
    "        a = productList[i][j].split(\"_\")[1]\n",
    "        # 리스트의 모든 원소를 하나씩 꺼냅니다.\n",
    "        if (productList[i][j].split(\"_\")[1] == exceptstring):\n",
    "            continue\n",
    "            # 원소를 \"_\"로 나누어서 뒤쪽 문자열(1번인덱스)에 문자가\n",
    "        if(productList[i][j].split(\"_\")[1] == \"SP003\"):\n",
    "            continue\n",
    "\n",
    "        print(productList[i][j])"
   ]
  },
  {
   "cell_type": "code",
   "execution_count": 63,
   "metadata": {},
   "outputs": [
    {
     "name": "stdout",
     "output_type": "stream",
     "text": [
      "LEDTV_UN40EN001\n",
      "LEDTV_UN40EN002\n",
      "LEDTV_UN40EN003\n",
      "G3_MO001\n",
      "G3_MO002\n",
      "G3_MO003\n",
      "BL_SP001\n",
      "BL_SP002\n",
      "BL_SP003\n"
     ]
    }
   ],
   "source": [
    "for i in range(0,len(productList)):\n",
    "    # productList의 4가지 원소의 숫자에 맞게 반복문을 작성하였습니다.\n",
    "    productListLen = len(productList[i])\n",
    "    # productList의 내부 리스트의 길이를 변수에 담습니다.\n",
    "    for j in range(0,productListLen):\n",
    "        Num = productList[i][j].split(\"_\")[1]\n",
    "        # 원소를 \"_\"로 나누어서 뒤쪽 문자열(1번인덱스)을 변수에 지정합니다.\n",
    "        if Num.count(\"MO003\") and Num.count(\"SP003\"):\n",
    "            continue\n",
    "        print(productList[i][j])"
   ]
  },
  {
   "cell_type": "code",
   "execution_count": null,
   "metadata": {},
   "outputs": [],
   "source": []
  }
 ],
 "metadata": {
  "kernelspec": {
   "display_name": "Python 3",
   "language": "python",
   "name": "python3"
  },
  "language_info": {
   "codemirror_mode": {
    "name": "ipython",
    "version": 3
   },
   "file_extension": ".py",
   "mimetype": "text/x-python",
   "name": "python",
   "nbconvert_exporter": "python",
   "pygments_lexer": "ipython3",
   "version": "3.8.3"
  }
 },
 "nbformat": 4,
 "nbformat_minor": 4
}
