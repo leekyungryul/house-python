{
 "cells": [
  {
   "cell_type": "markdown",
   "metadata": {},
   "source": [
    "tvList3 = [ 'UN40EN001', 'LEDTV_UN40EN002', 'ledtv_LEDTV_UN40EN003', 'ledtv_UN40EN004']\n",
    "리스트에서 LEDTV_가 한 개만 앞에 붙도록 하세요"
   ]
  },
  {
   "cell_type": "code",
   "execution_count": 1,
   "metadata": {},
   "outputs": [],
   "source": [
    "tvList3 = [ 'UN40EN001', 'LEDTV_UN40EN002', 'ledtv_LEDTV_UN40EN003', 'ledtv_UN40EN004']"
   ]
  },
  {
   "cell_type": "code",
   "execution_count": 9,
   "metadata": {},
   "outputs": [
    {
     "name": "stdout",
     "output_type": "stream",
     "text": [
      "['LEDTV_UN40EN001', 'LEDTV_UN40EN002', 'LEDTV_UN40EN003', 'LEDTV_UN40EN004']\n"
     ]
    }
   ],
   "source": [
    "\n",
    "prefix = \"LEDTV_\"\n",
    "for i in range(0,len(tvList3)):\n",
    "    upperlist = tvList3[i].upper()\n",
    "    if(upperlist.count(prefix)==0):\n",
    "        tvList3[i] = prefix + tvList3[i]\n",
    "    elif(upperlist.count(prefix)>=1):\n",
    "        tvList3[i]=upperlist.replace(prefix,\"\")\n",
    "        tvList3[i] = prefix + tvList3[i]\n",
    "        \n",
    "\n",
    "print(tvList3)"
   ]
  },
  {
   "cell_type": "markdown",
   "metadata": {},
   "source": [
    "함수 입력변수에 따라 소수점 2자리수, 3자리 등의 반올림 이 가능하도록 함수를 구현하세요\n",
    "(예: roundFunction(12.2225,3) -> 3번째자리 반올림)"
   ]
  },
  {
   "cell_type": "code",
   "execution_count": 15,
   "metadata": {},
   "outputs": [],
   "source": [
    "def roundfunction(invalue,option):\n",
    "    step1 = invalue * (10**option)\n",
    "    step2 = int(step1 + 0.5)\n",
    "    outvalue = step2 / (10**option)\n",
    "    return outvalue"
   ]
  },
  {
   "cell_type": "code",
   "execution_count": 17,
   "metadata": {},
   "outputs": [
    {
     "data": {
      "text/plain": [
       "3.453"
      ]
     },
     "execution_count": 17,
     "metadata": {},
     "output_type": "execute_result"
    }
   ],
   "source": [
    "roundfunction(3.4532,3)"
   ]
  },
  {
   "cell_type": "markdown",
   "metadata": {},
   "source": [
    "SCORE 변수를 80으로 선언 후\n",
    "90점이상 A, 80~90점 B, 이외 C 점수로\n",
    "GRADE변수에 할당하는 프로그램을 구현하세요"
   ]
  },
  {
   "cell_type": "code",
   "execution_count": null,
   "metadata": {},
   "outputs": [],
   "source": [
    "score = 80\n",
    "if "
   ]
  },
  {
   "cell_type": "code",
   "execution_count": 18,
   "metadata": {},
   "outputs": [],
   "source": [
    "import pandas as pd"
   ]
  },
  {
   "cell_type": "code",
   "execution_count": 21,
   "metadata": {},
   "outputs": [
    {
     "data": {
      "text/html": [
       "<div>\n",
       "<style scoped>\n",
       "    .dataframe tbody tr th:only-of-type {\n",
       "        vertical-align: middle;\n",
       "    }\n",
       "\n",
       "    .dataframe tbody tr th {\n",
       "        vertical-align: top;\n",
       "    }\n",
       "\n",
       "    .dataframe thead th {\n",
       "        text-align: right;\n",
       "    }\n",
       "</style>\n",
       "<table border=\"1\" class=\"dataframe\">\n",
       "  <thead>\n",
       "    <tr style=\"text-align: right;\">\n",
       "      <th></th>\n",
       "      <th>CUSTID</th>\n",
       "      <th>AVGPRICE</th>\n",
       "      <th>EMI</th>\n",
       "      <th>DEVICECOUNT</th>\n",
       "      <th>PRODUCTAGE</th>\n",
       "      <th>CUSTTYPE</th>\n",
       "    </tr>\n",
       "  </thead>\n",
       "  <tbody>\n",
       "    <tr>\n",
       "      <th>0</th>\n",
       "      <td>A13566</td>\n",
       "      <td>4273.900000</td>\n",
       "      <td>3</td>\n",
       "      <td>6</td>\n",
       "      <td>1.679181</td>\n",
       "      <td>Big-Screen-lover</td>\n",
       "    </tr>\n",
       "    <tr>\n",
       "      <th>1</th>\n",
       "      <td>A14219</td>\n",
       "      <td>3642.441950</td>\n",
       "      <td>2</td>\n",
       "      <td>4</td>\n",
       "      <td>2.682023</td>\n",
       "      <td>Sleeping-dog</td>\n",
       "    </tr>\n",
       "    <tr>\n",
       "      <th>2</th>\n",
       "      <td>A15312</td>\n",
       "      <td>3653.884565</td>\n",
       "      <td>2</td>\n",
       "      <td>5</td>\n",
       "      <td>3.208202</td>\n",
       "      <td>Sleeping-dog</td>\n",
       "    </tr>\n",
       "    <tr>\n",
       "      <th>3</th>\n",
       "      <td>A16605</td>\n",
       "      <td>3713.211107</td>\n",
       "      <td>2</td>\n",
       "      <td>6</td>\n",
       "      <td>0.900000</td>\n",
       "      <td>Early-bird</td>\n",
       "    </tr>\n",
       "    <tr>\n",
       "      <th>4</th>\n",
       "      <td>B10634</td>\n",
       "      <td>3391.074215</td>\n",
       "      <td>2</td>\n",
       "      <td>4</td>\n",
       "      <td>2.453656</td>\n",
       "      <td>Sleeping-dog</td>\n",
       "    </tr>\n",
       "    <tr>\n",
       "      <th>...</th>\n",
       "      <td>...</td>\n",
       "      <td>...</td>\n",
       "      <td>...</td>\n",
       "      <td>...</td>\n",
       "      <td>...</td>\n",
       "      <td>...</td>\n",
       "    </tr>\n",
       "    <tr>\n",
       "      <th>145</th>\n",
       "      <td>Z13253</td>\n",
       "      <td>3678.800000</td>\n",
       "      <td>2</td>\n",
       "      <td>5</td>\n",
       "      <td>2.463670</td>\n",
       "      <td>Big-Screen-lover</td>\n",
       "    </tr>\n",
       "    <tr>\n",
       "      <th>146</th>\n",
       "      <td>Z13534</td>\n",
       "      <td>3662.437527</td>\n",
       "      <td>3</td>\n",
       "      <td>6</td>\n",
       "      <td>0.900000</td>\n",
       "      <td>Early-bird</td>\n",
       "    </tr>\n",
       "    <tr>\n",
       "      <th>147</th>\n",
       "      <td>Z16428</td>\n",
       "      <td>3516.500000</td>\n",
       "      <td>2</td>\n",
       "      <td>5</td>\n",
       "      <td>2.371301</td>\n",
       "      <td>Big-Screen-lover</td>\n",
       "    </tr>\n",
       "    <tr>\n",
       "      <th>148</th>\n",
       "      <td>Z16735</td>\n",
       "      <td>3300.100000</td>\n",
       "      <td>2</td>\n",
       "      <td>5</td>\n",
       "      <td>1.704942</td>\n",
       "      <td>Big-Screen-lover</td>\n",
       "    </tr>\n",
       "    <tr>\n",
       "      <th>149</th>\n",
       "      <td>Z19835</td>\n",
       "      <td>3326.526183</td>\n",
       "      <td>2</td>\n",
       "      <td>6</td>\n",
       "      <td>1.200000</td>\n",
       "      <td>Early-bird</td>\n",
       "    </tr>\n",
       "  </tbody>\n",
       "</table>\n",
       "<p>150 rows × 6 columns</p>\n",
       "</div>"
      ],
      "text/plain": [
       "     CUSTID     AVGPRICE  EMI  DEVICECOUNT  PRODUCTAGE          CUSTTYPE\n",
       "0    A13566  4273.900000    3            6    1.679181  Big-Screen-lover\n",
       "1    A14219  3642.441950    2            4    2.682023      Sleeping-dog\n",
       "2    A15312  3653.884565    2            5    3.208202      Sleeping-dog\n",
       "3    A16605  3713.211107    2            6    0.900000        Early-bird\n",
       "4    B10634  3391.074215    2            4    2.453656      Sleeping-dog\n",
       "..      ...          ...  ...          ...         ...               ...\n",
       "145  Z13253  3678.800000    2            5    2.463670  Big-Screen-lover\n",
       "146  Z13534  3662.437527    3            6    0.900000        Early-bird\n",
       "147  Z16428  3516.500000    2            5    2.371301  Big-Screen-lover\n",
       "148  Z16735  3300.100000    2            5    1.704942  Big-Screen-lover\n",
       "149  Z19835  3326.526183    2            6    1.200000        Early-bird\n",
       "\n",
       "[150 rows x 6 columns]"
      ]
     },
     "execution_count": 21,
     "metadata": {},
     "output_type": "execute_result"
    }
   ],
   "source": [
    "csdata = pd. read_csv(\"C:/Users/SMART-25/stddev/dataset/customerdata.csv\")\n",
    "csdata"
   ]
  },
  {
   "cell_type": "code",
   "execution_count": 1,
   "metadata": {},
   "outputs": [
    {
     "name": "stdout",
     "output_type": "stream",
     "text": [
      "[5, 6, 8]\n"
     ]
    }
   ],
   "source": [
    "a=[\"5\",\"6\",\"8\"]\n",
    "b=[]\n",
    "for i in range(0,len(a)):\n",
    "    a[i] = int(a[i])\n",
    "    b.append(a[i])\n",
    "\n",
    "print(b)"
   ]
  },
  {
   "cell_type": "code",
   "execution_count": 2,
   "metadata": {},
   "outputs": [
    {
     "data": {
      "text/plain": [
       "int"
      ]
     },
     "execution_count": 2,
     "metadata": {},
     "output_type": "execute_result"
    }
   ],
   "source": [
    "type(b[1])"
   ]
  },
  {
   "cell_type": "code",
   "execution_count": 3,
   "metadata": {},
   "outputs": [
    {
     "data": {
      "text/plain": [
       "[5, 6, 8]"
      ]
     },
     "execution_count": 3,
     "metadata": {},
     "output_type": "execute_result"
    }
   ],
   "source": [
    "b"
   ]
  },
  {
   "cell_type": "code",
   "execution_count": 4,
   "metadata": {},
   "outputs": [
    {
     "data": {
      "text/plain": [
       "19"
      ]
     },
     "execution_count": 4,
     "metadata": {},
     "output_type": "execute_result"
    }
   ],
   "source": [
    "sum(b)"
   ]
  },
  {
   "cell_type": "code",
   "execution_count": 10,
   "metadata": {},
   "outputs": [],
   "source": [
    "def sum_list(listname):\n",
    "# 함수의 이름을 만들고 파라미터에는 리스트명을 들어가게 했습니다.  \n",
    "    Empty=[]\n",
    "    # 캐스팅된 정수를 담을 빈 리스트를 하나 만들었습니다.\n",
    "    for i in range(0,len(listname)):\n",
    "        # 합계를 구하고자하는 리스트의 원소를 하나씩 꺼내어 줍니다.\n",
    "        listname[i] = int(listname[i])\n",
    "        # 꺼낸 원소들을 정수로 캐스팅 하였습니다.\n",
    "        Empty.append(listname[i])\n",
    "        # 정수로 캐스팅한 원소들을 빈 리스트에 담았습니다.\n",
    "        outvalue = sum(Empty)\n",
    "        # 새로운 리스트에 담겨진 정수들의 합계를 outvalue에 담았습니다.\n",
    "    return outvalue\n",
    "    # 결과를 반환합니다."
   ]
  },
  {
   "cell_type": "code",
   "execution_count": 11,
   "metadata": {},
   "outputs": [
    {
     "name": "stdout",
     "output_type": "stream",
     "text": [
      "12\n"
     ]
    }
   ],
   "source": [
    "b=[\"5\",\"7\"]\n",
    "print(sum_list(b))"
   ]
  },
  {
   "cell_type": "code",
   "execution_count": 3,
   "metadata": {},
   "outputs": [
    {
     "name": "stdout",
     "output_type": "stream",
     "text": [
      "9\n"
     ]
    }
   ],
   "source": [
    "listname = [\"4\",\"5\"]\n",
    "c=[]\n",
    "for i in range(0,len(listname)):\n",
    "    listname[i] = int(listname[i])\n",
    "    c.append(listname[i])\n",
    "    outvalue = sum(c)\n",
    "print(outvalue)"
   ]
  },
  {
   "cell_type": "code",
   "execution_count": 17,
   "metadata": {},
   "outputs": [
    {
     "name": "stdin",
     "output_type": "stream",
     "text": [
      " 2\n"
     ]
    },
    {
     "name": "stdout",
     "output_type": "stream",
     "text": [
      "2\n",
      "4\n",
      "6\n",
      "8\n",
      "10\n",
      "12\n",
      "14\n",
      "16\n",
      "18\n"
     ]
    }
   ],
   "source": [
    "x=int(input())\n",
    "\n",
    "for i in range(1,10):\n",
    "    print(x * i)\n"
   ]
  },
  {
   "cell_type": "code",
   "execution_count": 6,
   "metadata": {},
   "outputs": [
    {
     "name": "stdin",
     "output_type": "stream",
     "text": [
      " 2\n"
     ]
    }
   ],
   "source": [
    "x=int(input())"
   ]
  },
  {
   "cell_type": "code",
   "execution_count": 7,
   "metadata": {},
   "outputs": [
    {
     "data": {
      "text/plain": [
       "2"
      ]
     },
     "execution_count": 7,
     "metadata": {},
     "output_type": "execute_result"
    }
   ],
   "source": [
    "x"
   ]
  },
  {
   "cell_type": "code",
   "execution_count": 8,
   "metadata": {},
   "outputs": [
    {
     "data": {
      "text/plain": [
       "int"
      ]
     },
     "execution_count": 8,
     "metadata": {},
     "output_type": "execute_result"
    }
   ],
   "source": [
    "type(x)"
   ]
  },
  {
   "cell_type": "code",
   "execution_count": null,
   "metadata": {},
   "outputs": [],
   "source": []
  },
  {
   "cell_type": "code",
   "execution_count": 19,
   "metadata": {},
   "outputs": [],
   "source": [
    "inputList = [10,100,200,300,1000,1,2]"
   ]
  },
  {
   "cell_type": "code",
   "execution_count": 30,
   "metadata": {},
   "outputs": [],
   "source": [
    "def average(inputList):\n",
    "    minvalue = min(inputList)\n",
    "    maxvalue = max(inputList)\n",
    "    inputList.remove(minvalue)\n",
    "    inputList.remove(maxvalue)\n",
    "    average = sum(inputList)/len(inputList)\n",
    "    return average"
   ]
  },
  {
   "cell_type": "code",
   "execution_count": 32,
   "metadata": {},
   "outputs": [],
   "source": [
    "listA = [1,2,3,4,5,6,7]\n",
    "listB = [100,150,3,4,5,6,7]\n",
    "listC = [3,2,3,4,5,6,7]\n",
    "listD = [4,2,3,4,5,6,7]"
   ]
  },
  {
   "cell_type": "code",
   "execution_count": 33,
   "metadata": {},
   "outputs": [
    {
     "data": {
      "text/plain": [
       "4.0"
      ]
     },
     "execution_count": 33,
     "metadata": {},
     "output_type": "execute_result"
    }
   ],
   "source": [
    "average(listA)"
   ]
  },
  {
   "cell_type": "code",
   "execution_count": 1,
   "metadata": {},
   "outputs": [],
   "source": [
    "inputList1 = [\"1234\",\"1234\",\"22\",\"11\",11,23455]"
   ]
  },
  {
   "cell_type": "code",
   "execution_count": 4,
   "metadata": {},
   "outputs": [],
   "source": [
    "inputList1 = [\"1234\",\"1234\",\"22\",\"11\",11,23455]\n",
    "i = 0\n",
    "sum = 0\n",
    "while(i < len(inputList1)):\n",
    "    inputList1[i] = int(inputList1[i])\n",
    "    sum = inputList1[i]+ sum\n",
    "    i = i+1"
   ]
  },
  {
   "cell_type": "code",
   "execution_count": 5,
   "metadata": {},
   "outputs": [
    {
     "name": "stdout",
     "output_type": "stream",
     "text": [
      "25967\n"
     ]
    }
   ],
   "source": [
    "print(sum)"
   ]
  },
  {
   "cell_type": "code",
   "execution_count": 6,
   "metadata": {},
   "outputs": [],
   "source": [
    "inputList1 = [\"1234\",\"1234\",\"22\",\"11\",11,23455]"
   ]
  },
  {
   "cell_type": "code",
   "execution_count": 9,
   "metadata": {},
   "outputs": [],
   "source": [
    "def sum2(inputList):\n",
    "    i = 0\n",
    "    sum = 0\n",
    "    while(i < len(inputList)):\n",
    "        inputList[i] = int(inputList[i])\n",
    "        sum = inputList[i]+ sum\n",
    "        i = i+1\n",
    "    return sum"
   ]
  },
  {
   "cell_type": "code",
   "execution_count": 10,
   "metadata": {},
   "outputs": [
    {
     "data": {
      "text/plain": [
       "25967"
      ]
     },
     "execution_count": 10,
     "metadata": {},
     "output_type": "execute_result"
    }
   ],
   "source": [
    "sum2(inputList1)"
   ]
  },
  {
   "cell_type": "code",
   "execution_count": 11,
   "metadata": {},
   "outputs": [],
   "source": [
    "tvList = [\"LEDTV_UN40EN001\", \"LEDTV_UN40EN002\", \"LEDTV_UN40EN003\"]\n",
    "mobileList = [\"G3_MO001\", \"G3_MO002\",\"G3_MO003\"]\n",
    "speakerList = [\"BL_SP001\", \"BL_SP002\", \"BL_SP003\"]\n",
    "\n",
    "productList = [tvList, mobileList, speakerList]"
   ]
  },
  {
   "cell_type": "code",
   "execution_count": 16,
   "metadata": {},
   "outputs": [
    {
     "name": "stdout",
     "output_type": "stream",
     "text": [
      "BL_SP001\n",
      "BL_SP002\n"
     ]
    }
   ],
   "source": [
    "# 모바일 스피커리스트 중 003번 모델은 제외하고 출력한다.\n",
    "speakerList = [\"BL_SP001\", \"BL_SP002\", \"BL_SP003\"]\n",
    "a=[]\n",
    "for i in range(0,len(speakerList)):\n",
    "    if(speakerList[i].split(\"_\")[1] == \"SP003\"):\n",
    "        continue\n",
    "    print(speakerList[i])"
   ]
  },
  {
   "cell_type": "code",
   "execution_count": 25,
   "metadata": {},
   "outputs": [
    {
     "name": "stdout",
     "output_type": "stream",
     "text": [
      "LEDTV_UN40EN001\n",
      "LEDTV_UN40EN002\n",
      "LEDTV_UN40EN003\n",
      "G3_MO001\n",
      "G3_MO002\n",
      "BL_SP001\n",
      "BL_SP002\n"
     ]
    }
   ],
   "source": [
    "for i in range(0,len(productList)):\n",
    "    for j in range(0,len(productList[i])):\n",
    "        productListsplit = productList[i][j].split(\"_\")[1]\n",
    "        if (productListsplit == \"SP003\" or productListsplit == \"MO003\"):\n",
    "            continue\n",
    "        print(productList[i][j])"
   ]
  },
  {
   "cell_type": "code",
   "execution_count": 10,
   "metadata": {},
   "outputs": [
    {
     "name": "stdout",
     "output_type": "stream",
     "text": [
      "UN40EN001\n",
      "0\n",
      "LEDTV_UN40EN002\n",
      "1\n",
      "LEDTV_LEDTV_UN40EN003\n",
      "2\n",
      "LEDTV_UN40EN004\n",
      "1\n",
      "['LEDTV_UN40EN001', 'LEDTV_UN40EN002', 'LEDTV_UN40EN003', 'LEDTV_UN40EN004']\n"
     ]
    }
   ],
   "source": [
    "tvList = [ 'UN40EN001', 'LEDTV_UN40EN002', 'LEDTV_LEDTV_UN40EN003', 'ledtv_UN40EN004']\n",
    "# 대문자로 LEDTV_가 한번씩 붙도록 하자\n",
    "# 한번 이상일때\n",
    "# 하나도 없을때\n",
    "prefix = 'LEDTV_'\n",
    "for i in range(0,len(tvList)):\n",
    "    tvListupper1 = tvList[i].upper()\n",
    "    tvListcnt = tvListupper1.count(prefix)\n",
    "    print(tvListupper1)\n",
    "    print(tvListcnt)\n",
    "    if tvListcnt == 0:\n",
    "        tvList[i] = prefix + tvList[i]\n",
    "    elif tvListcnt ==1:\n",
    "        tvList[i] = tvListupper1.replace(prefix,\"\")\n",
    "        tvList[i] = prefix + tvList[i]\n",
    "    else:\n",
    "        tvList[i] = tvList[i].replace(prefix,\"\")\n",
    "        tvList[i] = prefix + tvList[i]\n",
    "print(tvList)"
   ]
  },
  {
   "cell_type": "code",
   "execution_count": 13,
   "metadata": {},
   "outputs": [],
   "source": [
    "# 소수점 자리수를 정하는 함수를 만들어보자\n",
    "import math\n",
    "a= 10.343663\n",
    "step1 = a * math.pow(10,2)\n",
    "step2 = int(step1 + 0.5)\n",
    "outvalue = step2 / math.pow(10,2)"
   ]
  },
  {
   "cell_type": "code",
   "execution_count": 14,
   "metadata": {},
   "outputs": [
    {
     "data": {
      "text/plain": [
       "10.34"
      ]
     },
     "execution_count": 14,
     "metadata": {},
     "output_type": "execute_result"
    }
   ],
   "source": [
    "outvalue"
   ]
  },
  {
   "cell_type": "code",
   "execution_count": null,
   "metadata": {},
   "outputs": [],
   "source": []
  },
  {
   "cell_type": "code",
   "execution_count": null,
   "metadata": {},
   "outputs": [],
   "source": []
  },
  {
   "cell_type": "code",
   "execution_count": null,
   "metadata": {},
   "outputs": [],
   "source": []
  },
  {
   "cell_type": "code",
   "execution_count": 1,
   "metadata": {},
   "outputs": [
    {
     "name": "stdout",
     "output_type": "stream",
     "text": [
      "Hello, world! 5\n",
      "Hello, world! 4\n",
      "Hello, world! 3\n",
      "Hello, world! 2\n",
      "Hello, world! 1\n"
     ]
    }
   ],
   "source": [
    "def hello(count):\n",
    "    if count == 200:    # 종료 조건을 만듦. count가 0이면 다시 hello 함수를 호출하지 않고 끝냄\n",
    "        return\n",
    "    \n",
    "    print('Hello, world!', count)\n",
    "    \n",
    "    count -= 1      # count를 1 감소시킨 뒤\n",
    "    hello(count)    # 다시 hello에 넣음\n",
    " \n",
    "hello(5)    # hello 함수 호출"
   ]
  },
  {
   "cell_type": "code",
   "execution_count": 10,
   "metadata": {},
   "outputs": [
    {
     "name": "stdout",
     "output_type": "stream",
     "text": [
      "120\n"
     ]
    }
   ],
   "source": [
    "def factorial(n):\n",
    "    if n == 1:      # n이 1일 때\n",
    "        return 1    # 1을 반환하고 재귀호출을 끝냄\n",
    "    return n * factorial(n - 1)    # n과 factorial 함수에 n - 1을 넣어서 반환된 값을 곱함\n",
    " \n",
    "print(factorial(5))"
   ]
  },
  {
   "cell_type": "code",
   "execution_count": 9,
   "metadata": {},
   "outputs": [
    {
     "name": "stdout",
     "output_type": "stream",
     "text": [
      "15150\n"
     ]
    }
   ],
   "source": [
    "def factorial(num):\n",
    "    if num == 200:      # n이 200일 때\n",
    "        return 200    # 200을 반환하고 재귀호출을 끝냄\n",
    "    return num + factorial(num + 1)    \n",
    "    # factorial 재귀함수결과에 n값을 더하여 반환하므로 \n",
    "\t# 탈출조건에 부합시까지 계속 반복 됩니다.\n",
    " \n",
    "print(factorial(100))\n",
    "# 시작값을 100으로 파라미터에 입력하여 재귀함수 실행"
   ]
  },
  {
   "cell_type": "code",
   "execution_count": 5,
   "metadata": {},
   "outputs": [
    {
     "name": "stdout",
     "output_type": "stream",
     "text": [
      "55\n"
     ]
    }
   ],
   "source": [
    "def Fibonacci(n):\n",
    "    if n == 1:      # n이 1일 때\n",
    "        return 1    # 1을 반환하고 재귀호출을 끝냄\n",
    "    elif n == 0:    # n이 0일 때\n",
    "        return 0    # 0을 반환하고 재귀호출을 끝냄\n",
    "    \n",
    "    return Fibonacci(n - 1) + Fibonacci(n - 2)    \n",
    "    # Fibonacci함수의 파라미터에 해당하는 항번호의 숫자를 반환하기 위해 생성\n",
    " \n",
    "print(Fibonacci(10))\n",
    "# 10번항의 피보나치 수열 숫자 출력"
   ]
  }
 ],
 "metadata": {
  "kernelspec": {
   "display_name": "Python 3",
   "language": "python",
   "name": "python3"
  },
  "language_info": {
   "codemirror_mode": {
    "name": "ipython",
    "version": 3
   },
   "file_extension": ".py",
   "mimetype": "text/x-python",
   "name": "python",
   "nbconvert_exporter": "python",
   "pygments_lexer": "ipython3",
   "version": "3.8.3"
  }
 },
 "nbformat": 4,
 "nbformat_minor": 4
}
