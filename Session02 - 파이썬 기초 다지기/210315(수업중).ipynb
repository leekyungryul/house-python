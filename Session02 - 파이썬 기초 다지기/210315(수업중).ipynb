{
 "cells": [
  {
   "cell_type": "code",
   "execution_count": 1,
   "metadata": {},
   "outputs": [
    {
     "name": "stdout",
     "output_type": "stream",
     "text": [
      "2021-03-15 14:48:07.708234\n",
      "14\n",
      "48\n"
     ]
    }
   ],
   "source": [
    "import datetime as dt\n",
    "current_time = dt.datetime.now()\n",
    "minute = current_time.minute\n",
    "hour = current_time.hour\n",
    "print(current_time)\n",
    "print(hour)\n",
    "print(minute)"
   ]
  },
  {
   "cell_type": "code",
   "execution_count": 3,
   "metadata": {},
   "outputs": [
    {
     "name": "stdout",
     "output_type": "stream",
     "text": [
      "현재시간은 : 14  \n",
      "현재 분은 : 48\n"
     ]
    }
   ],
   "source": [
    "print(\"현재시간은 : {}  \\n현재 분은 : {}\".\\\n",
    "      format(hour,minute))"
   ]
  },
  {
   "cell_type": "code",
   "execution_count": 5,
   "metadata": {},
   "outputs": [
    {
     "name": "stdout",
     "output_type": "stream",
     "text": [
      "smartfintech\n"
     ]
    }
   ],
   "source": [
    "firstLetter = \"smart\"\n",
    "secondLetter = \"fintech\"\n",
    "print(firstLetter + secondLetter)"
   ]
  },
  {
   "cell_type": "code",
   "execution_count": 8,
   "metadata": {},
   "outputs": [
    {
     "name": "stdout",
     "output_type": "stream",
     "text": [
      "smart 'fintech' \"d\" \n"
     ]
    }
   ],
   "source": [
    "thirdLetter = 'smart \"fintech\" lecture' # 따옴표 출력을 원할 시 \n",
    "fourthLetter = \"\"\"smart 'fintech' \"d\" \"\"\"\n",
    "thirdLetter\n",
    "print(fourthLetter)"
   ]
  },
  {
   "cell_type": "code",
   "execution_count": 9,
   "metadata": {},
   "outputs": [
    {
     "ename": "NameError",
     "evalue": "name 'inpuval1' is not defined",
     "output_type": "error",
     "traceback": [
      "\u001b[1;31m---------------------------------------------------------------------------\u001b[0m",
      "\u001b[1;31mNameError\u001b[0m                                 Traceback (most recent call last)",
      "\u001b[1;32m<ipython-input-9-0d56fe453615>\u001b[0m in \u001b[0;36m<module>\u001b[1;34m\u001b[0m\n\u001b[0;32m      1\u001b[0m \u001b[0minputval1\u001b[0m \u001b[1;33m=\u001b[0m \u001b[1;36m1\u001b[0m\u001b[1;33m\u001b[0m\u001b[1;33m\u001b[0m\u001b[0m\n\u001b[0;32m      2\u001b[0m \u001b[0minputval2\u001b[0m \u001b[1;33m=\u001b[0m \u001b[1;34m\"2\"\u001b[0m\u001b[1;33m\u001b[0m\u001b[1;33m\u001b[0m\u001b[0m\n\u001b[1;32m----> 3\u001b[1;33m \u001b[0mprint\u001b[0m\u001b[1;33m(\u001b[0m\u001b[0minpuval1\u001b[0m\u001b[1;33m+\u001b[0m\u001b[0minputval2\u001b[0m\u001b[1;33m)\u001b[0m\u001b[1;33m\u001b[0m\u001b[1;33m\u001b[0m\u001b[0m\n\u001b[0m",
      "\u001b[1;31mNameError\u001b[0m: name 'inpuval1' is not defined"
     ]
    }
   ],
   "source": [
    "inputval1 = 1\n",
    "inputval2 = \"2\"\n",
    "print(inpuval1+inputval2) \n",
    "# 숫자와 문자는 +하기 불가능"
   ]
  },
  {
   "cell_type": "code",
   "execution_count": 10,
   "metadata": {},
   "outputs": [
    {
     "name": "stdout",
     "output_type": "stream",
     "text": [
      "********************start********************\n"
     ]
    }
   ],
   "source": [
    "multi = 20\n",
    "startflag = \"start\"\n",
    "endflag = \"end\"\n",
    "print(\"*\"*multi+startflag+\"*\"*multi)"
   ]
  },
  {
   "cell_type": "code",
   "execution_count": 16,
   "metadata": {},
   "outputs": [
    {
     "name": "stdout",
     "output_type": "stream",
     "text": [
      "2021\n",
      "03\n",
      "03\n"
     ]
    }
   ],
   "source": [
    "YEARLEN = 4\n",
    "WEEKLEN = 2\n",
    "invalue = \"202103\"\n",
    "yearInfo = invalue[0:YEARLEN]\n",
    "print(yearInfo)\n",
    "weekInfo = invalue[YEARLEN:]\n",
    "print(weekInfo)\n",
    "# 첫번째 인덱스는 포함한다. 마지막 인덱스는 포함하지 않는다.\n",
    "print(invalue[-2:])"
   ]
  },
  {
   "cell_type": "markdown",
   "metadata": {},
   "source": [
    "### 문자열 개수세기"
   ]
  },
  {
   "cell_type": "code",
   "execution_count": 17,
   "metadata": {},
   "outputs": [
    {
     "name": "stdout",
     "output_type": "stream",
     "text": [
      "1\n"
     ]
    }
   ],
   "source": [
    "yearweek = \"2021W28\"\n",
    "print(yearweek.count('W'))"
   ]
  },
  {
   "cell_type": "code",
   "execution_count": 18,
   "metadata": {},
   "outputs": [
    {
     "name": "stdout",
     "output_type": "stream",
     "text": [
      "4\n"
     ]
    }
   ],
   "source": [
    "print(yearweek.index('W'))"
   ]
  },
  {
   "cell_type": "code",
   "execution_count": 19,
   "metadata": {},
   "outputs": [
    {
     "name": "stdout",
     "output_type": "stream",
     "text": [
      "202128\n"
     ]
    }
   ],
   "source": [
    "delimeter = yearweek.index('W')\n",
    "newYearweek = yearweek[:delimeter]+yearweek[delimeter+1:]\n",
    "print(newYearweek)"
   ]
  },
  {
   "cell_type": "markdown",
   "metadata": {},
   "source": [
    "### 대소문자 구별 함수"
   ]
  },
  {
   "cell_type": "code",
   "execution_count": 21,
   "metadata": {},
   "outputs": [
    {
     "data": {
      "text/plain": [
       "'LED_TV'"
      ]
     },
     "execution_count": 21,
     "metadata": {},
     "output_type": "execute_result"
    }
   ],
   "source": [
    "letters = \"led_tv\"\n",
    "letters.upper()"
   ]
  },
  {
   "cell_type": "markdown",
   "metadata": {},
   "source": [
    "### 문자 치환"
   ]
  },
  {
   "cell_type": "code",
   "execution_count": 28,
   "metadata": {},
   "outputs": [
    {
     "data": {
      "text/plain": [
       "'team____busan'"
      ]
     },
     "execution_count": 28,
     "metadata": {},
     "output_type": "execute_result"
    }
   ],
   "source": [
    "a = \"hiteam      seoul\"\n",
    "b = \"team       busan\"\n",
    "a.replace(\"  \",\" \").replace(\" \",\"_\")\n",
    "b.replace(\"  \",\" \").replace(\" \",\"_\")"
   ]
  },
  {
   "cell_type": "markdown",
   "metadata": {},
   "source": [
    "### “SEC 20180212 250” 문자열 생성 후\n",
    "stock_name, date, value로 각각 의미하는\n",
    "문자열을 생성하세요"
   ]
  },
  {
   "cell_type": "code",
   "execution_count": 84,
   "metadata": {},
   "outputs": [
    {
     "name": "stdout",
     "output_type": "stream",
     "text": [
      "['SEC', '20180212', '250']\n"
     ]
    }
   ],
   "source": [
    "targetValue = \"SEC 20180212 250\"\n",
    "# targetValue 문자열 생성\n",
    "targetValue_split = targetValue.split(\" \")\n",
    "# targetValue를  공백을 기준해서 분리시켜 targetValue_split리스트에 담는다.\n",
    "print(targetValue_split)\n",
    "# targetValue에서 분리된 정보로 재 생성한 targetValue_split 리스트 출력 "
   ]
  },
  {
   "cell_type": "code",
   "execution_count": 85,
   "metadata": {},
   "outputs": [],
   "source": [
    "stock_name = targetValue_split[0]\n",
    "# targetValue_split리스트의 첫번째 인덱스 값을 stock_name변수에 담는다.\n",
    "date = targetValue_split[1]\n",
    "# targetValue_split리스트의 두번째 인덱스 값을 date변수에 담는다.\n",
    "value = targetValue_split[2]\n",
    "# targetValue_split리스트의 세번째 인덱스 값을 value변수에 담는다."
   ]
  },
  {
   "cell_type": "code",
   "execution_count": 86,
   "metadata": {},
   "outputs": [
    {
     "name": "stdout",
     "output_type": "stream",
     "text": [
      "SEC 20180212 250\n"
     ]
    }
   ],
   "source": [
    "print(stock_name,date,value)\n",
    "# stock_name,date,value 출력"
   ]
  },
  {
   "cell_type": "markdown",
   "metadata": {},
   "source": [
    "“Sec 2018W28 250” 문자열 생성 후\n",
    "stock_name, date, value로 각각 의미하는\n",
    "문자열을 생성하세요\n",
    "(단 모두 대문자여야 하며, ‘W’를 삭제해야함)"
   ]
  },
  {
   "cell_type": "code",
   "execution_count": 69,
   "metadata": {},
   "outputs": [
    {
     "name": "stdout",
     "output_type": "stream",
     "text": [
      "SEC 201828 250\n"
     ]
    }
   ],
   "source": [
    "StockData = \"Sec 2018W28 250\"\n",
    "# StockData 문자열을 생성한다.\n",
    "StockData_split = StockData.split(\" \")\n",
    "# StockData를  공백을 기준해서 분리시켜 StockData_split리스트에 담는다.\n",
    "stock_name = StockData_split[0].upper()\n",
    "# StockData_split리스트의 첫번째 인덱스를 대문자로 변환하여 stock_name변수에 담는다.\n",
    "date = StockData_split[1].upper()\n",
    "# StockData_split리스트의 두번째 인덱스를 대문자로 변환하여 date변수에 담는다.\n",
    "date = date.replace(\"W\",\"\")\n",
    "# date변수값에서 W를 지운다ate변수값에서 W를 지운다\n",
    "value = StockData_split[2].upper()\n",
    "# StockData_split리스트의 세번째 인덱스를 대문자로 변환하여 value변수에 담는다.\n",
    "print(stock_name,date,value)\n",
    "# stock_name,date,value을 출력한다."
   ]
  },
  {
   "cell_type": "code",
   "execution_count": 130,
   "metadata": {},
   "outputs": [
    {
     "name": "stdout",
     "output_type": "stream",
     "text": [
      "SEC 201828 250\n"
     ]
    }
   ],
   "source": [
    "StockData = \"Sec 2018W28 250\"\n",
    "# StockData 문자열을 생성한다.\n",
    "StockData_split = StockData.split(\" \")\n",
    "# StockData를  공백을 기준해서 분리시켜 StockData_split리스트에 담는다.\n",
    "for i in range(0,len(StockData_split)):\n",
    "    StockData_split[i] = StockData_split[i].upper()\n",
    "    # StockData_split리스트에서 하나씩 꺼내서 대문자로 변환해 준다.\n",
    "stock_name = StockData_split[0]\n",
    "# StockData_split리스트의 첫번째 인덱스를 대문자로 변환하여 stock_name변수에 담는다.\n",
    "date = StockData_split[1]\n",
    "# StockData_split리스트의 두번째 인덱스를 대문자로 변환하여 date변수에 담는다.\n",
    "date = date.replace(\"W\",\"\")\n",
    "# date변수값에서 W를 지운다.\n",
    "value = StockData_split[2]\n",
    "# StockData_split리스트의 세번째 인덱스를 대문자로 변환하여 value변수에 담는다.\n",
    "print(stock_name,date,value)\n",
    "# stock_name,date,value을 출력한다."
   ]
  },
  {
   "cell_type": "markdown",
   "metadata": {},
   "source": [
    "1. 대문자로 변환한다."
   ]
  },
  {
   "cell_type": "code",
   "execution_count": 108,
   "metadata": {},
   "outputs": [],
   "source": [
    "targetValue = \"Sec 2019W28 250\"\n",
    "targetValue = targetValue.upper()"
   ]
  },
  {
   "cell_type": "markdown",
   "metadata": {},
   "source": [
    "2. 구분자를 정의한다."
   ]
  },
  {
   "cell_type": "code",
   "execution_count": 116,
   "metadata": {},
   "outputs": [
    {
     "name": "stdout",
     "output_type": "stream",
     "text": [
      "SEC 201928 250\n"
     ]
    }
   ],
   "source": [
    "delChar = \"W\"\n",
    "delimeter = \" \"\n",
    "delimeterIndex = targetValue.index(delimeter)\n",
    "stockName = targetValue[:delimeterIndex]\n",
    "leftedValue = targetValue[delimeterIndex:].lstrip() #왼쪽에 있는 공백을 없엔다.\n",
    "delimeterIndex = leftedValue.index(delimeter)\n",
    "date = leftedValue[:delimeterIndex].replace(delChar,\"\")\n",
    "value = leftedValue[delimeterIndex+1:]\n",
    "\n",
    "print(stockName,date,value)"
   ]
  },
  {
   "cell_type": "code",
   "execution_count": null,
   "metadata": {},
   "outputs": [],
   "source": []
  },
  {
   "cell_type": "code",
   "execution_count": 137,
   "metadata": {},
   "outputs": [
    {
     "name": "stdout",
     "output_type": "stream",
     "text": [
      "2\n",
      "88\n",
      "223\n",
      "[2, 33, 555, 54, 2, 88]\n",
      "[33, 555, 54, 2, 88]\n",
      "[33, 54, 2, 88]\n"
     ]
    }
   ],
   "source": [
    "pricelist = [2,33,44,54,2,88]\n",
    "print(min(pricelist))\n",
    "print(max(pricelist))\n",
    "print(sum(pricelist))\n",
    "pricelist[2]=555\n",
    "print(pricelist)\n",
    "pricelist.remove(2)\n",
    "print(pricelist)\n",
    "del pricelist[1]\n",
    "print(pricelist)"
   ]
  },
  {
   "cell_type": "code",
   "execution_count": 139,
   "metadata": {},
   "outputs": [
    {
     "name": "stdout",
     "output_type": "stream",
     "text": [
      "[88, 54, 33, 2]\n"
     ]
    }
   ],
   "source": [
    "pricelist.sort(reverse = True)\n",
    "print(pricelist)"
   ]
  },
  {
   "cell_type": "code",
   "execution_count": 140,
   "metadata": {},
   "outputs": [
    {
     "name": "stdout",
     "output_type": "stream",
     "text": [
      "1\n"
     ]
    }
   ],
   "source": [
    "print(pricelist.count(2))"
   ]
  },
  {
   "cell_type": "code",
   "execution_count": 141,
   "metadata": {},
   "outputs": [
    {
     "data": {
      "text/plain": [
       "[100, 200, 300]"
      ]
     },
     "execution_count": 141,
     "metadata": {},
     "output_type": "execute_result"
    }
   ],
   "source": [
    "initList = [100,200,300,400]\n",
    "initList[0:3]"
   ]
  },
  {
   "cell_type": "code",
   "execution_count": 142,
   "metadata": {},
   "outputs": [
    {
     "data": {
      "text/plain": [
       "1000"
      ]
     },
     "execution_count": 142,
     "metadata": {},
     "output_type": "execute_result"
    }
   ],
   "source": [
    "sum(initList)"
   ]
  },
  {
   "cell_type": "code",
   "execution_count": 144,
   "metadata": {},
   "outputs": [],
   "source": [
    "initList.remove(300)"
   ]
  },
  {
   "cell_type": "code",
   "execution_count": 146,
   "metadata": {},
   "outputs": [],
   "source": [
    "del initList[0]"
   ]
  },
  {
   "cell_type": "code",
   "execution_count": 147,
   "metadata": {},
   "outputs": [
    {
     "name": "stdout",
     "output_type": "stream",
     "text": [
      "[400]\n"
     ]
    }
   ],
   "source": [
    "print(initList)"
   ]
  },
  {
   "cell_type": "code",
   "execution_count": 148,
   "metadata": {},
   "outputs": [],
   "source": [
    "initList.append(100)"
   ]
  },
  {
   "cell_type": "code",
   "execution_count": 149,
   "metadata": {},
   "outputs": [],
   "source": [
    "initList.append(200)"
   ]
  },
  {
   "cell_type": "code",
   "execution_count": 150,
   "metadata": {},
   "outputs": [
    {
     "data": {
      "text/plain": [
       "1"
      ]
     },
     "execution_count": 150,
     "metadata": {},
     "output_type": "execute_result"
    }
   ],
   "source": [
    "initList.count(200)"
   ]
  },
  {
   "cell_type": "code",
   "execution_count": 151,
   "metadata": {},
   "outputs": [
    {
     "data": {
      "text/plain": [
       "[400, 100, 200]"
      ]
     },
     "execution_count": 151,
     "metadata": {},
     "output_type": "execute_result"
    }
   ],
   "source": [
    "initList"
   ]
  },
  {
   "cell_type": "code",
   "execution_count": 152,
   "metadata": {},
   "outputs": [],
   "source": [
    "initList.sort(reverse = True)"
   ]
  },
  {
   "cell_type": "code",
   "execution_count": 153,
   "metadata": {},
   "outputs": [
    {
     "data": {
      "text/plain": [
       "[400, 200, 100]"
      ]
     },
     "execution_count": 153,
     "metadata": {},
     "output_type": "execute_result"
    }
   ],
   "source": [
    "initList"
   ]
  },
  {
   "cell_type": "markdown",
   "metadata": {},
   "source": [
    "### 과제"
   ]
  },
  {
   "cell_type": "markdown",
   "metadata": {},
   "source": [
    "[120,150,300,500,1000,100,2000] \n",
    "값에서 최소 최대 값을 뺀 평균을\n",
    "average 이름의 변수에 담으세요"
   ]
  },
  {
   "cell_type": "code",
   "execution_count": 159,
   "metadata": {},
   "outputs": [
    {
     "name": "stdout",
     "output_type": "stream",
     "text": [
      "[1000, 500, 300, 150, 120, 100]\n"
     ]
    }
   ],
   "source": [
    "Score = [120,150,300,500,1000,100,2000]\n",
    "Score.sort(reverse = True)\n",
    "del Score[0]\n",
    "\n",
    "print(Score)"
   ]
  },
  {
   "cell_type": "code",
   "execution_count": 6,
   "metadata": {},
   "outputs": [
    {
     "name": "stdout",
     "output_type": "stream",
     "text": [
      "리스트의 평균값은 414.0입니다.\n"
     ]
    }
   ],
   "source": [
    "Score = [120,150,300,500,1000,100,2000]\n",
    "# Score 리스트를 생성한다.\n",
    "Score.remove(max(Score))\n",
    "# 최대값을 삭제한다.\n",
    "Score.remove(min(Score))\n",
    "# 최소값을 삭제한다.\n",
    "average = sum(Score) / len(Score)\n",
    "# 합계에서 리스트성분의 갯수로 나누어 평균을 구한다.\n",
    "print(\"리스트의 평균값은 {}입니다.\".format(average))\n",
    "# 평균을 출력한다."
   ]
  },
  {
   "cell_type": "code",
   "execution_count": 11,
   "metadata": {},
   "outputs": [
    {
     "name": "stdout",
     "output_type": "stream",
     "text": [
      "2017\n"
     ]
    }
   ],
   "source": [
    "a=\"2017w42\"\n",
    "\n",
    "print(a.split(\"w\")[0])"
   ]
  },
  {
   "cell_type": "code",
   "execution_count": 22,
   "metadata": {},
   "outputs": [
    {
     "name": "stdout",
     "output_type": "stream",
     "text": [
      "256\n",
      "35248.91490376756\n"
     ]
    }
   ],
   "source": [
    "import pandas as pd\n",
    "customerData = pd.read_csv(\"../dataset/kopo_customerdata.csv\")\n",
    "customerTotalList = customerData[\"TOTAL_AMOUNT\"].tolist()\n",
    "customerTotalList.sort(reverse=True)\n",
    "del customerTotalList[0]\n",
    "mini = min(customerTotalList)\n",
    "mini_count = customerTotalList.count(mini)\n",
    "print(mini_count)\n",
    "del customerTotalList[-mini_count:]\n",
    "print(sum(customerTotalList)/len(customerTotalList))"
   ]
  },
  {
   "cell_type": "code",
   "execution_count": 23,
   "metadata": {},
   "outputs": [
    {
     "data": {
      "text/plain": [
       "'C:\\\\Users\\\\SMART-25\\\\stddev\\\\Session02 - 파이썬 기초 다지기'"
      ]
     },
     "execution_count": 23,
     "metadata": {},
     "output_type": "execute_result"
    }
   ],
   "source": [
    "pwd"
   ]
  }
 ],
 "metadata": {
  "kernelspec": {
   "display_name": "Python 3",
   "language": "python",
   "name": "python3"
  },
  "language_info": {
   "codemirror_mode": {
    "name": "ipython",
    "version": 3
   },
   "file_extension": ".py",
   "mimetype": "text/x-python",
   "name": "python",
   "nbconvert_exporter": "python",
   "pygments_lexer": "ipython3",
   "version": "3.8.3"
  }
 },
 "nbformat": 4,
 "nbformat_minor": 4
}
