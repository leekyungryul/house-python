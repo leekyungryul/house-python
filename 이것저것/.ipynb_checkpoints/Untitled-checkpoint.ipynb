{
 "cells": [
  {
   "cell_type": "markdown",
   "metadata": {},
   "source": [
    "사용자가 요청한 주소의 Query String을 분해하여 HTML로 리턴하시오.​\n",
    "​\n",
    "예> http://localhost:8090/api/v1/getrecord?city=seoul&zipcode=08206&mobile=01012341234&nickname=cat​\n",
    "​\n",
    "위 요청에 대한 응답 (HTML)​\n",
    "city : seoul​\n",
    "zipcode : 08206​\n",
    "mobile : 01012341234​\n",
    "nickname : cat"
   ]
  },
  {
   "cell_type": "code",
   "execution_count": 6,
   "metadata": {},
   "outputs": [],
   "source": [
    "target = 'http://localhost:8090/api/v1/getrecord/?city=seoul&zipcode=08206&mobile=01012341234&nickname=cat'"
   ]
  },
  {
   "cell_type": "code",
   "execution_count": 25,
   "metadata": {},
   "outputs": [
    {
     "data": {
      "text/plain": [
       "['nickname=cat']"
      ]
     },
     "execution_count": 25,
     "metadata": {},
     "output_type": "execute_result"
    }
   ],
   "source": [
    "a = ((target.split('?')[-1]).split('&'))\n",
    "\n",
    "a[-1]\n",
    "\n",
    "result = a[-1].split('&')\n",
    "\n",
    "result"
   ]
  },
  {
   "cell_type": "markdown",
   "metadata": {},
   "source": [
    "recordID = (self.path.split('/')[-1]).split('?')[0]"
   ]
  },
  {
   "cell_type": "code",
   "execution_count": 26,
   "metadata": {},
   "outputs": [
    {
     "data": {
      "text/plain": [
       "['city=seoul', 'zipcode=08206', 'mobile=01012341234', 'nickname=cat']"
      ]
     },
     "execution_count": 26,
     "metadata": {},
     "output_type": "execute_result"
    }
   ],
   "source": [
    "a"
   ]
  },
  {
   "cell_type": "code",
   "execution_count": 20,
   "metadata": {},
   "outputs": [
    {
     "data": {
      "text/plain": [
       "'city'"
      ]
     },
     "execution_count": 20,
     "metadata": {},
     "output_type": "execute_result"
    }
   ],
   "source": [
    "(a[0].split('='))[0]"
   ]
  },
  {
   "cell_type": "code",
   "execution_count": 6,
   "metadata": {},
   "outputs": [
    {
     "name": "stdin",
     "output_type": "stream",
     "text": [
      " c8\n"
     ]
    },
    {
     "name": "stdout",
     "output_type": "stream",
     "text": [
      "8\n",
      "3\n"
     ]
    }
   ],
   "source": [
    "input_data = input()\n",
    "# 사용자에게 입력받는다\n",
    "row = int(input_data[1])\n",
    "# 입력받은것의 두번째 문자를 숫자로 변환해서 row에 담는다.\n",
    "column = ord(input_data[0]) - int(ord('a')) + 1\n",
    "\n",
    "print(row)\n",
    "print(column)"
   ]
  },
  {
   "cell_type": "code",
   "execution_count": 4,
   "metadata": {},
   "outputs": [
    {
     "data": {
      "text/plain": [
       "97"
      ]
     },
     "execution_count": 4,
     "metadata": {},
     "output_type": "execute_result"
    }
   ],
   "source": [
    "ord(input_data[0])"
   ]
  },
  {
   "cell_type": "code",
   "execution_count": 5,
   "metadata": {},
   "outputs": [
    {
     "data": {
      "text/plain": [
       "97"
      ]
     },
     "execution_count": 5,
     "metadata": {},
     "output_type": "execute_result"
    }
   ],
   "source": [
    "int(ord('a'))"
   ]
  },
  {
   "cell_type": "code",
   "execution_count": 16,
   "metadata": {},
   "outputs": [
    {
     "name": "stdout",
     "output_type": "stream",
     "text": [
      "0 2 4 0 2 4 0 2 4 0 2 4 0 2 4 0 2 4 "
     ]
    }
   ],
   "source": [
    "for j in range(6):\n",
    "    a = 0\n",
    "    for i in range(3):\n",
    "        a = i*2\n",
    "#         a = a +2\n",
    "        print(a, end=' ')\n",
    "\n",
    "    "
   ]
  },
  {
   "cell_type": "code",
   "execution_count": 11,
   "metadata": {},
   "outputs": [
    {
     "name": "stdin",
     "output_type": "stream",
     "text": [
      " 23\n"
     ]
    },
    {
     "name": "stdout",
     "output_type": "stream",
     "text": [
      "4\n"
     ]
    }
   ],
   "source": [
    "x = int(input())\n",
    "arr = [64,32,16,8,4,2,1]\n",
    "arrsum = []\n",
    "for i in arr:\n",
    "    if(i <= x) & ((sum(arrsum)+i) <= x):\n",
    "#   if (i <= X) & ((sum(b_sum) + b) <= X) :\n",
    "        arrsum.append(i)\n",
    "#         print(arrsum)\n",
    "if x==64:\n",
    "    print(\"1\")\n",
    "else:\n",
    "    print(len(arrsum))\n",
    "# print(arrsum)"
   ]
  },
  {
   "cell_type": "code",
   "execution_count": null,
   "metadata": {},
   "outputs": [],
   "source": [
    "for tc in range(int(input())):\n",
    "    n,m = map(int,input().split())\n",
    "    array = list(map(int,input().split()))\n",
    "    dp = []\n",
    "    index = 0\n",
    "    for i in range(n):\n",
    "        dp.append(array[index:index + m])\n",
    "        index += m\n",
    "    for j in range(1,m):\n",
    "        for i in range(n):\n",
    "            if i = 0: left_up = 0\n",
    "            else: left_up = dp[i-1][j-1]\n",
    "            if i = n-1: left_down = 0\n",
    "            else: left_down = dp[i+1][j-1]\n",
    "            left = dp[i][j-1]\n",
    "            dp[i][j] = dp[i][j] + max(left_up,left_down,left)\n",
    "    result = 0;\n",
    "    for i in range(n):\n",
    "        result = max(result, dp[i][m-1])\n",
    "    print(result)\n",
    "            \n",
    "    "
   ]
  },
  {
   "cell_type": "code",
   "execution_count": null,
   "metadata": {},
   "outputs": [],
   "source": []
  },
  {
   "cell_type": "code",
   "execution_count": 21,
   "metadata": {},
   "outputs": [
    {
     "name": "stdin",
     "output_type": "stream",
     "text": [
      " 1 3 3 1 2 1 4 1 0 6 4 7\n"
     ]
    }
   ],
   "source": [
    "array = list(map(int,input().split()))"
   ]
  },
  {
   "cell_type": "code",
   "execution_count": 22,
   "metadata": {},
   "outputs": [
    {
     "name": "stdout",
     "output_type": "stream",
     "text": [
      "[1, 3, 3, 1, 2, 1, 4, 1, 0, 6, 4, 7]\n"
     ]
    }
   ],
   "source": [
    "print(array)"
   ]
  },
  {
   "cell_type": "code",
   "execution_count": 4,
   "metadata": {},
   "outputs": [
    {
     "name": "stdin",
     "output_type": "stream",
     "text": [
      " 3 4\n",
      " 1 3 3 1 2 1 4 1 0 6 4 7\n"
     ]
    },
    {
     "name": "stdout",
     "output_type": "stream",
     "text": [
      "[[1, 3, 3, 1], [2, 1, 4, 1], [0, 6, 4, 7]]\n"
     ]
    }
   ],
   "source": [
    "n,m = map(int,input().split())\n",
    "array = list(map(int,input().split()))\n",
    "dp = []\n",
    "index = 0\n",
    "for i in range(n):\n",
    "    dp.append(array[index:index + m])\n",
    "    index += m\n",
    "print(dp)"
   ]
  },
  {
   "cell_type": "code",
   "execution_count": null,
   "metadata": {},
   "outputs": [],
   "source": []
  }
 ],
 "metadata": {
  "kernelspec": {
   "display_name": "Python 3",
   "language": "python",
   "name": "python3"
  },
  "language_info": {
   "codemirror_mode": {
    "name": "ipython",
    "version": 3
   },
   "file_extension": ".py",
   "mimetype": "text/x-python",
   "name": "python",
   "nbconvert_exporter": "python",
   "pygments_lexer": "ipython3",
   "version": "3.8.5"
  }
 },
 "nbformat": 4,
 "nbformat_minor": 4
}
