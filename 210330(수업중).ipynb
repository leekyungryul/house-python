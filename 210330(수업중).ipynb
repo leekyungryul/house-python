{
 "cells": [
  {
   "cell_type": "code",
   "execution_count": 97,
   "metadata": {},
   "outputs": [
    {
     "ename": "ImportError",
     "evalue": "cannot import name 'week' from 'isoweek' (C:\\Users\\SMART-25\\Anaconda3\\lib\\site-packages\\isoweek.py)",
     "output_type": "error",
     "traceback": [
      "\u001b[1;31m---------------------------------------------------------------------------\u001b[0m",
      "\u001b[1;31mImportError\u001b[0m                               Traceback (most recent call last)",
      "\u001b[1;32m<ipython-input-97-919c3d2c10a5>\u001b[0m in \u001b[0;36m<module>\u001b[1;34m\u001b[0m\n\u001b[1;32m----> 1\u001b[1;33m \u001b[1;32mfrom\u001b[0m \u001b[0misoweek\u001b[0m \u001b[1;32mimport\u001b[0m \u001b[0mweek\u001b[0m\u001b[1;33m\u001b[0m\u001b[1;33m\u001b[0m\u001b[0m\n\u001b[0m",
      "\u001b[1;31mImportError\u001b[0m: cannot import name 'week' from 'isoweek' (C:\\Users\\SMART-25\\Anaconda3\\lib\\site-packages\\isoweek.py)"
     ]
    }
   ],
   "source": [
    "from isoweek import week"
   ]
  },
  {
   "cell_type": "code",
   "execution_count": 2,
   "metadata": {},
   "outputs": [
    {
     "ename": "NameError",
     "evalue": "name 'isoweek' is not defined",
     "output_type": "error",
     "traceback": [
      "\u001b[1;31m---------------------------------------------------------------------------\u001b[0m",
      "\u001b[1;31mNameError\u001b[0m                                 Traceback (most recent call last)",
      "\u001b[1;32m<ipython-input-2-f2988451cc33>\u001b[0m in \u001b[0;36m<module>\u001b[1;34m\u001b[0m\n\u001b[1;32m----> 1\u001b[1;33m \u001b[0misoweek\u001b[0m\u001b[1;33m.\u001b[0m\u001b[0mWeek\u001b[0m\u001b[1;33m.\u001b[0m\u001b[0mlast_week_of_year\u001b[0m\u001b[1;33m(\u001b[0m\u001b[1;36m2014\u001b[0m\u001b[1;33m)\u001b[0m\u001b[1;33m\u001b[0m\u001b[1;33m\u001b[0m\u001b[0m\n\u001b[0m",
      "\u001b[1;31mNameError\u001b[0m: name 'isoweek' is not defined"
     ]
    }
   ],
   "source": [
    "isoweek.Week.last_week_of_year(2014)"
   ]
  },
  {
   "cell_type": "code",
   "execution_count": 9,
   "metadata": {},
   "outputs": [
    {
     "data": {
      "text/plain": [
       "52"
      ]
     },
     "execution_count": 9,
     "metadata": {},
     "output_type": "execute_result"
    }
   ],
   "source": [
    ">>> import isoweek\n",
    ">>> isoweek.Week.last_week_of_year(2014)\n",
    "isoweek.Week(2014, 52)\n",
    ">>> isoweek.Week.last_week_of_year(2014).week\n",
    "52"
   ]
  },
  {
   "cell_type": "code",
   "execution_count": 100,
   "metadata": {},
   "outputs": [],
   "source": [
    "import isoweek"
   ]
  },
  {
   "cell_type": "code",
   "execution_count": 101,
   "metadata": {},
   "outputs": [
    {
     "name": "stdout",
     "output_type": "stream",
     "text": [
      "-1\n",
      "2020\n",
      "50\n",
      "53\n"
     ]
    }
   ],
   "source": [
    "yearweek = \"202050\"\n",
    "# 현재 년도주차정보\n",
    "inputyear = int(yearweek[:4])\n",
    "# 인덱싱한 현재년도정보\n",
    "inputweek = int(yearweek[4:])\n",
    "# 인덱싱한 현재주차정보\n",
    "Wantweek = 2\n",
    "# 이동을 원하는 주차의 상대적 거리\n",
    "i= 2020\n",
    "# 현재년도 \n",
    "Maxweek = isoweek.Week.last_week_of_year(inputyear)[1]\n",
    "# 현재년도 주차정보\n",
    "result = int((inputweek + Wantweek) - Maxweek)\n",
    "# (현재의 주차 + 이동을 원하는 주차) - 최대주차\n",
    "print(result)\n",
    "print(inputyear)\n",
    "print(inputweek)\n",
    "print(Maxweek)\n",
    "year = inputyear\n",
    "# 반복문을 회전시마다 누적되는 년도를 담기위한 변수"
   ]
  },
  {
   "cell_type": "code",
   "execution_count": 102,
   "metadata": {},
   "outputs": [],
   "source": [
    "if (result < 0):\n",
    "    resultYearweek = str(year) + str(inputweek+Wantweek)"
   ]
  },
  {
   "cell_type": "code",
   "execution_count": 103,
   "metadata": {},
   "outputs": [
    {
     "data": {
      "text/plain": [
       "'202052'"
      ]
     },
     "execution_count": 103,
     "metadata": {},
     "output_type": "execute_result"
    }
   ],
   "source": [
    "resultYearweek"
   ]
  },
  {
   "cell_type": "code",
   "execution_count": 78,
   "metadata": {},
   "outputs": [],
   "source": [
    "while(True):\n",
    "# 무한반복\n",
    "    year = year + 1\n",
    "    # 현재년도 + 1\n",
    "    maxWeek = isoweek.Week.last_week_of_year(year)[1]\n",
    "    # 1 추가된 년도의 최대주차정보\n",
    "    if result < maxWeek:\n",
    "        # (현재의 주차 + 이동을 원하는 주차) - 최대주차 = 현재년도 최대주차보다 적다면\n",
    "        resultYearweek = str(year) + str(result)\n",
    "        # 년도 + result\n",
    "        break;\n",
    "        # 반복문 종료\n",
    "    result  = result - maxWeek\n",
    "    # result - 최대주차"
   ]
  },
  {
   "cell_type": "code",
   "execution_count": 83,
   "metadata": {},
   "outputs": [
    {
     "data": {
      "text/plain": [
       "'2020-2'"
      ]
     },
     "execution_count": 83,
     "metadata": {},
     "output_type": "execute_result"
    }
   ],
   "source": [
    "resultYearweek"
   ]
  },
  {
   "cell_type": "code",
   "execution_count": null,
   "metadata": {},
   "outputs": [],
   "source": []
  },
  {
   "cell_type": "code",
   "execution_count": null,
   "metadata": {},
   "outputs": [],
   "source": []
  },
  {
   "cell_type": "code",
   "execution_count": 155,
   "metadata": {},
   "outputs": [
    {
     "name": "stdout",
     "output_type": "stream",
     "text": [
      "202102\n"
     ]
    }
   ],
   "source": [
    "yearweek = \"202002\"\n",
    "# 현재 년도주차정보\n",
    "inputyear = int(yearweek[:4])\n",
    "# 인덱싱한 현재년도정보\n",
    "inputweek = int(yearweek[4:])\n",
    "# 인덱싱한 현재주차정보\n",
    "Wantweek = 53\n",
    "# 이동을 원하는 주차의 상대적 거리\n",
    "i= inputyear\n",
    "# 현재년도 \n",
    "Maxweek = isoweek.Week.last_week_of_year(inputyear)[1]\n",
    "# 현재년도 주차정보\n",
    "result = int((inputweek + Wantweek) - Maxweek)\n",
    "# (현재의 주차 + 이동을 원하는 주차) - 최대주차\n",
    "\n",
    "year = inputyear\n",
    "# 반복문을 회전시마다 누적되는 년도를 담기위한 변수\n",
    "if (result < 0):\n",
    "    if len(str(inputweek+Wantweek)) == 1 :\n",
    "        resultYearweek = str(year) + \"0\" + str(inputweek+Wantweek) \n",
    "    else:\n",
    "        resultYearweek = str(year) + str(inputweek+Wantweek)\n",
    "    print(resultYearweek)\n",
    "\n",
    "    \n",
    "else:\n",
    "    while(True):\n",
    "    # 무한반복\n",
    "        year = year + 1\n",
    "        # 현재년도 + 1\n",
    "        maxWeek = isoweek.Week.last_week_of_year(year)[1]\n",
    "        # 1 추가된 년도의 최대주차정보\n",
    "        if result < maxWeek:\n",
    "            # (현재의 주차 + 이동을 원하는 주차) - 최대주차 = 현재년도 최대주차보다 적다면\n",
    "            if len(str(result)):\n",
    "                resultYearweek = str(year) + \"0\" + str(result)\n",
    "            # 년도 + result\n",
    "            else:\n",
    "                resultYearweek = str(year) + str(result)\n",
    "            break;\n",
    "            # 반복문 종료\n",
    "        result  = result - maxWeek\n",
    "        # result - 최대주차\n",
    "print(resultYearweek)\n"
   ]
  },
  {
   "cell_type": "code",
   "execution_count": 127,
   "metadata": {},
   "outputs": [],
   "source": [
    "import isoweek"
   ]
  },
  {
   "cell_type": "code",
   "execution_count": 134,
   "metadata": {},
   "outputs": [],
   "source": [
    "def postweek(yearweek, Wantweek):\n",
    "\n",
    "    inputyear = int(yearweek[:4])\n",
    "    inputweek = int(yearweek[4:])\n",
    "    i= inputyear\n",
    "    Maxweek = isoweek.Week.last_week_of_year(inputyear)[1]\n",
    "    result = int((inputweek + Wantweek) - Maxweek)\n",
    "    year = inputyear\n",
    "    if (result < 0):\n",
    "        if len(str(inputweek+Wantweek)) == 1 :\n",
    "            resultYearweek = str(year) + \"0\" + str(inputweek+Wantweek) \n",
    "        else:\n",
    "            resultYearweek = str(year) + str(inputweek+Wantweek) \n",
    "        return resultYearweek\n",
    "    else:\n",
    "        while(True):\n",
    "            year = year + 1\n",
    "            maxWeek = isoweek.Week.last_week_of_year(year)[1]\n",
    "            if result < maxWeek:\n",
    "                if len(str(result)):\n",
    "                    resultYearweek = str(year) + \"0\" + str(result)\n",
    "                else:\n",
    "                    resultYearweek = str(year) + str(result)\n",
    "                break;\n",
    "            result  = result - maxWeek\n",
    "        return resultYearweek\n"
   ]
  },
  {
   "cell_type": "code",
   "execution_count": 136,
   "metadata": {},
   "outputs": [
    {
     "ename": "TypeError",
     "evalue": "unsupported operand type(s) for +: 'int' and 'str'",
     "output_type": "error",
     "traceback": [
      "\u001b[1;31m---------------------------------------------------------------------------\u001b[0m",
      "\u001b[1;31mTypeError\u001b[0m                                 Traceback (most recent call last)",
      "\u001b[1;32m<ipython-input-136-d1f8f8eac5d3>\u001b[0m in \u001b[0;36m<module>\u001b[1;34m\u001b[0m\n\u001b[1;32m----> 1\u001b[1;33m \u001b[0mpostweek\u001b[0m\u001b[1;33m(\u001b[0m\u001b[1;34m\"202020\"\u001b[0m\u001b[1;33m,\u001b[0m\u001b[1;34m\"30\"\u001b[0m\u001b[1;33m)\u001b[0m\u001b[1;33m\u001b[0m\u001b[1;33m\u001b[0m\u001b[0m\n\u001b[0m",
      "\u001b[1;32m<ipython-input-134-04b6410b39ed>\u001b[0m in \u001b[0;36mpostweek\u001b[1;34m(yearweek, Wantweek)\u001b[0m\n\u001b[0;32m      5\u001b[0m     \u001b[0mi\u001b[0m\u001b[1;33m=\u001b[0m \u001b[0minputyear\u001b[0m\u001b[1;33m\u001b[0m\u001b[1;33m\u001b[0m\u001b[0m\n\u001b[0;32m      6\u001b[0m     \u001b[0mMaxweek\u001b[0m \u001b[1;33m=\u001b[0m \u001b[0misoweek\u001b[0m\u001b[1;33m.\u001b[0m\u001b[0mWeek\u001b[0m\u001b[1;33m.\u001b[0m\u001b[0mlast_week_of_year\u001b[0m\u001b[1;33m(\u001b[0m\u001b[0minputyear\u001b[0m\u001b[1;33m)\u001b[0m\u001b[1;33m[\u001b[0m\u001b[1;36m1\u001b[0m\u001b[1;33m]\u001b[0m\u001b[1;33m\u001b[0m\u001b[1;33m\u001b[0m\u001b[0m\n\u001b[1;32m----> 7\u001b[1;33m     \u001b[0mresult\u001b[0m \u001b[1;33m=\u001b[0m \u001b[0mint\u001b[0m\u001b[1;33m(\u001b[0m\u001b[1;33m(\u001b[0m\u001b[0minputweek\u001b[0m \u001b[1;33m+\u001b[0m \u001b[0mWantweek\u001b[0m\u001b[1;33m)\u001b[0m \u001b[1;33m-\u001b[0m \u001b[0mMaxweek\u001b[0m\u001b[1;33m)\u001b[0m\u001b[1;33m\u001b[0m\u001b[1;33m\u001b[0m\u001b[0m\n\u001b[0m\u001b[0;32m      8\u001b[0m     \u001b[0myear\u001b[0m \u001b[1;33m=\u001b[0m \u001b[0minputyear\u001b[0m\u001b[1;33m\u001b[0m\u001b[1;33m\u001b[0m\u001b[0m\n\u001b[0;32m      9\u001b[0m     \u001b[1;32mif\u001b[0m \u001b[1;33m(\u001b[0m\u001b[0mresult\u001b[0m \u001b[1;33m<\u001b[0m \u001b[1;36m0\u001b[0m\u001b[1;33m)\u001b[0m\u001b[1;33m:\u001b[0m\u001b[1;33m\u001b[0m\u001b[1;33m\u001b[0m\u001b[0m\n",
      "\u001b[1;31mTypeError\u001b[0m: unsupported operand type(s) for +: 'int' and 'str'"
     ]
    }
   ],
   "source": [
    "postweek(\"202020\",\"30\")"
   ]
  },
  {
   "cell_type": "code",
   "execution_count": 6,
   "metadata": {},
   "outputs": [],
   "source": [
    "import isoweek"
   ]
  },
  {
   "cell_type": "code",
   "execution_count": 114,
   "metadata": {},
   "outputs": [],
   "source": [
    "def postweek(yearweek, Wantweek):\n",
    "    if type(Wantweek) == str : Wantweek = int(Wantweek)       #option이 str로 입력됐을 때 int로 변환\n",
    "    if type(yearweek) == int : yearweek = str(yearweek) #yearweek이 int로 입력됐을 때 str로 변환\n",
    "    inputyear = int(yearweek[:4])\n",
    "    # inputyear = postweek 함수의 첫번째 파라미터인 yearweek 값의 앞에서 4번째 문자열을 인덱싱\n",
    "    inputweek = int(yearweek[4:])\n",
    "    # inputyear = postweek 함수의 두번째 파라미터인 Wantweek 값의 5번째부터 마지막까지 문자열을 인덱싱\n",
    "    Maxweek = isoweek.Week.last_week_of_year(inputyear)[1]\n",
    "    # 현재년도의 최대주차정보 \n",
    "    result = int((inputweek + Wantweek) - Maxweek)\n",
    "    #입력된 현재주차 + 원하는 미래주차 에서 현재년도 최대주차를 차감해서 result변수에 담는다.\n",
    "    year = inputyear\n",
    "    # year 변수에 최초값을 inputyear로 지정하여 이후 아래 반복문에서 year가 증가할때마다 변경시켜준다 \n",
    "    if (result <= 0):\n",
    "        # 만약 \n",
    "        if len(str(inputweek+Wantweek)) == 1 :\n",
    "            resultYearweek = str(year) + \"0\" + str(inputweek+Wantweek) \n",
    "        else:\n",
    "            resultYearweek = str(year) + str(inputweek+Wantweek) \n",
    "        return resultYearweek\n",
    "    else:\n",
    "        while(True):\n",
    "            year = year + 1\n",
    "            maxWeek = isoweek.Week.last_week_of_year(year)[1]\n",
    "            if result == maxWeek:\n",
    "                resultYearweek = str(year) + str(maxWeek)\n",
    "                break;\n",
    "            elif result < maxWeek:\n",
    "                if len(str(result)) == 1:\n",
    "                    resultYearweek = str(year) + \"0\" + str(result)\n",
    "                else:\n",
    "                    resultYearweek = str(year) + str(result)\n",
    "                break;\n",
    "            result  = result - maxWeek\n",
    "    return resultYearweek"
   ]
  },
  {
   "cell_type": "code",
   "execution_count": 115,
   "metadata": {},
   "outputs": [
    {
     "data": {
      "text/plain": [
       "'202152'"
      ]
     },
     "execution_count": 115,
     "metadata": {},
     "output_type": "execute_result"
    }
   ],
   "source": [
    "postweek(202010, 95)"
   ]
  },
  {
   "cell_type": "code",
   "execution_count": 123,
   "metadata": {},
   "outputs": [
    {
     "data": {
      "text/plain": [
       "'202152'"
      ]
     },
     "execution_count": 123,
     "metadata": {},
     "output_type": "execute_result"
    }
   ],
   "source": [
    "from fintechlab import CommonFunction as cf\n",
    "cf.postWeek(202010,95)"
   ]
  },
  {
   "cell_type": "code",
   "execution_count": 124,
   "metadata": {},
   "outputs": [],
   "source": [
    "testYearweek = 202020\n",
    "testGap = list(range(0,1000))"
   ]
  },
  {
   "cell_type": "code",
   "execution_count": 126,
   "metadata": {},
   "outputs": [],
   "source": [
    "for i in range(0,len(testGap)):\n",
    "    webFuncResult = cf.postWeek(testYearweek, testGap[i])\n",
    "    myFuncResult = postweek(testYearweek, testGap[i])\n",
    "    if(webFuncResult == myFuncResult):\n",
    "        pass\n",
    "    else:\n",
    "        print(i, \"error\")\n",
    "        if i == (len(testGap)-1):\n",
    "            print(\"finish\")"
   ]
  },
  {
   "cell_type": "code",
   "execution_count": null,
   "metadata": {},
   "outputs": [],
   "source": []
  },
  {
   "cell_type": "code",
   "execution_count": null,
   "metadata": {},
   "outputs": [],
   "source": []
  },
  {
   "cell_type": "code",
   "execution_count": 119,
   "metadata": {},
   "outputs": [
    {
     "name": "stdout",
     "output_type": "stream",
     "text": [
      "Collecting fintechlab\n",
      "  Using cached fintechlab-0.1.3.tar.gz (1.8 kB)\n",
      "Requirement already satisfied: isoweek in c:\\users\\smart-25\\anaconda3\\lib\\site-packages (from fintechlab) (1.3.3)\n",
      "Building wheels for collected packages: fintechlab\n",
      "  Building wheel for fintechlab (setup.py): started\n",
      "  Building wheel for fintechlab (setup.py): finished with status 'done'\n",
      "  Created wheel for fintechlab: filename=fintechlab-0.1.3-py3-none-any.whl size=2329 sha256=3136644706b647846ca382c3b93f18a416c594ade7b75bed15c77cd3af68a838\n",
      "  Stored in directory: c:\\users\\smart-25\\appdata\\local\\pip\\cache\\wheels\\34\\a6\\83\\4bde003ba67eaa48c9d4d8744e9351483e9f09e6cf59c1febc\n",
      "Successfully built fintechlab\n",
      "Installing collected packages: fintechlab\n",
      "Successfully installed fintechlab-0.1.3\n",
      "Note: you may need to restart the kernel to use updated packages.\n"
     ]
    }
   ],
   "source": [
    "pip install fintechlab"
   ]
  },
  {
   "cell_type": "code",
   "execution_count": null,
   "metadata": {},
   "outputs": [],
   "source": []
  },
  {
   "cell_type": "code",
   "execution_count": null,
   "metadata": {},
   "outputs": [],
   "source": []
  },
  {
   "cell_type": "code",
   "execution_count": null,
   "metadata": {},
   "outputs": [],
   "source": []
  },
  {
   "cell_type": "code",
   "execution_count": null,
   "metadata": {},
   "outputs": [],
   "source": []
  },
  {
   "cell_type": "code",
   "execution_count": null,
   "metadata": {},
   "outputs": [],
   "source": []
  },
  {
   "cell_type": "code",
   "execution_count": 116,
   "metadata": {},
   "outputs": [],
   "source": [
    "def postweek(yearweek, Wantweek):\n",
    "    if type(Wantweek) == str : Wantweek = int(Wantweek)    \n",
    "    if type(yearweek) == int : yearweek = str(yearweek) \n",
    "    inputyear = int(yearweek[:4])\n",
    "    inputweek = int(yearweek[4:])\n",
    "    i = inputyear\n",
    "    Maxweek = isoweek.Week.last_week_of_year(inputyear)[1]\n",
    "    result = int((inputweek + Wantweek) - Maxweek)\n",
    "    year = inputyear\n",
    "    if (result <= 0):\n",
    "        if len(str(inputweek+Wantweek)) == 1 :\n",
    "            resultYearweek = str(year) + \"0\" + str(inputweek+Wantweek) \n",
    "        else:\n",
    "            resultYearweek = str(year) + str(inputweek+Wantweek) \n",
    "        return resultYearweek\n",
    "    else:\n",
    "        while(True):\n",
    "            year = year + 1\n",
    "            maxWeek = isoweek.Week.last_week_of_year(year)[1]\n",
    "            if result == maxWeek:\n",
    "                resultYearweek = str(year) + str(maxWeek)\n",
    "                break;\n",
    "            elif result < maxWeek:\n",
    "                if len(str(result)) == 1:\n",
    "                    resultYearweek = str(year) + \"0\" + str(result)\n",
    "                else:\n",
    "                    resultYearweek = str(year) + str(result)\n",
    "                break;\n",
    "            result  = result - maxWeek\n",
    "    return resultYearweek"
   ]
  },
  {
   "cell_type": "code",
   "execution_count": 117,
   "metadata": {},
   "outputs": [
    {
     "name": "stdout",
     "output_type": "stream",
     "text": [
      "202101\n"
     ]
    }
   ],
   "source": [
    "print(postweek(201911, 95))"
   ]
  },
  {
   "cell_type": "code",
   "execution_count": 27,
   "metadata": {},
   "outputs": [],
   "source": [
    "def getYearweek(yearweek, option):\n",
    "\n",
    "    if type(option) == str : option = int(option)       #option이 str로 입력됐을 때 int로 변환\n",
    "    if type(yearweek) == int : yearweek = str(yearweek) #yearweek이 int로 입력됐을 때 str로 변환\n",
    "    inputYear = int(yearweek[:4])\n",
    "    inputWeek = int(yearweek[4:])\n",
    "    newWeek = inputWeek\n",
    "    i = 1\n",
    "    if (inputWeek <= option)  :  \n",
    "        while ((newWeek <= option)==True):  #누적받는 newweek 이 option보다 작은동안 while문을 돌린다.\n",
    "            newYear = inputYear - i         #입력년도 - i를 이용해 년도 수를 줄여나간다.\n",
    "            newWeek = newWeek + Week.last_week_of_year(newYear).week #해당 년도의 maxweek값을 구해 newweek에 더해준다.\n",
    "            i = i +1\n",
    "            if (newWeek > option) :      #만약 newweek이 option보다 커지면 newweek-option 실행 후 break\n",
    "                result = str(newWeek - option) \n",
    "                if len(result) == 1 :  \n",
    "                    result = \"0\" + result \n",
    "                break\n",
    "        return str(newYear) + str(result) #줄어든 year과 결과값을 문자열로 변경해 이어준다.\n",
    "    else : #week이 option보다 큰 경우 \n",
    "        result =  str(inputWeek - option)\n",
    "        if len(result) == 1 :\n",
    "            result = \"0\" + result\n",
    "            result = str(inputYear) + result\n",
    "            return result\n",
    "        else: \n",
    "            result = str(inputYear) + result\n",
    "            return result"
   ]
  },
  {
   "cell_type": "code",
   "execution_count": 29,
   "metadata": {},
   "outputs": [
    {
     "ename": "NameError",
     "evalue": "name 'Week' is not defined",
     "output_type": "error",
     "traceback": [
      "\u001b[1;31m---------------------------------------------------------------------------\u001b[0m",
      "\u001b[1;31mNameError\u001b[0m                                 Traceback (most recent call last)",
      "\u001b[1;32m<ipython-input-29-3d9aeeed0c09>\u001b[0m in \u001b[0;36m<module>\u001b[1;34m\u001b[0m\n\u001b[1;32m----> 1\u001b[1;33m \u001b[0mgetYearweek\u001b[0m\u001b[1;33m(\u001b[0m\u001b[1;36m202053\u001b[0m\u001b[1;33m,\u001b[0m\u001b[1;36m120\u001b[0m\u001b[1;33m)\u001b[0m\u001b[1;33m\u001b[0m\u001b[1;33m\u001b[0m\u001b[0m\n\u001b[0m",
      "\u001b[1;32m<ipython-input-27-3f247bebb980>\u001b[0m in \u001b[0;36mgetYearweek\u001b[1;34m(yearweek, option)\u001b[0m\n\u001b[0;32m     21\u001b[0m             \u001b[0mnewYear\u001b[0m \u001b[1;33m=\u001b[0m \u001b[0minputYear\u001b[0m \u001b[1;33m-\u001b[0m \u001b[0mi\u001b[0m         \u001b[1;31m#입력년도 - i를 이용해 년도 수를 줄여나간다.\u001b[0m\u001b[1;33m\u001b[0m\u001b[1;33m\u001b[0m\u001b[0m\n\u001b[0;32m     22\u001b[0m \u001b[1;33m\u001b[0m\u001b[0m\n\u001b[1;32m---> 23\u001b[1;33m             \u001b[0mnewWeek\u001b[0m \u001b[1;33m=\u001b[0m \u001b[0mnewWeek\u001b[0m \u001b[1;33m+\u001b[0m \u001b[0mWeek\u001b[0m\u001b[1;33m.\u001b[0m\u001b[0mlast_week_of_year\u001b[0m\u001b[1;33m(\u001b[0m\u001b[0mnewYear\u001b[0m\u001b[1;33m)\u001b[0m\u001b[1;33m.\u001b[0m\u001b[0mweek\u001b[0m \u001b[1;31m#해당 년도의 maxweek값을 구해 newweek에 더해준다.\u001b[0m\u001b[1;33m\u001b[0m\u001b[1;33m\u001b[0m\u001b[0m\n\u001b[0m\u001b[0;32m     24\u001b[0m \u001b[1;33m\u001b[0m\u001b[0m\n\u001b[0;32m     25\u001b[0m             \u001b[0mi\u001b[0m \u001b[1;33m=\u001b[0m \u001b[0mi\u001b[0m \u001b[1;33m+\u001b[0m\u001b[1;36m1\u001b[0m\u001b[1;33m\u001b[0m\u001b[1;33m\u001b[0m\u001b[0m\n",
      "\u001b[1;31mNameError\u001b[0m: name 'Week' is not defined"
     ]
    }
   ],
   "source": [
    "getYearweek(202053,120)"
   ]
  },
  {
   "cell_type": "code",
   "execution_count": null,
   "metadata": {},
   "outputs": [],
   "source": []
  }
 ],
 "metadata": {
  "kernelspec": {
   "display_name": "Python 3",
   "language": "python",
   "name": "python3"
  },
  "language_info": {
   "codemirror_mode": {
    "name": "ipython",
    "version": 3
   },
   "file_extension": ".py",
   "mimetype": "text/x-python",
   "name": "python",
   "nbconvert_exporter": "python",
   "pygments_lexer": "ipython3",
   "version": "3.8.3"
  }
 },
 "nbformat": 4,
 "nbformat_minor": 4
}
